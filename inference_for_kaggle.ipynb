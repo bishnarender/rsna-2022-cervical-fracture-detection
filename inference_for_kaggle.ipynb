{
 "cells": [
  {
   "cell_type": "code",
   "execution_count": 1,
   "id": "d681571a",
   "metadata": {
    "execution": {
     "iopub.execute_input": "2023-04-07T10:20:42.756393Z",
     "iopub.status.busy": "2023-04-07T10:20:42.755697Z",
     "iopub.status.idle": "2023-04-07T10:20:42.766660Z",
     "shell.execute_reply": "2023-04-07T10:20:42.765729Z"
    },
    "papermill": {
     "duration": 0.022143,
     "end_time": "2023-04-07T10:20:42.768799",
     "exception": false,
     "start_time": "2023-04-07T10:20:42.746656",
     "status": "completed"
    },
    "tags": []
   },
   "outputs": [],
   "source": [
    "import os\n",
    "import sys\n",
    "sys.path = [\n",
    "#     '../input/nar-rsna-library/segmentation-models.pytorch-0.2.1/segmentation-models.pytorch-0.2.1',    \n",
    "    '../input/narrsna20221npyfiles',\n",
    "    '../input/nar-rsna-library/efficientnet_pytorch-0.6.3/efficientnet_pytorch-0.6.3',\n",
    "    '../input/nar-rsna-library/pretrainedmodels-0.7.4/pretrainedmodels-0.7.4',\n",
    "    '../input/nar-rsna-library/pylibjpeg-1.4.0/pylibjpeg-1.4.0',    \n",
    "    '../input/nar-rsna-library/pydicom-2.3.0/pydicom-2.3.0',    \n",
    "    '../input/nar-rsna-library/pytorch-image-models-0.6.12/pytorch-image-models-0.6.12',     \n",
    "] + sys.path"
   ]
  },
  {
   "cell_type": "code",
   "execution_count": null,
   "id": "755b776e",
   "metadata": {
    "papermill": {
     "duration": 0.005985,
     "end_time": "2023-04-07T10:20:42.780876",
     "exception": false,
     "start_time": "2023-04-07T10:20:42.774891",
     "status": "completed"
    },
    "tags": []
   },
   "outputs": [],
   "source": []
  },
  {
   "cell_type": "code",
   "execution_count": 2,
   "id": "d29ffddd",
   "metadata": {
    "execution": {
     "iopub.execute_input": "2023-04-07T10:20:42.795146Z",
     "iopub.status.busy": "2023-04-07T10:20:42.793690Z",
     "iopub.status.idle": "2023-04-07T10:20:44.920952Z",
     "shell.execute_reply": "2023-04-07T10:20:44.919589Z"
    },
    "papermill": {
     "duration": 2.136688,
     "end_time": "2023-04-07T10:20:44.923618",
     "exception": false,
     "start_time": "2023-04-07T10:20:42.786930",
     "status": "completed"
    },
    "tags": []
   },
   "outputs": [],
   "source": [
    "!cp -r ../input/nar-rsna-library/pytorch-image-models-0.4.12/pytorch-image-models-0.4.12/timm ./timm4smp"
   ]
  },
  {
   "cell_type": "code",
   "execution_count": null,
   "id": "ee54d511",
   "metadata": {
    "papermill": {
     "duration": 0.005829,
     "end_time": "2023-04-07T10:20:44.935973",
     "exception": false,
     "start_time": "2023-04-07T10:20:44.930144",
     "status": "completed"
    },
    "tags": []
   },
   "outputs": [],
   "source": []
  },
  {
   "cell_type": "code",
   "execution_count": 3,
   "id": "4632670c",
   "metadata": {
    "execution": {
     "iopub.execute_input": "2023-04-07T10:20:44.950623Z",
     "iopub.status.busy": "2023-04-07T10:20:44.949520Z",
     "iopub.status.idle": "2023-04-07T10:21:30.141695Z",
     "shell.execute_reply": "2023-04-07T10:21:30.140495Z"
    },
    "papermill": {
     "duration": 45.202273,
     "end_time": "2023-04-07T10:21:30.144318",
     "exception": false,
     "start_time": "2023-04-07T10:20:44.942045",
     "status": "completed"
    },
    "tags": []
   },
   "outputs": [
    {
     "name": "stdout",
     "output_type": "stream",
     "text": [
      "\u001b[33mWARNING: Running pip as the 'root' user can result in broken permissions and conflicting behaviour with the system package manager. It is recommended to use a virtual environment instead: https://pip.pypa.io/warnings/venv\u001b[0m\u001b[33m\r\n",
      "\u001b[0m\u001b[33mWARNING: There was an error checking the latest version of pip.\u001b[0m\u001b[33m\r\n",
      "\u001b[0m\u001b[33mWARNING: Running pip as the 'root' user can result in broken permissions and conflicting behaviour with the system package manager. It is recommended to use a virtual environment instead: https://pip.pypa.io/warnings/venv\u001b[0m\u001b[33m\r\n",
      "\u001b[0m\u001b[33mWARNING: There was an error checking the latest version of pip.\u001b[0m\u001b[33m\r\n",
      "\u001b[0m"
     ]
    }
   ],
   "source": [
    "!pip -q install ../input/nar-rsna-library/segmentation_models_pytorch-0.2.1-py3-none-any.whl --no-deps\n",
    "!pip -q install ../input/nar-rsna-library/python_gdcm-3.0.20-cp37-cp37m-manylinux_2_17_x86_64.manylinux2014_x86_64.whl --no-deps"
   ]
  },
  {
   "cell_type": "code",
   "execution_count": null,
   "id": "a4657514",
   "metadata": {
    "papermill": {
     "duration": 0.006185,
     "end_time": "2023-04-07T10:21:30.157087",
     "exception": false,
     "start_time": "2023-04-07T10:21:30.150902",
     "status": "completed"
    },
    "tags": []
   },
   "outputs": [],
   "source": []
  },
  {
   "cell_type": "code",
   "execution_count": 4,
   "id": "68ea75bc",
   "metadata": {
    "execution": {
     "iopub.execute_input": "2023-04-07T10:21:30.171738Z",
     "iopub.status.busy": "2023-04-07T10:21:30.170718Z",
     "iopub.status.idle": "2023-04-07T10:21:30.176183Z",
     "shell.execute_reply": "2023-04-07T10:21:30.175263Z"
    },
    "papermill": {
     "duration": 0.015025,
     "end_time": "2023-04-07T10:21:30.178288",
     "exception": false,
     "start_time": "2023-04-07T10:21:30.163263",
     "status": "completed"
    },
    "tags": []
   },
   "outputs": [],
   "source": [
    "DEBUG = False"
   ]
  },
  {
   "cell_type": "code",
   "execution_count": 5,
   "id": "768df08a",
   "metadata": {
    "execution": {
     "iopub.execute_input": "2023-04-07T10:21:30.192703Z",
     "iopub.status.busy": "2023-04-07T10:21:30.191835Z",
     "iopub.status.idle": "2023-04-07T10:21:37.776089Z",
     "shell.execute_reply": "2023-04-07T10:21:37.774846Z"
    },
    "papermill": {
     "duration": 7.594693,
     "end_time": "2023-04-07T10:21:37.779152",
     "exception": false,
     "start_time": "2023-04-07T10:21:30.184459",
     "status": "completed"
    },
    "tags": []
   },
   "outputs": [],
   "source": [
    "import segmentation_models_pytorch as smp\n",
    "import gc, ast, cv2, time, timm, timm4smp, pickle, random, pylibjpeg, pydicom\n",
    "import argparse\n",
    "import warnings\n",
    "import threading\n",
    "import numpy as np\n",
    "import pandas as pd\n",
    "from PIL import Image\n",
    "from tqdm import tqdm\n",
    "from glob import glob\n",
    "\n",
    "\n",
    "import torch\n",
    "import torch.nn as nn\n",
    "import torch.optim as optim\n",
    "import torch.cuda.amp as amp\n",
    "import torch.nn.functional as F\n",
    "from torch.utils.data import DataLoader, Dataset\n",
    "\n",
    "\n",
    "device = torch.device('cuda')\n",
    "torch.backends.cudnn.benchmark = True"
   ]
  },
  {
   "cell_type": "code",
   "execution_count": 6,
   "id": "788ca872",
   "metadata": {
    "execution": {
     "iopub.execute_input": "2023-04-07T10:21:37.793305Z",
     "iopub.status.busy": "2023-04-07T10:21:37.792954Z",
     "iopub.status.idle": "2023-04-07T10:21:37.798372Z",
     "shell.execute_reply": "2023-04-07T10:21:37.797247Z"
    },
    "papermill": {
     "duration": 0.015338,
     "end_time": "2023-04-07T10:21:37.800934",
     "exception": false,
     "start_time": "2023-04-07T10:21:37.785596",
     "status": "completed"
    },
    "tags": []
   },
   "outputs": [],
   "source": [
    "data_dir = '../input/rsna-2022-cervical-spine-fracture-detection'\n",
    "image_size_seg = (128, 128, 128)\n",
    "msk_size = image_size_seg[0]\n",
    "image_size_cls = 224\n",
    "n_slice_per_c = 15\n",
    "n_ch = 5\n",
    "\n",
    "batch_size_seg = 1\n",
    "num_workers = 2\n",
    "model_dir_seg = '../input/nar-rsna-2022-models/kaggle'"
   ]
  },
  {
   "cell_type": "code",
   "execution_count": 7,
   "id": "875f16b2",
   "metadata": {
    "execution": {
     "iopub.execute_input": "2023-04-07T10:21:37.815728Z",
     "iopub.status.busy": "2023-04-07T10:21:37.814880Z",
     "iopub.status.idle": "2023-04-07T10:21:37.849399Z",
     "shell.execute_reply": "2023-04-07T10:21:37.848311Z"
    },
    "papermill": {
     "duration": 0.04444,
     "end_time": "2023-04-07T10:21:37.852161",
     "exception": false,
     "start_time": "2023-04-07T10:21:37.807721",
     "status": "completed"
    },
    "tags": []
   },
   "outputs": [
    {
     "data": {
      "text/html": [
       "<div>\n",
       "<style scoped>\n",
       "    .dataframe tbody tr th:only-of-type {\n",
       "        vertical-align: middle;\n",
       "    }\n",
       "\n",
       "    .dataframe tbody tr th {\n",
       "        vertical-align: top;\n",
       "    }\n",
       "\n",
       "    .dataframe thead th {\n",
       "        text-align: right;\n",
       "    }\n",
       "</style>\n",
       "<table border=\"1\" class=\"dataframe\">\n",
       "  <thead>\n",
       "    <tr style=\"text-align: right;\">\n",
       "      <th></th>\n",
       "      <th>StudyInstanceUID</th>\n",
       "      <th>image_folder</th>\n",
       "    </tr>\n",
       "  </thead>\n",
       "  <tbody>\n",
       "    <tr>\n",
       "      <th>0</th>\n",
       "      <td>1.2.826.0.1.3680043.22327</td>\n",
       "      <td>../input/rsna-2022-cervical-spine-fracture-det...</td>\n",
       "    </tr>\n",
       "    <tr>\n",
       "      <th>1</th>\n",
       "      <td>1.2.826.0.1.3680043.25399</td>\n",
       "      <td>../input/rsna-2022-cervical-spine-fracture-det...</td>\n",
       "    </tr>\n",
       "    <tr>\n",
       "      <th>2</th>\n",
       "      <td>1.2.826.0.1.3680043.5876</td>\n",
       "      <td>../input/rsna-2022-cervical-spine-fracture-det...</td>\n",
       "    </tr>\n",
       "  </tbody>\n",
       "</table>\n",
       "</div>"
      ],
      "text/plain": [
       "            StudyInstanceUID  \\\n",
       "0  1.2.826.0.1.3680043.22327   \n",
       "1  1.2.826.0.1.3680043.25399   \n",
       "2   1.2.826.0.1.3680043.5876   \n",
       "\n",
       "                                        image_folder  \n",
       "0  ../input/rsna-2022-cervical-spine-fracture-det...  \n",
       "1  ../input/rsna-2022-cervical-spine-fracture-det...  \n",
       "2  ../input/rsna-2022-cervical-spine-fracture-det...  "
      ]
     },
     "execution_count": 7,
     "metadata": {},
     "output_type": "execute_result"
    }
   ],
   "source": [
    "if DEBUG:\n",
    "    df = pd.read_csv(os.path.join(data_dir, 'train.csv'))\n",
    "    df = pd.DataFrame({\n",
    "        'StudyInstanceUID': df['StudyInstanceUID'].unique().tolist()\n",
    "    })\n",
    "    df['image_folder'] = df['StudyInstanceUID'].apply(lambda x: os.path.join(data_dir, 'train_images', x))\n",
    "else:\n",
    "    df = pd.read_csv(os.path.join(data_dir, 'test.csv'))\n",
    "    if df.iloc[0].row_id == '1.2.826.0.1.3680043.10197_C1':\n",
    "        # test_images and test.csv are inconsistent in the dev dataset, fixing labels for the dev run.\n",
    "        df = pd.DataFrame({\"row_id\": ['1.2.826.0.1.3680043.22327_C1', '1.2.826.0.1.3680043.25399_C1', '1.2.826.0.1.3680043.5876_C1'],\n",
    "                               \"StudyInstanceUID\": ['1.2.826.0.1.3680043.22327', '1.2.826.0.1.3680043.25399', '1.2.826.0.1.3680043.5876'],\n",
    "                               \"prediction_type\": [\"C1\", \"C1\", \"C1\"]}\n",
    "                         )\n",
    "\n",
    "    df = pd.DataFrame({\n",
    "        'StudyInstanceUID': df['StudyInstanceUID'].unique().tolist()\n",
    "    })\n",
    "    df['image_folder'] = df['StudyInstanceUID'].apply(lambda x: os.path.join(data_dir, 'test_images', x))\n",
    "\n",
    "df.tail()"
   ]
  },
  {
   "cell_type": "code",
   "execution_count": null,
   "id": "1cd62934",
   "metadata": {
    "papermill": {
     "duration": 0.006225,
     "end_time": "2023-04-07T10:21:37.864737",
     "exception": false,
     "start_time": "2023-04-07T10:21:37.858512",
     "status": "completed"
    },
    "tags": []
   },
   "outputs": [],
   "source": []
  },
  {
   "cell_type": "markdown",
   "id": "00e09267",
   "metadata": {
    "papermill": {
     "duration": 0.006107,
     "end_time": "2023-04-07T10:21:37.877218",
     "exception": false,
     "start_time": "2023-04-07T10:21:37.871111",
     "status": "completed"
    },
    "tags": []
   },
   "source": [
    "# Dataset"
   ]
  },
  {
   "cell_type": "code",
   "execution_count": 8,
   "id": "3843f77f",
   "metadata": {
    "execution": {
     "iopub.execute_input": "2023-04-07T10:21:37.891063Z",
     "iopub.status.busy": "2023-04-07T10:21:37.890771Z",
     "iopub.status.idle": "2023-04-07T10:21:37.901432Z",
     "shell.execute_reply": "2023-04-07T10:21:37.900393Z"
    },
    "papermill": {
     "duration": 0.01982,
     "end_time": "2023-04-07T10:21:37.903359",
     "exception": false,
     "start_time": "2023-04-07T10:21:37.883539",
     "status": "completed"
    },
    "tags": []
   },
   "outputs": [],
   "source": [
    "def load_dicom(path):\n",
    "    dicom = pydicom.read_file(path)\n",
    "    data = dicom.pixel_array\n",
    "    data = cv2.resize(data, (image_size_seg[0], image_size_seg[1]), interpolation = cv2.INTER_AREA)\n",
    "    return data\n",
    "\n",
    "\n",
    "def load_dicom_line_par(path):\n",
    "    t_paths = sorted(glob(os.path.join(path, \"*\")), key=lambda x: int(x.split('/')[-1].split(\".\")[0]))\n",
    "    n_scans = len(t_paths)\n",
    "    indices = np.quantile(list(range(n_scans)), np.linspace(0., 1., image_size_seg[2])).round().astype(int)\n",
    "    t_paths = [t_paths[i] for i in indices]\n",
    "    images = []\n",
    "    for filename in t_paths:\n",
    "        images.append(load_dicom(filename))\n",
    "    images = np.stack(images, 0) \n",
    "    images = images - np.min(images)\n",
    "    images = images / (np.max(images) + 1e-4)\n",
    "    images = (images * 255).astype(np.uint8)\n",
    "    return images, indices\n",
    "\n",
    "\n",
    "class SegTestDataset(Dataset):\n",
    "    def __init__(self, df):\n",
    "        self.df = df.reset_index()\n",
    "    def __len__(self):\n",
    "        return self.df.shape[0]\n",
    "    def __getitem__(self, index):\n",
    "        row = self.df.iloc[index]\n",
    "        image, index = load_dicom_line_par(row.image_folder)\n",
    "        if image.ndim < 4:\n",
    "            image = np.expand_dims(image, axis=0).repeat(3, axis=0)\n",
    "        image = image / 255.\n",
    "        return torch.tensor(image).float(), index"
   ]
  },
  {
   "cell_type": "code",
   "execution_count": null,
   "id": "e9ad5b39",
   "metadata": {
    "papermill": {
     "duration": 0.006171,
     "end_time": "2023-04-07T10:21:37.916461",
     "exception": false,
     "start_time": "2023-04-07T10:21:37.910290",
     "status": "completed"
    },
    "tags": []
   },
   "outputs": [],
   "source": []
  },
  {
   "cell_type": "markdown",
   "id": "61cd49a3",
   "metadata": {
    "papermill": {
     "duration": 0.006087,
     "end_time": "2023-04-07T10:21:37.928836",
     "exception": false,
     "start_time": "2023-04-07T10:21:37.922749",
     "status": "completed"
    },
    "tags": []
   },
   "source": [
    "# Model"
   ]
  },
  {
   "cell_type": "code",
   "execution_count": 9,
   "id": "db9c051a",
   "metadata": {
    "execution": {
     "iopub.execute_input": "2023-04-07T10:21:37.942836Z",
     "iopub.status.busy": "2023-04-07T10:21:37.942558Z",
     "iopub.status.idle": "2023-04-07T10:21:37.987725Z",
     "shell.execute_reply": "2023-04-07T10:21:37.986831Z"
    },
    "papermill": {
     "duration": 0.054571,
     "end_time": "2023-04-07T10:21:37.989777",
     "exception": false,
     "start_time": "2023-04-07T10:21:37.935206",
     "status": "completed"
    },
    "tags": []
   },
   "outputs": [],
   "source": [
    "from conv2d_same import Conv2dSame\n",
    "from conv3d_same import Conv3dSame\n",
    "def convert_3d(module):\n",
    "    module_output = module\n",
    "    if isinstance(module, torch.nn.BatchNorm2d):\n",
    "        module_output = torch.nn.BatchNorm3d(\n",
    "            module.num_features,\n",
    "            module.eps,\n",
    "            module.momentum,\n",
    "            module.affine,\n",
    "            module.track_running_stats,\n",
    "        )        \n",
    "        if module.affine:\n",
    "            with torch.no_grad():\n",
    "                module_output.weight = module.weight\n",
    "                module_output.bias = module.bias\n",
    "        module_output.running_mean = module.running_mean\n",
    "        module_output.running_var = module.running_var\n",
    "        module_output.num_batches_tracked = module.num_batches_tracked\n",
    "        if hasattr(module, \"qconfig\"):\n",
    "            module_output.qconfig = module.qconfig            \n",
    "    elif isinstance(module, Conv2dSame):\n",
    "        module_output = Conv3dSame(\n",
    "            in_channels=module.in_channels,\n",
    "            out_channels=module.out_channels,\n",
    "            kernel_size=module.kernel_size[0],\n",
    "            stride=module.stride[0],\n",
    "            padding=module.padding[0],\n",
    "            dilation=module.dilation[0],\n",
    "            groups=module.groups,\n",
    "            bias=module.bias is not None,\n",
    "        )\n",
    "        module_output.weight = torch.nn.Parameter(module.weight.unsqueeze(-1).repeat(1,1,1,1,module.kernel_size[0]))\n",
    "    elif isinstance(module, torch.nn.Conv2d):\n",
    "        module_output = torch.nn.Conv3d(\n",
    "            in_channels=module.in_channels,\n",
    "            out_channels=module.out_channels,\n",
    "            kernel_size=module.kernel_size[0],\n",
    "            stride=module.stride[0],\n",
    "            padding=module.padding[0],\n",
    "            dilation=module.dilation[0],\n",
    "            groups=module.groups,\n",
    "            bias=module.bias is not None,\n",
    "            padding_mode=module.padding_mode\n",
    "        )\n",
    "        module_output.weight = torch.nn.Parameter(module.weight.unsqueeze(-1).repeat(1,1,1,1,module.kernel_size[0]))\n",
    "    elif isinstance(module, torch.nn.MaxPool2d):\n",
    "        module_output = torch.nn.MaxPool3d(\n",
    "            kernel_size=module.kernel_size,\n",
    "            stride=module.stride,\n",
    "            padding=module.padding,\n",
    "            dilation=module.dilation,\n",
    "            ceil_mode=module.ceil_mode,\n",
    "        )\n",
    "    elif isinstance(module, torch.nn.AvgPool2d):\n",
    "        module_output = torch.nn.AvgPool3d(\n",
    "            kernel_size=module.kernel_size,\n",
    "            stride=module.stride,\n",
    "            padding=module.padding,\n",
    "            ceil_mode=module.ceil_mode,\n",
    "        )\n",
    "    for name, child in module.named_children():\n",
    "        module_output.add_module( name, convert_3d(child) )\n",
    "    del module\n",
    "    return module_output\n",
    "\n",
    "class TimmSegModel(nn.Module):\n",
    "    def __init__(self, backbone, segtype='unet', pretrained=False):\n",
    "        super(TimmSegModel, self).__init__()\n",
    "        self.encoder = timm4smp.create_model( \n",
    "            backbone,\n",
    "            in_chans=3,\n",
    "            features_only=True,\n",
    "            pretrained=pretrained\n",
    "        )\n",
    "        g = self.encoder(torch.rand(1, 3, 64, 64))\n",
    "        encoder_channels = [1] + [_.shape[1] for _ in g]\n",
    "        decoder_channels = [160, 64, 48, 24, 16]   \n",
    "        if segtype == 'unet':\n",
    "            self.decoder = smp.unet.decoder.UnetDecoder(\n",
    "                encoder_channels=encoder_channels[:n_blocks+1],\n",
    "                decoder_channels=decoder_channels[:n_blocks],\n",
    "                n_blocks=n_blocks,\n",
    "                attention_type='scse',\n",
    "            )\n",
    "        self.segmentation_head = nn.Conv2d(decoder_channels[n_blocks-1], 7, kernel_size=(3, 3), stride=(1, 1), padding=(1, 1))\n",
    "    def forward(self,x):\n",
    "        enc_features = self.encoder(x)[:n_blocks]\n",
    "        f, d = enc_features[0].shape[0], enc_features[0].device\n",
    "        a = [24,48,64,160]\n",
    "        b = [63,31,15,7]\n",
    "        enc_features = [torch.cat((feat, torch.zeros((f,a[i],1,b[i],b[i]), device=d).float()), dim=2) for i, feat in enumerate(enc_features)]\n",
    "        enc_features = [torch.cat((feat, torch.zeros((f,a[i],b[i]+1,1,b[i]), device=d).float()), dim=3) for i, feat in enumerate(enc_features)]      \n",
    "        enc_features = [torch.cat((feat, torch.zeros((f,a[i],b[i]+1,b[i]+1,1), device=d).float()), dim=4) for i, feat in enumerate(enc_features)]           \n",
    "        global_features = [0] + enc_features\n",
    "        seg_features = self.decoder(*global_features)\n",
    "        seg_features = self.segmentation_head(seg_features)\n",
    "        return seg_features\n",
    "    \n",
    "class TimmModel(nn.Module):\n",
    "    def __init__(self, backbone, pretrained=False):\n",
    "        super(TimmModel, self).__init__()\n",
    "        self.encoder = timm.create_model(\n",
    "            backbone,\n",
    "            in_chans=in_chans,\n",
    "            num_classes=out_dim,\n",
    "            features_only=False,\n",
    "            drop_rate=drop_rate,\n",
    "            drop_path_rate=drop_path_rate,\n",
    "            pretrained=pretrained\n",
    "        )        \n",
    "        if 'efficient' in backbone:\n",
    "            hdim = self.encoder.conv_head.out_channels\n",
    "            self.encoder.classifier = nn.Identity()\n",
    "        elif 'convnext' in backbone:\n",
    "            hdim = self.encoder.head.fc.in_features\n",
    "            self.encoder.head.fc = nn.Identity()\n",
    "        self.lstm = nn.LSTM(hdim, 256, num_layers=2, dropout=drop_rate, bidirectional=True, batch_first=True)\n",
    "        self.head = nn.Sequential(\n",
    "            nn.Linear(512, 256),\n",
    "            nn.InstanceNorm1d(256),\n",
    "            nn.Dropout(drop_rate_last),\n",
    "            nn.LeakyReLU(0.1),\n",
    "            nn.Linear(256, out_dim),\n",
    "        )\n",
    "\n",
    "    def forward(self, x):  \n",
    "        bs = x.shape[0]        \n",
    "        x = x.view(bs * n_slice_per_c, in_chans, image_size, image_size)        \n",
    "        feat = self.encoder(x)        \n",
    "        feat = feat.view(bs, n_slice_per_c, -1)        \n",
    "        feat, _ = self.lstm(feat) \n",
    "        feat = feat.contiguous().view(bs * n_slice_per_c, -1)    \n",
    "        feat = self.head(feat)\n",
    "        feat = feat.view(bs, n_slice_per_c).contiguous()\n",
    "        return feat    \n",
    "    \n",
    "class TimmModelType2(nn.Module):\n",
    "    def __init__(self, backbone, pretrained=False):\n",
    "        super(TimmModelType2, self).__init__()\n",
    "        self.encoder = timm.create_model(\n",
    "            backbone,\n",
    "            in_chans=in_chans,\n",
    "            num_classes=out_dim,\n",
    "            features_only=False,\n",
    "            drop_rate=drop_rate,\n",
    "            drop_path_rate=drop_path_rate,\n",
    "            pretrained=pretrained\n",
    "        )\n",
    "        if 'efficient' in backbone:\n",
    "            hdim = self.encoder.conv_head.out_channels\n",
    "            self.encoder.classifier = nn.Identity()\n",
    "        elif 'convnext' in backbone:\n",
    "            hdim = self.encoder.head.fc.in_features\n",
    "            self.encoder.head.fc = nn.Identity()\n",
    "        self.lstm = nn.LSTM(hdim, 256, num_layers=2, dropout=drop_rate, bidirectional=True, batch_first=True)\n",
    "        self.head = nn.Sequential(\n",
    "            nn.Linear(512, 256),\n",
    "            nn.InstanceNorm1d(256), \n",
    "            nn.Dropout(drop_rate_last),\n",
    "            nn.LeakyReLU(0.1),\n",
    "            nn.Linear(256, out_dim),\n",
    "        )\n",
    "        self.lstm2 = nn.LSTM(hdim, 256, num_layers=2, dropout=drop_rate, bidirectional=True, batch_first=True)\n",
    "        self.head2 = nn.Sequential(\n",
    "            nn.Linear(512, 256),\n",
    "            nn.InstanceNorm1d(256), \n",
    "            nn.Dropout(drop_rate_last),\n",
    "            nn.LeakyReLU(0.1),\n",
    "            nn.Linear(256, 1),\n",
    "        )\n",
    "\n",
    "    def forward(self, x): \n",
    "        bs = x.shape[0]\n",
    "        x = x.view(bs * n_slice_per_c * 7, in_chans, image_size, image_size)\n",
    "        feat = self.encoder(x)\n",
    "        feat = feat.view(bs, n_slice_per_c * 7, -1)\n",
    "        feat1, _ = self.lstm(feat)\n",
    "        feat1 = feat1.contiguous().view(bs * n_slice_per_c * 7, 512)\n",
    "        feat2, _ = self.lstm2(feat)\n",
    "        return self.head(feat1), self.head2(feat2[:, 0])"
   ]
  },
  {
   "cell_type": "markdown",
   "id": "99397931",
   "metadata": {
    "papermill": {
     "duration": 0.006312,
     "end_time": "2023-04-07T10:21:38.002504",
     "exception": false,
     "start_time": "2023-04-07T10:21:37.996192",
     "status": "completed"
    },
    "tags": []
   },
   "source": [
    "# Load Models"
   ]
  },
  {
   "cell_type": "code",
   "execution_count": 10,
   "id": "13cee86b",
   "metadata": {
    "execution": {
     "iopub.execute_input": "2023-04-07T10:21:38.016284Z",
     "iopub.status.busy": "2023-04-07T10:21:38.016003Z",
     "iopub.status.idle": "2023-04-07T10:21:50.245236Z",
     "shell.execute_reply": "2023-04-07T10:21:50.244009Z"
    },
    "papermill": {
     "duration": 12.238932,
     "end_time": "2023-04-07T10:21:50.247710",
     "exception": false,
     "start_time": "2023-04-07T10:21:38.008778",
     "status": "completed"
    },
    "tags": []
   },
   "outputs": [
    {
     "data": {
      "text/plain": [
       "5"
      ]
     },
     "execution_count": 10,
     "metadata": {},
     "output_type": "execute_result"
    }
   ],
   "source": [
    "kernel_type = 'timm3d_effv2_unet4b_128_128_128_dsv2_flip12_shift333p7_gd1p5_bs4_lr3e4_20x50ep'\n",
    "backbone = 'tf_efficientnetv2_s_in21ft1k'\n",
    "models_seg = []\n",
    "\n",
    "n_blocks = 4\n",
    "for fold in range(5):\n",
    "    model = TimmSegModel(backbone, pretrained=False)\n",
    "    model = convert_3d(model)\n",
    "    model = model.to(device)\n",
    "    load_model_file = os.path.join(model_dir_seg, f'{kernel_type}_fold{fold}_best.pth')\n",
    "    sd = torch.load(load_model_file)\n",
    "    if 'model_state_dict' in sd.keys():\n",
    "        sd = sd['model_state_dict']\n",
    "    sd = {k[7:] if k.startswith('module.') else k: sd[k] for k in sd.keys()}\n",
    "    model.load_state_dict(sd, strict=True)\n",
    "    model.eval()\n",
    "    models_seg.append(model)\n",
    "\n",
    "len(models_seg)"
   ]
  },
  {
   "cell_type": "code",
   "execution_count": null,
   "id": "e65f9238",
   "metadata": {
    "papermill": {
     "duration": 0.007175,
     "end_time": "2023-04-07T10:21:50.262505",
     "exception": false,
     "start_time": "2023-04-07T10:21:50.255330",
     "status": "completed"
    },
    "tags": []
   },
   "outputs": [],
   "source": []
  },
  {
   "cell_type": "code",
   "execution_count": 11,
   "id": "662cfe21",
   "metadata": {
    "execution": {
     "iopub.execute_input": "2023-04-07T10:21:50.278731Z",
     "iopub.status.busy": "2023-04-07T10:21:50.278119Z",
     "iopub.status.idle": "2023-04-07T10:21:58.207264Z",
     "shell.execute_reply": "2023-04-07T10:21:58.206208Z"
    },
    "papermill": {
     "duration": 7.939714,
     "end_time": "2023-04-07T10:21:58.209508",
     "exception": false,
     "start_time": "2023-04-07T10:21:50.269794",
     "status": "completed"
    },
    "tags": []
   },
   "outputs": [
    {
     "data": {
      "text/plain": [
       "5"
      ]
     },
     "execution_count": 11,
     "metadata": {},
     "output_type": "execute_result"
    }
   ],
   "source": [
    "kernel_type = '0920_1bonev2_effv2s_224_15_6ch_augv2_mixupp5_drl3_rov1p2_bs8_lr23e5_eta23e6_50ep'\n",
    "backbone = 'tf_efficientnetv2_s_in21ft1k'\n",
    "\n",
    "image_size = 224\n",
    "in_chans = 6\n",
    "models_cls1 = []\n",
    "out_dim = 1\n",
    "drop_rate = 0.\n",
    "drop_rate_last = 0. \n",
    "drop_path_rate = 0.\n",
    "for fold in range(5):\n",
    "    model = TimmModel(backbone, pretrained=False)\n",
    "    model = model.to(device)\n",
    "    load_model_file = os.path.join(model_dir_seg, f'{kernel_type}_fold{fold}_last.pth')\n",
    "    sd = torch.load(load_model_file)\n",
    "    if 'model_state_dict' in sd.keys():\n",
    "        sd = sd['model_state_dict']\n",
    "    sd = {k[7:] if k.startswith('module.') else k: sd[k] for k in sd.keys()}\n",
    "    model.load_state_dict(sd, strict=True)\n",
    "    model.eval()\n",
    "    models_cls1.append(model)\n",
    "\n",
    "len(models_cls1)"
   ]
  },
  {
   "cell_type": "code",
   "execution_count": 12,
   "id": "14d336da",
   "metadata": {
    "execution": {
     "iopub.execute_input": "2023-04-07T10:21:58.224682Z",
     "iopub.status.busy": "2023-04-07T10:21:58.223847Z",
     "iopub.status.idle": "2023-04-07T10:22:03.591042Z",
     "shell.execute_reply": "2023-04-07T10:22:03.589926Z"
    },
    "papermill": {
     "duration": 5.377308,
     "end_time": "2023-04-07T10:22:03.593599",
     "exception": false,
     "start_time": "2023-04-07T10:21:58.216291",
     "status": "completed"
    },
    "tags": []
   },
   "outputs": [
    {
     "data": {
      "text/plain": [
       "5"
      ]
     },
     "execution_count": 12,
     "metadata": {},
     "output_type": "execute_result"
    }
   ],
   "source": [
    "kernel_type = '0920_2d_lstmv22headv2_convnn_224_15_6ch_8flip_augv2_drl3_rov1p2_rov3p2_bs4_lr6e5_eta6e6_lw151_50ep'\n",
    "backbone = 'convnext_nano'\n",
    "in_chans = 6\n",
    "models_cls2 = []\n",
    "\n",
    "for fold in range(5):\n",
    "    model = TimmModelType2(backbone, pretrained=False)\n",
    "    model = model.to(device)\n",
    "    load_model_file = os.path.join(model_dir_seg, f'{kernel_type}_fold{fold}_last.pth')\n",
    "    sd = torch.load(load_model_file)\n",
    "    if 'model_state_dict' in sd.keys():\n",
    "        sd = sd['model_state_dict']\n",
    "    sd = {k[7:] if k.startswith('module.') else k: sd[k] for k in sd.keys()}\n",
    "    model.load_state_dict(sd, strict=True)\n",
    "    model.eval()\n",
    "    models_cls2.append(model)\n",
    "\n",
    "len(models_cls2)"
   ]
  },
  {
   "cell_type": "code",
   "execution_count": null,
   "id": "2e0089d5",
   "metadata": {
    "papermill": {
     "duration": 0.007011,
     "end_time": "2023-04-07T10:22:03.608362",
     "exception": false,
     "start_time": "2023-04-07T10:22:03.601351",
     "status": "completed"
    },
    "tags": []
   },
   "outputs": [],
   "source": []
  },
  {
   "cell_type": "code",
   "execution_count": 13,
   "id": "18cde041",
   "metadata": {
    "execution": {
     "iopub.execute_input": "2023-04-07T10:22:03.623355Z",
     "iopub.status.busy": "2023-04-07T10:22:03.623050Z",
     "iopub.status.idle": "2023-04-07T10:22:03.643214Z",
     "shell.execute_reply": "2023-04-07T10:22:03.642115Z"
    },
    "papermill": {
     "duration": 0.030529,
     "end_time": "2023-04-07T10:22:03.645577",
     "exception": false,
     "start_time": "2023-04-07T10:22:03.615048",
     "status": "completed"
    },
    "tags": []
   },
   "outputs": [],
   "source": [
    "def load_bone(msk, cid, t_paths, cropped_images, index, inst_id):\n",
    "    sema.acquire() #  threading topic\n",
    "    n_scans = len(t_paths)\n",
    "    bone = []\n",
    "    try:\n",
    "        msk_b = msk[cid] > 0.2\n",
    "        msk_c = msk[cid] > 0.02\n",
    "        y = np.where(msk_b.sum(0).sum(0) > 0)[0]\n",
    "        x = np.where(msk_b.sum(0).sum(1) > 0)[0]        \n",
    "        z = np.where(msk_b.sum(1).sum(1) > 0)[0]\n",
    "        if len(x) == 0 or len(y) == 0 or len(z) == 0:\n",
    "            y = np.where(msk_c.sum(0).sum(0) > 0)[0]            \n",
    "            x = np.where(msk_c.sum(0).sum(1) > 0)[0]\n",
    "            z = np.where(msk_c.sum(1).sum(1) > 0)[0]                        \n",
    "        y1, y2 = max(0, y[0]), min(msk.shape[2]-1, y[-1])        \n",
    "        x1, x2 = max(0, x[0]), min(msk.shape[3]-1, x[-1])\n",
    "        z1, z2 = max(2, z[0]), min(msk.shape[1]-3, z[-1])\n",
    "        zz1, zz2 = int(z1 / msk_size * n_scans), int(z2 / msk_size * n_scans)\n",
    "        inds_ = np.linspace(z1 ,z2 ,n_slice_per_c).astype(int)        \n",
    "        inds = np.linspace(zz1 ,zz2 ,n_slice_per_c).astype(int)        \n",
    "#         for ind_ in inds_:        \n",
    "        for sid, (ind, ind_) in enumerate(zip(inds, inds_)):            \n",
    "#             k = index[0][ind_]            \n",
    "            images = []\n",
    "            for i in [-2,-1,0,1,2]: \n",
    "                try:\n",
    "                    dicom = pydicom.read_file(t_paths[ind+i])                        \n",
    "                    images.append(dicom.pixel_array)\n",
    "                except:\n",
    "                    images.append(np.zeros((512, 512)))            \n",
    "            data = np.stack(images, -1)\n",
    "            data = data - np.min(data)\n",
    "            data = data / (np.max(data) + 1e-4)\n",
    "            data = (data * 255).astype(np.uint8)  \n",
    "            \n",
    "            xx1 = int(x1 / msk_size * data.shape[0])\n",
    "            xx2 = int(x2 / msk_size * data.shape[0])\n",
    "            yy1 = int(y1 / msk_size * data.shape[1])\n",
    "            yy2 = int(y2 / msk_size * data.shape[1])\n",
    "            data = data[xx1:xx2, yy1:yy2]\n",
    "            data = np.stack([cv2.resize(data[:, :, i], (image_size_cls, image_size_cls), interpolation = cv2.INTER_LINEAR) for i in range(n_ch)], -1) \n",
    "            msk_this = msk[cid, ind_, :, :] \n",
    "            msk_this = msk_this[x1:x2, y1:y2]                                             \n",
    "            msk_this = (msk_this * 255).astype(np.uint8)\n",
    "            msk_this = cv2.resize(msk_this, (image_size_cls, image_size_cls), interpolation = cv2.INTER_LINEAR)            \n",
    "            data = np.concatenate([data, msk_this[:, :, np.newaxis]], -1) \n",
    "            data = (data / 255.).astype(np.float32)\n",
    "            bone.append(torch.tensor(data))                \n",
    "    except:\n",
    "        for sid in range(n_slice_per_c):\n",
    "            bone.append(torch.zeros((image_size_cls, image_size_cls, n_ch+1)).float())    \n",
    "    cropped_images[cid] = torch.stack(bone, 0)\n",
    "    sema.release() #  threading topic\n",
    "    \n",
    "def load_cropped_images(msk, image_folder, index, inst_id, n_ch=n_ch):\n",
    "    t_paths = sorted(glob(os.path.join(image_folder, \"*\")), key=lambda x: int(x.split('/')[-1].split(\".\")[0]))    \n",
    "    for cid in range(7): \n",
    "        threads[cid] = threading.Thread(target=load_bone, args=(msk, cid, t_paths, cropped_images, index, inst_id))\n",
    "        threads[cid].start()\n",
    "    for cid in range(7):\n",
    "        threads[cid].join()        \n",
    "    return torch.cat(cropped_images, 0)"
   ]
  },
  {
   "cell_type": "markdown",
   "id": "6c7a0e60",
   "metadata": {
    "papermill": {
     "duration": 0.006293,
     "end_time": "2023-04-07T10:22:03.658480",
     "exception": false,
     "start_time": "2023-04-07T10:22:03.652187",
     "status": "completed"
    },
    "tags": []
   },
   "source": [
    "# Predict"
   ]
  },
  {
   "cell_type": "code",
   "execution_count": 14,
   "id": "68413e44",
   "metadata": {
    "execution": {
     "iopub.execute_input": "2023-04-07T10:22:03.672703Z",
     "iopub.status.busy": "2023-04-07T10:22:03.672433Z",
     "iopub.status.idle": "2023-04-07T10:22:03.678919Z",
     "shell.execute_reply": "2023-04-07T10:22:03.677932Z"
    },
    "papermill": {
     "duration": 0.016089,
     "end_time": "2023-04-07T10:22:03.681190",
     "exception": false,
     "start_time": "2023-04-07T10:22:03.665101",
     "status": "completed"
    },
    "tags": []
   },
   "outputs": [],
   "source": [
    "sema = threading.Semaphore(value=2) # value => setting number of threads\n",
    "dataset_seg = SegTestDataset(df)\n",
    "loader_seg = torch.utils.data.DataLoader(dataset_seg, batch_size=batch_size_seg, shuffle=False, num_workers=num_workers)"
   ]
  },
  {
   "cell_type": "code",
   "execution_count": null,
   "id": "ab8ed068",
   "metadata": {
    "papermill": {
     "duration": 0.006506,
     "end_time": "2023-04-07T10:22:03.694187",
     "exception": false,
     "start_time": "2023-04-07T10:22:03.687681",
     "status": "completed"
    },
    "tags": []
   },
   "outputs": [],
   "source": []
  },
  {
   "cell_type": "code",
   "execution_count": 15,
   "id": "09152730",
   "metadata": {
    "execution": {
     "iopub.execute_input": "2023-04-07T10:22:03.708326Z",
     "iopub.status.busy": "2023-04-07T10:22:03.708065Z",
     "iopub.status.idle": "2023-04-07T10:22:33.905147Z",
     "shell.execute_reply": "2023-04-07T10:22:33.903605Z"
    },
    "papermill": {
     "duration": 30.206818,
     "end_time": "2023-04-07T10:22:33.907479",
     "exception": false,
     "start_time": "2023-04-07T10:22:03.700661",
     "status": "completed"
    },
    "tags": []
   },
   "outputs": [
    {
     "name": "stderr",
     "output_type": "stream",
     "text": [
      "100%|██████████| 3/3 [00:30<00:00, 10.06s/it]\n"
     ]
    }
   ],
   "source": [
    "outputs1 = []\n",
    "outputs2 = []\n",
    "\n",
    "bar = tqdm(loader_seg)\n",
    "with torch.no_grad():\n",
    "    for batch_id, (images, indices) in enumerate(bar):\n",
    "        indices = indices.numpy()\n",
    "        images = images.cuda()\n",
    "        # SEG\n",
    "        pred_masks = []\n",
    "        for model in models_seg:\n",
    "            pmask = model(images)\n",
    "            pmask = pmask.sigmoid()\n",
    "            pred_masks.append(pmask)\n",
    "        pred_masks = torch.stack(pred_masks, 0).mean(0).cpu().numpy()                    \n",
    "\n",
    "        # Build cls input\n",
    "        cls_inp = []\n",
    "        threads = [None] * 7\n",
    "        cropped_images = [None] * 7\n",
    "\n",
    "        for i in range(pred_masks.shape[0]):\n",
    "            row = df.iloc[batch_id*batch_size_seg+i]\n",
    "            cropped_images = load_cropped_images(pred_masks[i], row.image_folder, indices, row.StudyInstanceUID)\n",
    "#             cropped_images = cropped_images[:105,:,:,:] # torch.Size([119, 224, 224, 6]) reduces to torch.Size([105, 224, 224, 6])                \n",
    "            cls_inp.append(cropped_images.permute(0, 3, 1, 2))       \n",
    "        cls_inp = torch.stack(cls_inp, 0).to(device)  # (1, 105, 6, 224, 224)\n",
    "\n",
    "        pred_cls1, pred_cls2 = [], []\n",
    "        # CLS 2\n",
    "        for _, model in enumerate(models_cls2):\n",
    "            logits, logits2 = model(cls_inp)       \n",
    "            pred_cls1.append(logits.sigmoid().view(-1, 7, n_slice_per_c))\n",
    "            pred_cls2.append(logits2.sigmoid())                            \n",
    "\n",
    "        # CLS 1\n",
    "        cls_inp = cls_inp.view(7, 15, 6, image_size_cls, image_size_cls).contiguous()\n",
    "        for _, model in enumerate(models_cls1):\n",
    "            logits = model(cls_inp)\n",
    "            pred_cls1.append(logits.sigmoid().view(-1, 7, n_slice_per_c)) \n",
    "\n",
    "        pred_cls1 = torch.stack(pred_cls1, 0).mean(0)\n",
    "        pred_cls2 = torch.stack(pred_cls2, 0).mean(0)\n",
    "        outputs1.append(pred_cls1.cpu())\n",
    "        outputs2.append(pred_cls2.cpu())\n"
   ]
  },
  {
   "cell_type": "code",
   "execution_count": null,
   "id": "d2a6216a",
   "metadata": {
    "papermill": {
     "duration": 0.006891,
     "end_time": "2023-04-07T10:22:33.921615",
     "exception": false,
     "start_time": "2023-04-07T10:22:33.914724",
     "status": "completed"
    },
    "tags": []
   },
   "outputs": [],
   "source": []
  },
  {
   "cell_type": "markdown",
   "id": "dab127b2",
   "metadata": {
    "papermill": {
     "duration": 0.006721,
     "end_time": "2023-04-07T10:22:33.935411",
     "exception": false,
     "start_time": "2023-04-07T10:22:33.928690",
     "status": "completed"
    },
    "tags": []
   },
   "source": [
    "# Output"
   ]
  },
  {
   "cell_type": "code",
   "execution_count": null,
   "id": "735050fc",
   "metadata": {
    "papermill": {
     "duration": 0.006797,
     "end_time": "2023-04-07T10:22:33.949134",
     "exception": false,
     "start_time": "2023-04-07T10:22:33.942337",
     "status": "completed"
    },
    "tags": []
   },
   "outputs": [],
   "source": []
  },
  {
   "cell_type": "code",
   "execution_count": 16,
   "id": "31d2aaa1",
   "metadata": {
    "execution": {
     "iopub.execute_input": "2023-04-07T10:22:33.965912Z",
     "iopub.status.busy": "2023-04-07T10:22:33.964326Z",
     "iopub.status.idle": "2023-04-07T10:22:33.979817Z",
     "shell.execute_reply": "2023-04-07T10:22:33.978874Z"
    },
    "papermill": {
     "duration": 0.025868,
     "end_time": "2023-04-07T10:22:33.981873",
     "exception": false,
     "start_time": "2023-04-07T10:22:33.956005",
     "status": "completed"
    },
    "tags": []
   },
   "outputs": [],
   "source": [
    "\n",
    "outputs1 = torch.cat(outputs1)  \n",
    "outputs2 = torch.cat(outputs2)\n",
    "PRED1 = (outputs1.mean(-1)).clamp(0.0001, 0.9999)\n",
    "PRED2 = (outputs2.view(-1)).clamp(0.0001, 0.9999)    \n",
    "row_ids = []\n",
    "for _, row in df.iterrows():\n",
    "    for i in range(7):\n",
    "        row_ids.append(row.StudyInstanceUID + f'_C{i+1}')\n",
    "    row_ids.append(row.StudyInstanceUID + '_patient_overall')\n",
    "df_sub = pd.DataFrame({\n",
    "    'row_id': row_ids,\n",
    "    'fractured': torch.cat([PRED1, PRED2.unsqueeze(1)], 1).view(-1),\n",
    "})\n",
    "df_sub.to_csv('submission.csv', index=False)\n"
   ]
  },
  {
   "cell_type": "code",
   "execution_count": 17,
   "id": "9fcb8b7c",
   "metadata": {
    "execution": {
     "iopub.execute_input": "2023-04-07T10:22:33.998120Z",
     "iopub.status.busy": "2023-04-07T10:22:33.997105Z",
     "iopub.status.idle": "2023-04-07T10:22:34.009171Z",
     "shell.execute_reply": "2023-04-07T10:22:34.008045Z"
    },
    "papermill": {
     "duration": 0.022359,
     "end_time": "2023-04-07T10:22:34.011634",
     "exception": false,
     "start_time": "2023-04-07T10:22:33.989275",
     "status": "completed"
    },
    "tags": []
   },
   "outputs": [
    {
     "data": {
      "text/html": [
       "<div>\n",
       "<style scoped>\n",
       "    .dataframe tbody tr th:only-of-type {\n",
       "        vertical-align: middle;\n",
       "    }\n",
       "\n",
       "    .dataframe tbody tr th {\n",
       "        vertical-align: top;\n",
       "    }\n",
       "\n",
       "    .dataframe thead th {\n",
       "        text-align: right;\n",
       "    }\n",
       "</style>\n",
       "<table border=\"1\" class=\"dataframe\">\n",
       "  <thead>\n",
       "    <tr style=\"text-align: right;\">\n",
       "      <th></th>\n",
       "      <th>row_id</th>\n",
       "      <th>fractured</th>\n",
       "    </tr>\n",
       "  </thead>\n",
       "  <tbody>\n",
       "    <tr>\n",
       "      <th>0</th>\n",
       "      <td>1.2.826.0.1.3680043.22327_C1</td>\n",
       "      <td>0.007536</td>\n",
       "    </tr>\n",
       "    <tr>\n",
       "      <th>1</th>\n",
       "      <td>1.2.826.0.1.3680043.22327_C2</td>\n",
       "      <td>0.005218</td>\n",
       "    </tr>\n",
       "    <tr>\n",
       "      <th>2</th>\n",
       "      <td>1.2.826.0.1.3680043.22327_C3</td>\n",
       "      <td>0.005127</td>\n",
       "    </tr>\n",
       "    <tr>\n",
       "      <th>3</th>\n",
       "      <td>1.2.826.0.1.3680043.22327_C4</td>\n",
       "      <td>0.005684</td>\n",
       "    </tr>\n",
       "    <tr>\n",
       "      <th>4</th>\n",
       "      <td>1.2.826.0.1.3680043.22327_C5</td>\n",
       "      <td>0.005794</td>\n",
       "    </tr>\n",
       "    <tr>\n",
       "      <th>5</th>\n",
       "      <td>1.2.826.0.1.3680043.22327_C6</td>\n",
       "      <td>0.011303</td>\n",
       "    </tr>\n",
       "    <tr>\n",
       "      <th>6</th>\n",
       "      <td>1.2.826.0.1.3680043.22327_C7</td>\n",
       "      <td>0.033331</td>\n",
       "    </tr>\n",
       "    <tr>\n",
       "      <th>7</th>\n",
       "      <td>1.2.826.0.1.3680043.22327_patient_overall</td>\n",
       "      <td>0.118417</td>\n",
       "    </tr>\n",
       "    <tr>\n",
       "      <th>8</th>\n",
       "      <td>1.2.826.0.1.3680043.25399_C1</td>\n",
       "      <td>0.009346</td>\n",
       "    </tr>\n",
       "    <tr>\n",
       "      <th>9</th>\n",
       "      <td>1.2.826.0.1.3680043.25399_C2</td>\n",
       "      <td>0.003696</td>\n",
       "    </tr>\n",
       "    <tr>\n",
       "      <th>10</th>\n",
       "      <td>1.2.826.0.1.3680043.25399_C3</td>\n",
       "      <td>0.003769</td>\n",
       "    </tr>\n",
       "    <tr>\n",
       "      <th>11</th>\n",
       "      <td>1.2.826.0.1.3680043.25399_C4</td>\n",
       "      <td>0.017023</td>\n",
       "    </tr>\n",
       "    <tr>\n",
       "      <th>12</th>\n",
       "      <td>1.2.826.0.1.3680043.25399_C5</td>\n",
       "      <td>0.005567</td>\n",
       "    </tr>\n",
       "    <tr>\n",
       "      <th>13</th>\n",
       "      <td>1.2.826.0.1.3680043.25399_C6</td>\n",
       "      <td>0.085901</td>\n",
       "    </tr>\n",
       "    <tr>\n",
       "      <th>14</th>\n",
       "      <td>1.2.826.0.1.3680043.25399_C7</td>\n",
       "      <td>0.011529</td>\n",
       "    </tr>\n",
       "    <tr>\n",
       "      <th>15</th>\n",
       "      <td>1.2.826.0.1.3680043.25399_patient_overall</td>\n",
       "      <td>0.025569</td>\n",
       "    </tr>\n",
       "    <tr>\n",
       "      <th>16</th>\n",
       "      <td>1.2.826.0.1.3680043.5876_C1</td>\n",
       "      <td>0.142338</td>\n",
       "    </tr>\n",
       "    <tr>\n",
       "      <th>17</th>\n",
       "      <td>1.2.826.0.1.3680043.5876_C2</td>\n",
       "      <td>0.045464</td>\n",
       "    </tr>\n",
       "    <tr>\n",
       "      <th>18</th>\n",
       "      <td>1.2.826.0.1.3680043.5876_C3</td>\n",
       "      <td>0.004147</td>\n",
       "    </tr>\n",
       "    <tr>\n",
       "      <th>19</th>\n",
       "      <td>1.2.826.0.1.3680043.5876_C4</td>\n",
       "      <td>0.004497</td>\n",
       "    </tr>\n",
       "    <tr>\n",
       "      <th>20</th>\n",
       "      <td>1.2.826.0.1.3680043.5876_C5</td>\n",
       "      <td>0.004117</td>\n",
       "    </tr>\n",
       "    <tr>\n",
       "      <th>21</th>\n",
       "      <td>1.2.826.0.1.3680043.5876_C6</td>\n",
       "      <td>0.004597</td>\n",
       "    </tr>\n",
       "    <tr>\n",
       "      <th>22</th>\n",
       "      <td>1.2.826.0.1.3680043.5876_C7</td>\n",
       "      <td>0.007467</td>\n",
       "    </tr>\n",
       "    <tr>\n",
       "      <th>23</th>\n",
       "      <td>1.2.826.0.1.3680043.5876_patient_overall</td>\n",
       "      <td>0.019465</td>\n",
       "    </tr>\n",
       "  </tbody>\n",
       "</table>\n",
       "</div>"
      ],
      "text/plain": [
       "                                       row_id  fractured\n",
       "0                1.2.826.0.1.3680043.22327_C1   0.007536\n",
       "1                1.2.826.0.1.3680043.22327_C2   0.005218\n",
       "2                1.2.826.0.1.3680043.22327_C3   0.005127\n",
       "3                1.2.826.0.1.3680043.22327_C4   0.005684\n",
       "4                1.2.826.0.1.3680043.22327_C5   0.005794\n",
       "5                1.2.826.0.1.3680043.22327_C6   0.011303\n",
       "6                1.2.826.0.1.3680043.22327_C7   0.033331\n",
       "7   1.2.826.0.1.3680043.22327_patient_overall   0.118417\n",
       "8                1.2.826.0.1.3680043.25399_C1   0.009346\n",
       "9                1.2.826.0.1.3680043.25399_C2   0.003696\n",
       "10               1.2.826.0.1.3680043.25399_C3   0.003769\n",
       "11               1.2.826.0.1.3680043.25399_C4   0.017023\n",
       "12               1.2.826.0.1.3680043.25399_C5   0.005567\n",
       "13               1.2.826.0.1.3680043.25399_C6   0.085901\n",
       "14               1.2.826.0.1.3680043.25399_C7   0.011529\n",
       "15  1.2.826.0.1.3680043.25399_patient_overall   0.025569\n",
       "16                1.2.826.0.1.3680043.5876_C1   0.142338\n",
       "17                1.2.826.0.1.3680043.5876_C2   0.045464\n",
       "18                1.2.826.0.1.3680043.5876_C3   0.004147\n",
       "19                1.2.826.0.1.3680043.5876_C4   0.004497\n",
       "20                1.2.826.0.1.3680043.5876_C5   0.004117\n",
       "21                1.2.826.0.1.3680043.5876_C6   0.004597\n",
       "22                1.2.826.0.1.3680043.5876_C7   0.007467\n",
       "23   1.2.826.0.1.3680043.5876_patient_overall   0.019465"
      ]
     },
     "execution_count": 17,
     "metadata": {},
     "output_type": "execute_result"
    }
   ],
   "source": [
    "df_sub"
   ]
  },
  {
   "cell_type": "code",
   "execution_count": null,
   "id": "2bcd386e",
   "metadata": {
    "papermill": {
     "duration": 0.007016,
     "end_time": "2023-04-07T10:22:34.026043",
     "exception": false,
     "start_time": "2023-04-07T10:22:34.019027",
     "status": "completed"
    },
    "tags": []
   },
   "outputs": [],
   "source": []
  }
 ],
 "metadata": {
  "kernelspec": {
   "display_name": "Python 3",
   "language": "python",
   "name": "python3"
  },
  "language_info": {
   "codemirror_mode": {
    "name": "ipython",
    "version": 3
   },
   "file_extension": ".py",
   "mimetype": "text/x-python",
   "name": "python",
   "nbconvert_exporter": "python",
   "pygments_lexer": "ipython3",
   "version": "3.7.12"
  },
  "papermill": {
   "default_parameters": {},
   "duration": 122.786751,
   "end_time": "2023-04-07T10:22:36.324900",
   "environment_variables": {},
   "exception": null,
   "input_path": "__notebook__.ipynb",
   "output_path": "__notebook__.ipynb",
   "parameters": {},
   "start_time": "2023-04-07T10:20:33.538149",
   "version": "2.4.0"
  }
 },
 "nbformat": 4,
 "nbformat_minor": 5
}
