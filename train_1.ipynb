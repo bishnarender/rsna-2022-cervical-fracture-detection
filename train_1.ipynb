{
 "cells": [
  {
   "cell_type": "code",
   "execution_count": 1,
   "metadata": {},
   "outputs": [],
   "source": [
    "# decoding JPEG images and decoding/encoding RLE datasets\n",
    "# !pip3 install -q pylibjpeg==1.4.0\n",
    "# https://github.com/pydicom/pylibjpeg\n",
    "# !pip3 install pydicom==2.3.0\n",
    "## !pip3 install -q python-gdcm==3.0.20\n",
    "# !pip3 install -q torchvision==0.12.0\n",
    "# !pip3 install -q torchaudio==0.11.0\n",
    "# !pip3 install -q torchmetrics==0.11.0\n",
    "# !pip3 install -q torchtext==0.12.0\n",
    "# !pip3 install -q torch==1.13.1 # cuda 'sm_86' is only supported by 1.13.1\n",
    "# !pip3 install -q timm==0.4.12\n",
    "# !pip3 -q install monai==1.1.0\n",
    "# !pip3 -q install segmentation-models-pytorch==0.2.1\n",
    "# !conda install -c pytorch magma-cuda110==2.5.2\n",
    "# !pip3 install opencv-python==4.5.4.60"
   ]
  },
  {
   "cell_type": "code",
   "execution_count": 2,
   "metadata": {
    "_cell_guid": "b1076dfc-b9ad-4769-8c92-a6c4dae69d19",
    "_uuid": "8f2839f25d086af736a60e9eeb907d3b93b6e0e5"
   },
   "outputs": [],
   "source": [
    "DEBUG = False\n",
    "\n",
    "import os\n",
    "import sys\n"
   ]
  },
  {
   "cell_type": "code",
   "execution_count": 3,
   "metadata": {},
   "outputs": [],
   "source": [
    "# suitable for kaggle notebook\n",
    "# sys.path = ['../ca_2',] + sys.path\n",
    "# print(sys.path)"
   ]
  },
  {
   "cell_type": "code",
   "execution_count": 4,
   "metadata": {},
   "outputs": [],
   "source": [
    "import argparse\n",
    "import warnings"
   ]
  },
  {
   "cell_type": "code",
   "execution_count": 5,
   "metadata": {},
   "outputs": [],
   "source": [
    "import gc, ast, cv2, time, pickle, random\n",
    "import pylibjpeg\n",
    "import gdcm\n",
    "import pydicom\n",
    "# pydicom is a pure Python package for working with DICOM files. \n",
    "# -It lets you read, modify and write DICOM data in an easy \"pythonic\" way. "
   ]
  },
  {
   "cell_type": "code",
   "execution_count": 6,
   "metadata": {},
   "outputs": [],
   "source": [
    "import numpy as np\n",
    "import pandas as pd\n",
    "from glob import glob\n",
    "from PIL import Image\n",
    "\n",
    "\n",
    "import nibabel as nib\n",
    "# read / write access to some common neuroimaging file formats"
   ]
  },
  {
   "cell_type": "code",
   "execution_count": 7,
   "metadata": {},
   "outputs": [],
   "source": [
    "import matplotlib.pyplot as plt\n",
    "from sklearn.model_selection import KFold, StratifiedKFold\n",
    "\n"
   ]
  },
  {
   "cell_type": "code",
   "execution_count": 8,
   "metadata": {},
   "outputs": [],
   "source": [
    "%matplotlib inline"
   ]
  },
  {
   "cell_type": "code",
   "execution_count": 9,
   "metadata": {},
   "outputs": [
    {
     "name": "stderr",
     "output_type": "stream",
     "text": [
      "/home/na/miniconda3/envs/base_2/lib/python3.7/site-packages/torchvision/io/image.py:13: UserWarning: Failed to load image Python extension: /home/na/miniconda3/envs/base_2/lib/python3.7/site-packages/torchvision/image.so: undefined symbol: _ZNK3c1010TensorImpl36is_contiguous_nondefault_policy_implENS_12MemoryFormatE\n",
      "  warn(f\"Failed to load image Python extension: {e}\")\n"
     ]
    }
   ],
   "source": [
    "from monai.transforms import Resize"
   ]
  },
  {
   "cell_type": "code",
   "execution_count": 10,
   "metadata": {},
   "outputs": [],
   "source": [
    "import  monai.transforms as transforms"
   ]
  },
  {
   "cell_type": "code",
   "execution_count": 11,
   "metadata": {},
   "outputs": [],
   "source": [
    "import timm\n",
    "\n",
    "import segmentation_models_pytorch as smp\n",
    "import torch\n",
    "import torch.nn as nn\n",
    "import torch.optim as optim\n",
    "import torch.cuda.amp as amp\n",
    "import torch.nn.functional as F\n",
    "from torch.utils.data import DataLoader, Dataset\n"
   ]
  },
  {
   "cell_type": "code",
   "execution_count": 12,
   "metadata": {},
   "outputs": [],
   "source": [
    "from tqdm import tqdm"
   ]
  },
  {
   "cell_type": "code",
   "execution_count": 13,
   "metadata": {},
   "outputs": [],
   "source": [
    "import graphviz"
   ]
  },
  {
   "cell_type": "code",
   "execution_count": 14,
   "metadata": {},
   "outputs": [],
   "source": [
    "# pip3 install torchview\n",
    "from torchview import draw_graph"
   ]
  },
  {
   "cell_type": "code",
   "execution_count": 15,
   "metadata": {},
   "outputs": [],
   "source": [
    "# graphviz.set_jupyter_format('png')"
   ]
  },
  {
   "cell_type": "code",
   "execution_count": 16,
   "metadata": {},
   "outputs": [],
   "source": [
    "np.set_printoptions(threshold=sys.maxsize)"
   ]
  },
  {
   "cell_type": "code",
   "execution_count": 17,
   "metadata": {},
   "outputs": [],
   "source": [
    "pd.set_option('display.max_column', None)\n",
    "pd.set_option('display.max_rows', None)\n",
    "pd.set_option('display.max_seq_items', None)\n",
    "pd.set_option('display.max_colwidth', None) # 500\n",
    "pd.set_option('expand_frame_repr', True)"
   ]
  },
  {
   "cell_type": "code",
   "execution_count": 18,
   "metadata": {},
   "outputs": [],
   "source": [
    "# os.environ[\"CUDA_VISIBLE_DEVICES\"]=\"0\"\n",
    "# os.environ[\"PYTORCH_NO_CUDA_MEMORY_CACHING\"]=\"1\"\n",
    "\n",
    "device = torch.device('cuda')\n",
    "\n",
    "# benchmark mode is good whenever your input sizes for your network do not vary. \n",
    "# This flag allows you to enable the inbuilt cudnn auto-tuner to find the best algorithm to use for your hardware.\n",
    "torch.backends.cudnn.benchmark = True"
   ]
  },
  {
   "cell_type": "code",
   "execution_count": null,
   "metadata": {},
   "outputs": [],
   "source": []
  },
  {
   "cell_type": "markdown",
   "metadata": {},
   "source": [
    "# Config"
   ]
  },
  {
   "cell_type": "code",
   "execution_count": 15,
   "metadata": {},
   "outputs": [],
   "source": [
    "kernel_type = 'timm3d_res18d_unet4b_128_128_128_dsv2_flip12_shift333p7_gd1p5_bs4_lr3e4_20x50ep'\n",
    "load_kernel = None\n",
    "load_last = True\n",
    "n_blocks = 4\n",
    "n_folds = 5\n",
    "\n",
    "# check models performance => https://github.com/rwightman/pytorch-image-models/blob/main/results/results-imagenet.csv\n",
    "backbone = 'resnet18d' # 'resnet18d' # 'tf_efficientnetv2_s_in21ft1k <=> tf_efficientnetv2_s.in21k_ft_in1k'\n",
    "\n",
    "image_sizes = [128, 128, 128]\n",
    "R = Resize(image_sizes, mode=\"area\") # monai => Resize\n",
    "\n",
    "init_lr = 3e-3\n",
    "batch_size = 2\n",
    "drop_rate = 0.\n",
    "drop_path_rate = 0.\n",
    "loss_weights = [1, 1]\n",
    "p_mixup = 0.1 # to avoid overfitting\n",
    "\n",
    "data_dir = './' # ../input/rsna-2022-cervical-spine-fracture-detection\n",
    "use_amp = True\n",
    "num_workers = 12\n",
    "out_dim = 7\n",
    "\n",
    "n_epochs = 300 # 1000\n",
    "\n",
    "log_dir = './logs'\n",
    "model_dir = './models'\n",
    "model_dir_seg = './kaggle'\n",
    "os.makedirs(log_dir, exist_ok=True)\n",
    "os.makedirs(model_dir, exist_ok=True)"
   ]
  },
  {
   "cell_type": "code",
   "execution_count": 20,
   "metadata": {},
   "outputs": [],
   "source": [
    "transforms_train = transforms.Compose([\n",
    "    transforms.RandFlipd(keys=[\"image\", \"mask\"], prob=0.5, spatial_axis=1),\n",
    "    transforms.RandFlipd(keys=[\"image\", \"mask\"], prob=0.5, spatial_axis=2),\n",
    "    transforms.RandAffined(keys=[\"image\", \"mask\"], translate_range=[int(x*y) for x, y in zip(image_sizes, [0.3, 0.3, 0.3])], padding_mode='zeros', prob=0.7),\n",
    "    transforms.RandGridDistortiond(keys=(\"image\", \"mask\"), prob=0.5, distort_limit=(-0.01, 0.01), mode=\"nearest\"),    \n",
    "])\n",
    "\n",
    "transforms_valid = transforms.Compose([\n",
    "])\n",
    "\n",
    "# transforms_train =''\n",
    "# transforms_valid =''"
   ]
  },
  {
   "cell_type": "markdown",
   "metadata": {},
   "source": [
    "# DataFrame"
   ]
  },
  {
   "cell_type": "code",
   "execution_count": 21,
   "metadata": {},
   "outputs": [],
   "source": [
    "df_train = pd.read_csv(os.path.join(data_dir, 'train.csv'))\n",
    "    #            StudyInstanceUID    patient_overall    C1  C2  C3  C4  C5  C6  C7\n",
    "    # 0   1.2.826.0.1.3680043.6200                 1    1   1   0   0   0   0   0\n",
    "\n",
    "mask_files = os.listdir(f'{data_dir}segmentations')\n",
    "\n",
    "df_mask = pd.DataFrame({ 'mask_file': mask_files, })\n",
    "    #     mask_file\n",
    "    # 0   1.2.826.0.1.3680043.30487.nii\n",
    "    # 1   1.2.826.0.1.3680043.30640.nii\n",
    "\n",
    "df_mask['StudyInstanceUID'] = df_mask['mask_file'].apply(lambda x: x[:-4])\n",
    "    #     mask_file                       StudyInstanceUID\n",
    "    # 0   1.2.826.0.1.3680043.30487.nii   1.2.826.0.1.3680043.30487\n",
    "\n",
    "df_mask['mask_file'] = df_mask['mask_file'].apply(lambda x: os.path.join(data_dir, 'segmentations', x))\n",
    "    #     mask_file                                       StudyInstanceUID\n",
    "    # 0   ./segmentations/1.2.826.0.1.3680043.30487.nii   1.2.826.0.1.3680043.30487\n",
    "\n",
    "\n",
    "df_train = df_train.merge(df_mask, on='StudyInstanceUID', how='left')\n",
    "    #             StudyInstanceUID  patient_overall  C1  C2  C3  C4  C5  C6  C7  mask_file\n",
    "    # 0   1.2.826.0.1.3680043.6200                1   1   1   0   0   0   0   0   Nan\n",
    "    # 1  1.2.826.0.1.3680043.27262                1   0   1   0   0   0   0   0   Nan\n",
    "del df_mask\n",
    "\n",
    "df_train['image_folder'] = df_train['StudyInstanceUID'].apply(lambda x: os.path.join(data_dir, 'train_images', x))\n",
    "    #             StudyInstanceUID  patient_overall  C1  C2  C3  C4  C5  C6  C7  mask_file  image_folder\n",
    "    # 0   1.2.826.0.1.3680043.6200                1   1   1   0   0   0   0   0   Nan       ./train_images/1.2.826.0.1.3680043.6200      \n",
    "    # 1  1.2.826.0.1.3680043.27262                1   0   1   0   0   0   0   0   Nan       ./train_images/1.2.826.0.1.3680043.27262\n",
    "\n",
    "df_train['mask_file'].fillna('', inplace=True)\n",
    "    #             StudyInstanceUID  patient_overall  C1  C2  C3  C4  C5  C6  C7  mask_file  image_folder\n",
    "    # 0   1.2.826.0.1.3680043.6200                1   1   1   0   0   0   0   0             ./train_images/1.2.826.0.1.3680043.6200      \n",
    "    # 1  1.2.826.0.1.3680043.27262                1   0   1   0   0   0   0   0             ./train_images/1.2.826.0.1.3680043.27262\n",
    "    \n",
    "df_seg = df_train.query('mask_file != \"\"').reset_index(drop=True)\n",
    "    # dropping rows with df['mask_file'] == ''\n",
    "    # equivalent to \n",
    "    # df_seg = df_train[df_train['mask_file'] != \"\"].reset_index(drop=True)\n",
    "    \n",
    "\n",
    "kf = KFold(5) # n_splits=5\n",
    "df_seg['fold'] = -1\n",
    "for fold, (train_idx, valid_idx) in enumerate(kf.split(df_seg, df_seg)): # X=df_seg, y =df_seg\n",
    "    df_seg.loc[valid_idx, 'fold'] = fold # df_seg.loc[row_index, column_fold] = fold_number\n",
    "# fold column represents the split_number / fold_number in which row falls.\n"
   ]
  },
  {
   "cell_type": "code",
   "execution_count": 22,
   "metadata": {},
   "outputs": [
    {
     "data": {
      "text/html": [
       "<div>\n",
       "<style scoped>\n",
       "    .dataframe tbody tr th:only-of-type {\n",
       "        vertical-align: middle;\n",
       "    }\n",
       "\n",
       "    .dataframe tbody tr th {\n",
       "        vertical-align: top;\n",
       "    }\n",
       "\n",
       "    .dataframe thead th {\n",
       "        text-align: right;\n",
       "    }\n",
       "</style>\n",
       "<table border=\"1\" class=\"dataframe\">\n",
       "  <thead>\n",
       "    <tr style=\"text-align: right;\">\n",
       "      <th></th>\n",
       "      <th>StudyInstanceUID</th>\n",
       "      <th>patient_overall</th>\n",
       "      <th>C1</th>\n",
       "      <th>C2</th>\n",
       "      <th>C3</th>\n",
       "      <th>C4</th>\n",
       "      <th>C5</th>\n",
       "      <th>C6</th>\n",
       "      <th>C7</th>\n",
       "      <th>mask_file</th>\n",
       "      <th>image_folder</th>\n",
       "      <th>fold</th>\n",
       "    </tr>\n",
       "  </thead>\n",
       "  <tbody>\n",
       "  </tbody>\n",
       "</table>\n",
       "</div>"
      ],
      "text/plain": [
       "Empty DataFrame\n",
       "Columns: [StudyInstanceUID, patient_overall, C1, C2, C3, C4, C5, C6, C7, mask_file, image_folder, fold]\n",
       "Index: []"
      ]
     },
     "execution_count": 22,
     "metadata": {},
     "output_type": "execute_result"
    }
   ],
   "source": [
    "# 1.2.826.0.1.3680043.20574 not present in the dataset\n",
    "df_seg[df_seg['StudyInstanceUID'] == '1.2.826.0.1.3680043.20574']"
   ]
  },
  {
   "cell_type": "code",
   "execution_count": 23,
   "metadata": {},
   "outputs": [
    {
     "data": {
      "text/html": [
       "<div>\n",
       "<style scoped>\n",
       "    .dataframe tbody tr th:only-of-type {\n",
       "        vertical-align: middle;\n",
       "    }\n",
       "\n",
       "    .dataframe tbody tr th {\n",
       "        vertical-align: top;\n",
       "    }\n",
       "\n",
       "    .dataframe thead th {\n",
       "        text-align: right;\n",
       "    }\n",
       "</style>\n",
       "<table border=\"1\" class=\"dataframe\">\n",
       "  <thead>\n",
       "    <tr style=\"text-align: right;\">\n",
       "      <th></th>\n",
       "      <th>StudyInstanceUID</th>\n",
       "      <th>patient_overall</th>\n",
       "      <th>C1</th>\n",
       "      <th>C2</th>\n",
       "      <th>C3</th>\n",
       "      <th>C4</th>\n",
       "      <th>C5</th>\n",
       "      <th>C6</th>\n",
       "      <th>C7</th>\n",
       "      <th>mask_file</th>\n",
       "      <th>image_folder</th>\n",
       "      <th>fold</th>\n",
       "    </tr>\n",
       "  </thead>\n",
       "  <tbody>\n",
       "    <tr>\n",
       "      <th>0</th>\n",
       "      <td>1.2.826.0.1.3680043.1363</td>\n",
       "      <td>1</td>\n",
       "      <td>0</td>\n",
       "      <td>0</td>\n",
       "      <td>0</td>\n",
       "      <td>0</td>\n",
       "      <td>1</td>\n",
       "      <td>0</td>\n",
       "      <td>0</td>\n",
       "      <td>./segmentations/1.2.826.0.1.3680043.1363.nii</td>\n",
       "      <td>./train_images/1.2.826.0.1.3680043.1363</td>\n",
       "      <td>0</td>\n",
       "    </tr>\n",
       "    <tr>\n",
       "      <th>1</th>\n",
       "      <td>1.2.826.0.1.3680043.25704</td>\n",
       "      <td>0</td>\n",
       "      <td>0</td>\n",
       "      <td>0</td>\n",
       "      <td>0</td>\n",
       "      <td>0</td>\n",
       "      <td>0</td>\n",
       "      <td>0</td>\n",
       "      <td>0</td>\n",
       "      <td>./segmentations/1.2.826.0.1.3680043.25704.nii</td>\n",
       "      <td>./train_images/1.2.826.0.1.3680043.25704</td>\n",
       "      <td>0</td>\n",
       "    </tr>\n",
       "    <tr>\n",
       "      <th>2</th>\n",
       "      <td>1.2.826.0.1.3680043.20647</td>\n",
       "      <td>0</td>\n",
       "      <td>0</td>\n",
       "      <td>0</td>\n",
       "      <td>0</td>\n",
       "      <td>0</td>\n",
       "      <td>0</td>\n",
       "      <td>0</td>\n",
       "      <td>0</td>\n",
       "      <td>./segmentations/1.2.826.0.1.3680043.20647.nii</td>\n",
       "      <td>./train_images/1.2.826.0.1.3680043.20647</td>\n",
       "      <td>0</td>\n",
       "    </tr>\n",
       "    <tr>\n",
       "      <th>3</th>\n",
       "      <td>1.2.826.0.1.3680043.31077</td>\n",
       "      <td>1</td>\n",
       "      <td>0</td>\n",
       "      <td>0</td>\n",
       "      <td>1</td>\n",
       "      <td>1</td>\n",
       "      <td>1</td>\n",
       "      <td>1</td>\n",
       "      <td>0</td>\n",
       "      <td>./segmentations/1.2.826.0.1.3680043.31077.nii</td>\n",
       "      <td>./train_images/1.2.826.0.1.3680043.31077</td>\n",
       "      <td>0</td>\n",
       "    </tr>\n",
       "  </tbody>\n",
       "</table>\n",
       "</div>"
      ],
      "text/plain": [
       "            StudyInstanceUID  patient_overall  C1  C2  C3  C4  C5  C6  C7  \\\n",
       "0   1.2.826.0.1.3680043.1363                1   0   0   0   0   1   0   0   \n",
       "1  1.2.826.0.1.3680043.25704                0   0   0   0   0   0   0   0   \n",
       "2  1.2.826.0.1.3680043.20647                0   0   0   0   0   0   0   0   \n",
       "3  1.2.826.0.1.3680043.31077                1   0   0   1   1   1   1   0   \n",
       "\n",
       "                                       mask_file  \\\n",
       "0   ./segmentations/1.2.826.0.1.3680043.1363.nii   \n",
       "1  ./segmentations/1.2.826.0.1.3680043.25704.nii   \n",
       "2  ./segmentations/1.2.826.0.1.3680043.20647.nii   \n",
       "3  ./segmentations/1.2.826.0.1.3680043.31077.nii   \n",
       "\n",
       "                               image_folder  fold  \n",
       "0   ./train_images/1.2.826.0.1.3680043.1363     0  \n",
       "1  ./train_images/1.2.826.0.1.3680043.25704     0  \n",
       "2  ./train_images/1.2.826.0.1.3680043.20647     0  \n",
       "3  ./train_images/1.2.826.0.1.3680043.31077     0  "
      ]
     },
     "execution_count": 23,
     "metadata": {},
     "output_type": "execute_result"
    }
   ],
   "source": [
    "df_seg.head(4)"
   ]
  },
  {
   "cell_type": "code",
   "execution_count": 24,
   "metadata": {},
   "outputs": [
    {
     "data": {
      "text/html": [
       "<div>\n",
       "<style scoped>\n",
       "    .dataframe tbody tr th:only-of-type {\n",
       "        vertical-align: middle;\n",
       "    }\n",
       "\n",
       "    .dataframe tbody tr th {\n",
       "        vertical-align: top;\n",
       "    }\n",
       "\n",
       "    .dataframe thead th {\n",
       "        text-align: right;\n",
       "    }\n",
       "</style>\n",
       "<table border=\"1\" class=\"dataframe\">\n",
       "  <thead>\n",
       "    <tr style=\"text-align: right;\">\n",
       "      <th></th>\n",
       "      <th>StudyInstanceUID</th>\n",
       "      <th>patient_overall</th>\n",
       "      <th>C1</th>\n",
       "      <th>C2</th>\n",
       "      <th>C3</th>\n",
       "      <th>C4</th>\n",
       "      <th>C5</th>\n",
       "      <th>C6</th>\n",
       "      <th>C7</th>\n",
       "      <th>mask_file</th>\n",
       "      <th>image_folder</th>\n",
       "      <th>fold</th>\n",
       "    </tr>\n",
       "  </thead>\n",
       "  <tbody>\n",
       "    <tr>\n",
       "      <th>84</th>\n",
       "      <td>1.2.826.0.1.3680043.28025</td>\n",
       "      <td>0</td>\n",
       "      <td>0</td>\n",
       "      <td>0</td>\n",
       "      <td>0</td>\n",
       "      <td>0</td>\n",
       "      <td>0</td>\n",
       "      <td>0</td>\n",
       "      <td>0</td>\n",
       "      <td>./segmentations/1.2.826.0.1.3680043.28025.nii</td>\n",
       "      <td>./train_images/1.2.826.0.1.3680043.28025</td>\n",
       "      <td>4</td>\n",
       "    </tr>\n",
       "    <tr>\n",
       "      <th>85</th>\n",
       "      <td>1.2.826.0.1.3680043.21321</td>\n",
       "      <td>1</td>\n",
       "      <td>1</td>\n",
       "      <td>1</td>\n",
       "      <td>1</td>\n",
       "      <td>0</td>\n",
       "      <td>0</td>\n",
       "      <td>0</td>\n",
       "      <td>1</td>\n",
       "      <td>./segmentations/1.2.826.0.1.3680043.21321.nii</td>\n",
       "      <td>./train_images/1.2.826.0.1.3680043.21321</td>\n",
       "      <td>4</td>\n",
       "    </tr>\n",
       "    <tr>\n",
       "      <th>86</th>\n",
       "      <td>1.2.826.0.1.3680043.26990</td>\n",
       "      <td>1</td>\n",
       "      <td>0</td>\n",
       "      <td>0</td>\n",
       "      <td>0</td>\n",
       "      <td>0</td>\n",
       "      <td>1</td>\n",
       "      <td>1</td>\n",
       "      <td>1</td>\n",
       "      <td>./segmentations/1.2.826.0.1.3680043.26990.nii</td>\n",
       "      <td>./train_images/1.2.826.0.1.3680043.26990</td>\n",
       "      <td>4</td>\n",
       "    </tr>\n",
       "  </tbody>\n",
       "</table>\n",
       "</div>"
      ],
      "text/plain": [
       "             StudyInstanceUID  patient_overall  C1  C2  C3  C4  C5  C6  C7  \\\n",
       "84  1.2.826.0.1.3680043.28025                0   0   0   0   0   0   0   0   \n",
       "85  1.2.826.0.1.3680043.21321                1   1   1   1   0   0   0   1   \n",
       "86  1.2.826.0.1.3680043.26990                1   0   0   0   0   1   1   1   \n",
       "\n",
       "                                        mask_file  \\\n",
       "84  ./segmentations/1.2.826.0.1.3680043.28025.nii   \n",
       "85  ./segmentations/1.2.826.0.1.3680043.21321.nii   \n",
       "86  ./segmentations/1.2.826.0.1.3680043.26990.nii   \n",
       "\n",
       "                                image_folder  fold  \n",
       "84  ./train_images/1.2.826.0.1.3680043.28025     4  \n",
       "85  ./train_images/1.2.826.0.1.3680043.21321     4  \n",
       "86  ./train_images/1.2.826.0.1.3680043.26990     4  "
      ]
     },
     "execution_count": 24,
     "metadata": {},
     "output_type": "execute_result"
    }
   ],
   "source": [
    "df_seg.tail(3)"
   ]
  },
  {
   "cell_type": "code",
   "execution_count": 25,
   "metadata": {},
   "outputs": [],
   "source": [
    "# df_seg.to_csv('df_seg_train_1.csv', index=False)"
   ]
  },
  {
   "cell_type": "markdown",
   "metadata": {},
   "source": [
    "# Dataset"
   ]
  },
  {
   "cell_type": "code",
   "execution_count": 26,
   "metadata": {},
   "outputs": [],
   "source": [
    "# df_seg = pd.read_csv('df_seg_train_1.csv')"
   ]
  },
  {
   "cell_type": "code",
   "execution_count": 27,
   "metadata": {},
   "outputs": [],
   "source": [
    "# df_seg.tail(4)"
   ]
  },
  {
   "cell_type": "code",
   "execution_count": 28,
   "metadata": {},
   "outputs": [],
   "source": [
    "# Here is the list of inverted (z-axis) segmentation masks:\n",
    "revert_list = [\n",
    "    '1.2.826.0.1.3680043.1363',\n",
    "    '1.2.826.0.1.3680043.20120',\n",
    "    '1.2.826.0.1.3680043.2243',\n",
    "    '1.2.826.0.1.3680043.24606',\n",
    "    '1.2.826.0.1.3680043.32071'\n",
    "]"
   ]
  },
  {
   "cell_type": "code",
   "execution_count": 29,
   "metadata": {
    "tags": []
   },
   "outputs": [],
   "source": [
    "def load_dicom(path):\n",
    "    # path => ./train_images/1.2.826.0.1.3680043.1363/1.dcm       \n",
    "    dicom = pydicom.read_file(path)\n",
    "    #     dicom =>\n",
    "    #     Dataset.file_meta -------------------------------\n",
    "    #     (0002, 0001) File Meta Information Version       OB: b'\\x00\\x01'\n",
    "    #     (0002, 0002) Media Storage SOP Class UID         UI: CT Image Storage\n",
    "    #     (0002, 0003) Media Storage SOP Instance UID      UI: 1.2.826.0.1.3680043.1363.1.1\n",
    "    #     (0002, 0010) Transfer Syntax UID                 UI: Explicit VR Little Endian\n",
    "    #     (0002, 0012) Implementation Class UID            UI: 1.2.40.0.13.1.1.1\n",
    "    #     (0002, 0013) Implementation Version Name         SH: 'PYDICOM 2.3.0'\n",
    "    #     -------------------------------------------------\n",
    "    #     (0008, 0018) SOP Instance UID                    UI: 1.2.826.0.1.3680043.1363.1.1\n",
    "    #     (0008, 0023) Content Date                        DA: '20220727'\n",
    "    #     (0008, 0033) Content Time                        TM: '183924.353110'\n",
    "    #     (0010, 0010) Patient's Name                      PN: '1363'\n",
    "    #     (0010, 0020) Patient ID                          LO: '1363'\n",
    "    #     (0018, 0050) Slice Thickness                     DS: '1.0'\n",
    "    #     (0020, 000d) Study Instance UID                  UI: 1.2.826.0.1.3680043.1363\n",
    "    #     (0020, 000e) Series Instance UID                 UI: 1.2.826.0.1.3680043.1363.1\n",
    "    #     (0020, 0013) Instance Number                     IS: '1'\n",
    "    #     (0020, 0032) Image Position (Patient)            DS: [-149.2080078125, -350.2080078125, 54]\n",
    "    #     (0020, 0037) Image Orientation (Patient)         DS: [1, 0, 0, 0, 1, 0]\n",
    "    #     (0028, 0002) Samples per Pixel                   US: 1\n",
    "    #     (0028, 0004) Photometric Interpretation          CS: 'MONOCHROME2'\n",
    "    #     (0028, 0010) Rows                                US: 512\n",
    "    #     (0028, 0011) Columns                             US: 512\n",
    "    #     (0028, 0030) Pixel Spacing                       DS: [0.583984375, 0.583984375]\n",
    "    #     (0028, 0100) Bits Allocated                      US: 16\n",
    "    #     (0028, 0101) Bits Stored                         US: 12\n",
    "    #     (0028, 0102) High Bit                            US: 11\n",
    "    #     (0028, 0103) Pixel Representation                US: 0\n",
    "    #     (0028, 1050) Window Center                       DS: [450, 40]\n",
    "    #     (0028, 1051) Window Width                        DS: [1500, 350]\n",
    "    #     (0028, 1052) Rescale Intercept                   DS: '-1024.0'\n",
    "    #     (0028, 1053) Rescale Slope                       DS: '1.0'\n",
    "    #     (7fe0, 0010) Pixel Data                          OW: Array of 524288 elements    \n",
    "       \n",
    "    data = dicom.pixel_array\n",
    "        # data => \n",
    "        # [[ 22  35  53 ...  46  80  33]\n",
    "        #  [ 49  12  44 ...  58  52  11]    \n",
    "        #          ...\n",
    "        #          ...\n",
    "        #  [11  54  31 ... 112  64  99]\n",
    "        #  [371 280 242 ...  67  24   0]] \n",
    "        # data.shape => (512, 512) i.e., (Rows, Columns)    \n",
    "        # np.unique(data) => [0    1    2    3    4    5    ......   3156 3163 3182 3200 3228 3267 3274]\n",
    "\n",
    "    \n",
    "    data = cv2.resize(data, (image_sizes[0], image_sizes[1]), interpolation = cv2.INTER_AREA)\n",
    "        # If you are enlarging the image, you should prefer to use INTER_LINEAR or INTER_CUBIC interpolation. \n",
    "        # If you are shrinking the image, you should prefer to use INTER_AREA interpolation.    \n",
    "        # data =>\n",
    "        # [[ 40  45  57 ...  30  27  44]\n",
    "        #  [ 40  50  52 ...  38  26  26]\n",
    "        #      ...\n",
    "        #      ...\n",
    "        #  [ 99 158 234 ... 151 159 180]\n",
    "        #  [155  91  74 ...  50 134 103]] \n",
    "        # data.shape => (128,128) i.e., (image_sizes[0], image_sizes[1])\n",
    "        # np.unique(data) => [18   21   22   23   24   25   26   27   ........ 2684 2716 2727 2755 2791 2875]\n",
    "        \n",
    "    return data\n",
    "\n",
    "\n",
    "def load_dicom_line_par(path):\n",
    "    # path => ./train_images/1.2.826.0.1.3680043.1363\n",
    "\n",
    "    t_paths = sorted(glob(os.path.join(path, \"*\")),\\\n",
    "                     key=lambda x: int(x.split('/')[-1].split(\".\")[0]))\n",
    "    # glob(os.path.join(path, \"*\")) => ['./train_images/1.2.826.0.1.3680043.1363/179.dcm', \n",
    "    #                                        './train_images/1.2.826.0.1.3680043.1363/174.dcm',..........    \n",
    "    # \"./train_images/1.2.826.0.1.3680043.1363/179.dcm\".split('/')[-1].split(\".\")[0] => 179\n",
    "    # t_paths => ['./train_images/1.2.826.0.1.3680043.1363/1.dcm', \n",
    "    #                                        './train_images/1.2.826.0.1.3680043.1363/2.dcm',..........\n",
    "    \n",
    "\n",
    "    n_scans = len(t_paths) # number of scans in path; e.g. 199\n",
    "    indices = np.quantile(list(range(n_scans)), np.linspace(0., 1., image_sizes[2])).round().astype(int)\n",
    "    # np.linspace(0., 1., 128) => array([0.        , 0.00787402, 0.01574803, 0.02362205, ...., 1. ])\n",
    "    # np.linspace(start, stop, num_of_samples_to_generate, ...) => Return evenly spaced numbers over a specified interval.\n",
    "    # image_sizes[2] => defined in 'config' section above\n",
    "    # list(range(199)) = [0,1,2,3,.......,199]\n",
    "    # np.quantile([0,1,2,3,.......,199], array([0.        , 0.00787402, 0.01574803, 0.02362205, ...., 1. ]))\n",
    "    # np.quantile(Input,  sequence of quantiles to compute between 0 and 1, ...)\n",
    "    # indices => [  0   2   3   5   6   8   9  11  12  14  16  17  19  20  22  23  25  27 ............ 198]    \n",
    "    # len(indices) => 128\n",
    "    # even if n_scans is less than 128, the len(indices) remained 128. As, quantiles are repeated.\n",
    "    \n",
    "    t_paths = [t_paths[i] for i in indices] \n",
    "    # selecting 'image_sizes[2]' no. of elements from t_paths\n",
    "    # previous 199 now 128\n",
    "    \n",
    "\n",
    "    images = []\n",
    "    for filename in t_paths:\n",
    "        images.append(load_dicom(filename))\n",
    "    # images => list all images, where each image is in 'array' form with shape (128,128).\n",
    "\n",
    "    images = np.stack(images, 0)\n",
    "    # np.stack(arrays, axis, out=None, ...) => Join a sequence of arrays along a new axis.    \n",
    "    #  images.shape => (128, 128, 128) i.e., (z,x,y)\n",
    "    #  first axis is z axis (represents number of images) and (x,y) is per image shape.\n",
    "    # images => \n",
    "    # [[[ 39  30  37 ...  30  40  37]\n",
    "    #   [ 32  38  29 ...  27  36  34]\n",
    "    #   [ 27  36  40 ...  30  30  33]\n",
    "\n",
    "    #   ...\n",
    "    #   ...\n",
    "    #   ...\n",
    "\n",
    "    #   [ 66  71  83 ...  78  69  68]\n",
    "    #   [ 74  67  63 ...  63  60  68]\n",
    "    #   [ 69  73  65 ...  72  74  71]]]  \n",
    "    \n",
    "    \n",
    "    # normalization section\n",
    "    images = images - np.min(images)\n",
    "        # np.min(images) => minimum value in (z,x,y) matrix    \n",
    "    images = images / (np.max(images) + 1e-4)\n",
    "        # images=>\n",
    "        # [[[0.00953098 0.00727364 0.00902935 ... 0.00727364 0.00978179 0.00902935]\n",
    "        #   [0.00777527 0.00928016 0.00702282 ... 0.00652119 0.00877853 0.0082769 ]\n",
    "        #   [0.00652119 0.00877853 0.00978179 ... 0.00727364 0.00727364 0.00802608]\n",
    "        #   ...\n",
    "        #   ...\n",
    "\n",
    "    # normalized values are too low thus multiplying by 255 to stay within the range.\n",
    "    images = (images * 255).astype(np.uint8)\n",
    "        # prior to any type of transformation(resize, augmentation etc.) convert data to uint8.    \n",
    "        \n",
    "        # with \".astype(np.uint8)\", images =>\n",
    "        # [[[ 2  1  2 ...  1  2  2]\n",
    "        #   [ 1  2  1 ...  1  2  2]\n",
    "        #   [ 1  2  2 ...  1  1  2]    \n",
    "        #   ...\n",
    "        #   ...\n",
    "\n",
    "        # without \".astype(np.uint8)\", images =>\n",
    "        # [[[ 2.43039874  1.85477798  2.30248301 ...  1.85477798  2.4943566  2.30248301]\n",
    "        #   [ 1.9826937   2.36644087  1.79082012 ...  1.6629044   2.23852515  2.11060943]\n",
    "        #   [ 1.6629044   2.23852515  2.4943566  ...  1.85477798  1.85477798  2.04665157]\n",
    "        #     ...\n",
    "        #     ...\n",
    "\n",
    "    return images, indices\n",
    "\n",
    "\n",
    "def load_sample(row, has_mask=True):\n",
    "    # row =>\n",
    "    # index                                                          0\n",
    "    # StudyInstanceUID                        1.2.826.0.1.3680043.1363\n",
    "    # patient_overall                                                1\n",
    "    # C1                                                             0\n",
    "    # C2                                                             0\n",
    "    # C3                                                             0\n",
    "    # C4                                                             0\n",
    "    # C5                                                             1\n",
    "    # C6                                                             0\n",
    "    # C7                                                             0\n",
    "    # mask_file           ./segmentations/1.2.826.0.1.3680043.1363.nii\n",
    "    # image_folder             ./train_images/1.2.826.0.1.3680043.1363\n",
    "    # fold                                                           0\n",
    "    # Name: 0, dtype: object    \n",
    "    \n",
    "    image, index = load_dicom_line_par(row.image_folder)\n",
    "    # image.shape => (128,128,128)\n",
    "    # image.ndim => 3    \n",
    "    \n",
    "    if image.ndim < 4: # number of dimension is less 4\n",
    "        image = np.expand_dims(image, axis=0).repeat(repeats=3, axis=0)  # to 3ch\n",
    "        # np.expand_dims(image, axis=0) => (1,128,128,128)\n",
    "        # image.shape => (3,128,128,128) i.e., repeatition of (128,128,128) three times\n",
    "        # image.ndim => 4            \n",
    "\n",
    "    if has_mask:\n",
    "        # reading nii file\n",
    "        # to ask for the array data is to call the get_fdata()\n",
    "        mask_org = nib.load(row.mask_file).get_fdata()\n",
    "            # np.min(mask_org, np.max(mask_org) => 0.0, 10.0\n",
    "            # np.unique(mask_org) => [ 0.  1.  2.  3.  4.  5.  6.  7.  8.  9. 10.]\n",
    "        \n",
    "        shape = mask_org.shape\n",
    "            # type(mask_org) => <class 'numpy.memmap'> \n",
    "            # shape => (512, 512, 199) i.e., (0,1,2)\n",
    "            # 199 number of slices/images (each patient have different-2 slices/images)\n",
    "                        \n",
    "            \n",
    "        if row.StudyInstanceUID in revert_list:\n",
    "            # trasposing such that mask will be in orientation with image\n",
    "            mask_org = mask_org.transpose((2, 1, 0))[:, ::-1, :]  \n",
    "                # np.transpose(a, axes=(2, 1, 0)) => Returns an array with axes transposed.\n",
    "                # mask_org.shape => (199, 512, 512)                        \n",
    "        else:\n",
    "            # trasposing such that mask will be in orientation with image\n",
    "            mask_org = mask_org.transpose((2, 1, 0))[::-1, ::-1, :-1:]  \n",
    "                # np.transpose(a, axes=(2, 1, 0)) => Returns an array with axes transposed.\n",
    "                # mask_org.shape => (199, 512, 512)            \n",
    "            \n",
    "        mask_org = mask_org[index]  # picking same indexes from 199, as in images\n",
    "            # mask_org.shape => (128, 512, 512)        \n",
    "        \n",
    "        shape = mask_org.shape\n",
    "\n",
    "        mask = np.zeros((7, shape[0], shape[1], shape[2]))\n",
    "            # mask.shape => (7,128,512,512) # we only intereseted in seven mask for (seven cervical vertebrae C1 to C7)   \n",
    "        for cId in range(7):\n",
    "            mask[cId] = (mask_org == (cId+1))\n",
    "                # (mask_org == (cid+1)) ==>\n",
    "                # [[[False False False ... False False False]\n",
    "                #   [False False False ... False False False]\n",
    "                #   [False False False ... False False False]\n",
    "                #   ...\n",
    "                #   ...\n",
    "                #   [False False False ... False False False]\n",
    "                #   [False False False ... False False False]\n",
    "                #   [False False False ... False False False]]]\n",
    "                \n",
    "        # mask.shape => (7, 128, 512, 512)\n",
    "        # np.min(mask), np.max(mask) => 0., 1.\n",
    "\n",
    "        mask = mask.astype(np.uint8) * 255        \n",
    "        # np.min(mask), np.max(mask) => 0, 255        \n",
    "        # np.unique(mask) => [0 255]        \n",
    "            \n",
    "        shape = mask.shape    \n",
    "            \n",
    "            # mask.shape => (7, 128, 512, 512) => 7 = channels, [128,512,512] = spatial dimension \n",
    "        mask = R(mask).numpy() \n",
    "            # type(mask), mask.shape, np.min(mask), np.max(mask)  => np.ndarray, (7, 128, 128, 128), 0, 255\n",
    "            # np.unique(mask) => [0  15  31  47  63  79  95 111 127 143 159 175 191 207 223 239 255]         \n",
    "\n",
    "        return image, mask\n",
    "    else:\n",
    "        return image\n",
    "\n",
    "\n",
    "\n",
    "class SEGDataset(torch.utils.data.Dataset): \n",
    "# An abstract class representing a Dataset.\n",
    "# An abstract class is a class, but not one you can create objects from directly. Its purpose is to define how other classes should look like, i.e. what methods and properties they are expected to have.\n",
    "    def __init__(self, df, mode, transform):\n",
    "        \n",
    "        self.df = df.reset_index()\n",
    "        self.mode = mode\n",
    "        self.transform = transform\n",
    "\n",
    "    def __len__(self):\n",
    "        return self.df.shape[0]\n",
    "\n",
    "    def __getitem__(self, index):\n",
    "        row = self.df.iloc[index]                \n",
    "\n",
    "#         image, mask = load_sample(row, has_mask=True)\n",
    "            \n",
    "#             # np.min(image), np.max(image) => 0 254\n",
    "#             # mask.shape, np.min(mask), np.max(mask) => (7, 128, 128, 128), 0, 255\n",
    "#             # np.unique(mask) => [ 0  15  31  47  63  79  95 111 127 143 159 175 191 207 223 239 255]\n",
    "#         res = self.transform({'image':image, 'mask':mask}) # returns torch array\n",
    "#         image = res['image'] / 255. # scaling high image values otherwise no display. \n",
    "#         mask = res['mask']\n",
    "# #         image = image / 255.  # for view without transform\n",
    "        \n",
    "#             # mask.shape, np.min(mask), np.max(mask) => torch.Size([7, 128, 128, 128]), 0.0, 255.0 \n",
    "#             # np.unique(mask) => [0.  15.  31.  47.  63.  79.  95. 111. 127. 143. 159. 175. 191. 207. 223. 239. 255.]\n",
    "#         mask = (mask > 127).astype(np.float32) # 255/2 = 127.5 so convert '<127 to 0' and '>127 to 1'.\n",
    "#             # np.min(image), np.max(image) => 0.0, 1.0\n",
    "#             # mask.shape, np.min(mask), np.max(mask), np.unique(mask) => (7, 128, 128, 128), 0.0, 1.0, [0. 1.]\n",
    "        \n",
    "        ### using local cache\n",
    "        image_file = os.path.join(data_dir, f'numpy/{row.StudyInstanceUID}.npy')\n",
    "        mask_file = os.path.join(data_dir, f'numpy/{row.StudyInstanceUID}_mask.npy')\n",
    "#         np.save(image_file, image)\n",
    "#         np.save(mask_file, mask)\n",
    "        \n",
    "        image = np.load(image_file)\n",
    "        mask = np.load(mask_file)\n",
    "                \n",
    "        image, mask = torch.tensor(image).float(), torch.tensor(mask).float()        \n",
    "        \n",
    "        return image, mask\n"
   ]
  },
  {
   "cell_type": "code",
   "execution_count": 30,
   "metadata": {},
   "outputs": [],
   "source": [
    "# # storing image, mask => in numpy formats\n",
    "# df_show = df_seg\n",
    "# dataset_show = SEGDataset(df_show, 'train', transform=transforms_train)\n",
    "# for index, row in df_show.iterrows():\n",
    "#     img, mask = dataset_show[index]"
   ]
  },
  {
   "cell_type": "code",
   "execution_count": 31,
   "metadata": {
    "tags": []
   },
   "outputs": [],
   "source": [
    "# df_show = df_seg[0:4] # testing only few value\n",
    "# dataset_show = SEGDataset(df_show, 'train', transform=transforms_train)"
   ]
  },
  {
   "cell_type": "code",
   "execution_count": 32,
   "metadata": {},
   "outputs": [],
   "source": [
    "# # for debugging\n",
    "# img, mask = dataset_show[0]"
   ]
  },
  {
   "cell_type": "code",
   "execution_count": 33,
   "metadata": {
    "tags": []
   },
   "outputs": [],
   "source": [
    "# # viewing some images\n",
    "# plt.rcParams[\"figure.figsize\"] = (20,8)\n",
    "# for i in range(1): # 2\n",
    "#     f, axarr = plt.subplots(1,8)\n",
    "#     for p in range(4):\n",
    "#         idx = i*4+p\n",
    "#         img, mask = dataset_show[idx]\n",
    "#             # img.shape, mask.shape => (3, 128, 128, 128) (7, 128, 128, 128)        \n",
    "        \n",
    "#         img = img[:, 60, :, :] # checking 60th dcm image for a particular patient       \n",
    "#         mask = mask[:, 60, :, :] # checking corresponding 60th slice \n",
    "#             # img.shape, mask.shape => (3, 128, 128) (7, 128, 128)        \n",
    "        \n",
    "#         # merging 7 channels in order to reduce to 3\n",
    "#         mask[0] = mask[0] + mask[3] + mask[6] # merging C1, C4 and C7\n",
    "#         mask[1] = mask[1] + mask[4] # merging C2, C5\n",
    "#         mask[2] = mask[2] + mask[5] # merging C3, C6\n",
    "        \n",
    "#         mask = mask[:3] # selecting only 3 sequence / channels out of 7.\n",
    "#             # mask.shape => (3, 128, 128)\n",
    "\n",
    "\n",
    "#         axarr[p].imshow(img.transpose(0, 1).transpose(1,2).squeeze()) # squeeze(); removes axes of length one.\n",
    "#         axarr[p+4].imshow(mask.transpose(0, 1).transpose(1,2).squeeze())        \n",
    "\n",
    "            \n",
    "# for i in range(1): # 2\n",
    "#     f, axarr = plt.subplots(1,4)\n",
    "#     for p in range(4):\n",
    "#         idx = i*4+p\n",
    "#         img, mask = dataset_show[idx]        \n",
    "#         img = img[:, 60, :, :] # checking 60th dcm image for a particular patient       \n",
    "#         mask = mask[:, 60, :, :] # checking corresponding 60th slice \n",
    "        \n",
    "#         # merging 7 channels in order to reduce to 3\n",
    "#         mask[0] = mask[0] + mask[3] + mask[6] # merging C1, C4 and C7\n",
    "#         mask[1] = mask[1] + mask[4] # merging C2, C5\n",
    "#         mask[2] = mask[2] + mask[5] # merging C3, C6\n",
    "        \n",
    "#         mask = mask[:3] # selecting only 3 sequence / channels out of 7.\n",
    "            \n",
    "#         img = img * 0.7 + mask * 0.3 # merging image and its mask\n",
    "#             # img.shape => (3, 128, 128)           \n",
    "#         axarr[p].imshow(img.transpose(0, 1).transpose(1,2).squeeze())  # squeeze(); removes axes of length one."
   ]
  },
  {
   "cell_type": "markdown",
   "metadata": {},
   "source": [
    "# Model"
   ]
  },
  {
   "cell_type": "code",
   "execution_count": null,
   "metadata": {},
   "outputs": [],
   "source": []
  },
  {
   "cell_type": "code",
   "execution_count": 16,
   "metadata": {},
   "outputs": [],
   "source": [
    "class TimmSegModel(nn.Module):  # nn.Module: Base class for all neural network modules.\n",
    "    def __init__(self, backbone, segtype='unet', pretrained=False):\n",
    "        super(TimmSegModel, self).__init__()\n",
    "\n",
    "        self.encoder = timm.create_model(\n",
    "            backbone,\n",
    "            in_chans=3, # number of channels for input\n",
    "            features_only=True, \n",
    "            # output feature maps for selected levels. leave output of encoder.\n",
    "            # default, 5 strides will be output from most of models.\n",
    "            \n",
    "            drop_rate=drop_rate, # set the dropout rate for training.\n",
    "            drop_path_rate=drop_path_rate, # stochastic depth rate. to “deactivate” some layers during training.\n",
    "            pretrained=pretrained\n",
    "        )\n",
    "        # self.encoder => for summary\n",
    "        # self.encoder.default_cfg =>        \n",
    "        # {'url': 'https://github.com/rwightman/pytorch-image-models/releases/download/v0.1-weights/resnet18d_ra2-48a79e06.pth', \n",
    "        #  'input_size': (3, 224, 224), 'pool_size': (7, 7), 'interpolation': 'bicubic', 'mean': (0.485, 0.456, 0.406), \n",
    "        #  'std': (0.229, 0.224, 0.225), 'first_conv': 'conv1.0', 'architecture': 'resnet18d'}\n",
    "        \n",
    "        # self.encoder.feature_info.module_name() => ['act1', 'layer1', 'layer2', 'layer3', 'layer4']\n",
    "        # self.encoder.feature_info.channels() => [64, 64, 128, 256, 512]\n",
    "        # self.encoder.feature_info.reduction() => [2, 4, 8, 16, 32]        \n",
    "\n",
    "        g = self.encoder(torch.rand(1, 3, 64, 64))\n",
    "        # torch.rand(*size) => Returns a tensor filled with random numbers from a uniform distribution on the interval [0, 1)[0,1)\n",
    "        # type(g) => list\n",
    "        # len(g) => 5\n",
    "        # g[0].shape, g[1].shape, g[2].shape, g[3].shape, g[4].shape =>\n",
    "        # torch.Size([1, 64, 32, 32]), torch.Size([1, 64, 16, 16]), \n",
    "        # torch.Size([1, 128, 8, 8]), torch.Size([1, 256, 4, 4]),\n",
    "        # torch.Size([1, 512, 2, 2])\n",
    "        # number of channels is consistent with: self.encoder.feature_info.channels()               \n",
    "        \n",
    "        encoder_channels = [1] + [_.shape[1] for _ in g]\n",
    "        # encoder_channels => [1, 64, 64, 128, 256, 512]\n",
    "            \n",
    "        decoder_channels = [256, 128, 64, 32, 16]        # resnet18d\n",
    "        \n",
    "        if segtype == 'unet':\n",
    "            # resnet is in list of supported encoders to the smp\n",
    "            self.decoder = smp.unet.decoder.UnetDecoder(\n",
    "                encoder_channels=encoder_channels[:n_blocks+1],                \n",
    "                decoder_channels=decoder_channels[:n_blocks],\n",
    "                # List of integers which specify in_channels parameter for convolutions used in decoder.                \n",
    "                \n",
    "                n_blocks=n_blocks, # n_blocks=encoder_depth,\n",
    "                attention_type = 'scse',                \n",
    "            )\n",
    "\n",
    "        self.segmentation_head = nn.Conv2d(decoder_channels[n_blocks-1], out_dim, kernel_size=(3, 3), stride=(1, 1), padding=(1, 1))\n",
    "        # nn.Conv2d(in_channels, out_channels,...) => \n",
    "        # Applies a 2D convolution over an input signal composed of several input planes.\n",
    "\n",
    "    def forward(self,x):\n",
    "        # x => torch.Size([1, 3, 128, 128, 128]); 1 => batch_size\n",
    "\n",
    "        global_features = [0] + self.encoder(x)[:n_blocks]\n",
    "        # global_features[0], global_features[1].shape, global_features[2].shape, global_features[3].shape, global_features[4].shape =>\n",
    "        # 0 torch.Size([1, 64, 64, 64, 64]) torch.Size([1, 64, 32, 32, 32]) torch.Size([1, 128, 16, 16, 16]) torch.Size([1, 256, 8, 8, 8])\n",
    "        \n",
    "        seg_features = self.decoder(*global_features) # (*global_features) is equivalent to (global_features[0], global_features[1], global_features[2]...)\n",
    "        # seg_features.shape => torch.Size([1, 32, 128, 128, 128])\n",
    "\n",
    "        seg_features = self.segmentation_head(seg_features)\n",
    "        # seg_features.shape => torch.Size([1, 7, 128, 128, 128])\n",
    "        return seg_features"
   ]
  },
  {
   "cell_type": "code",
   "execution_count": 17,
   "metadata": {},
   "outputs": [],
   "source": [
    "from conv2d_same import Conv2dSame\n",
    "from conv3d_same import Conv3dSame\n",
    "\n",
    "\n",
    "def convert_3d(module):\n",
    "\n",
    "    module_output = module\n",
    "    if isinstance(module, torch.nn.BatchNorm2d):\n",
    "        module_output = torch.nn.BatchNorm3d(\n",
    "            module.num_features,\n",
    "            module.eps,\n",
    "            module.momentum,\n",
    "            module.affine,\n",
    "            module.track_running_stats,\n",
    "        )\n",
    "        \n",
    "        # module => BatchNorm2d\n",
    "        # affine – a boolean value that when set to True, this module has learnable affine parameters.\n",
    "        # parameters weight and bias are only defined if the argument affine is set to True.\n",
    "        if module.affine:\n",
    "            # torch.no_grad() temporarily sets all of the requires_grad flags to false.\n",
    "            # 'requires_grad' flag is set then model will compute gradient w.r.t to parameter.\n",
    "            with torch.no_grad():\n",
    "            # with => ensures that resource is \"cleaned up\" when the code that uses it finishes running, even if exceptions are thrown.\n",
    "            # with torch.no_grad() => disable gradient calculation in this context.\n",
    "                module_output.weight = module.weight\n",
    "                module_output.bias = module.bias\n",
    "        module_output.running_mean = module.running_mean\n",
    "        module_output.running_var = module.running_var\n",
    "        module_output.num_batches_tracked = module.num_batches_tracked\n",
    "        if hasattr(module, \"qconfig\"):\n",
    "            module_output.qconfig = module.qconfig\n",
    "            \n",
    "    elif isinstance(module, Conv2dSame):\n",
    "        module_output = Conv3dSame(\n",
    "            in_channels=module.in_channels,\n",
    "            out_channels=module.out_channels,\n",
    "            kernel_size=module.kernel_size[0],\n",
    "            stride=module.stride[0],\n",
    "            padding=module.padding[0],\n",
    "            dilation=module.dilation[0],\n",
    "            groups=module.groups,\n",
    "            bias=module.bias is not None,\n",
    "        )\n",
    "        module_output.weight = torch.nn.Parameter(module.weight.unsqueeze(-1).repeat(1,1,1,1,module.kernel_size[0]))\n",
    "\n",
    "    elif isinstance(module, torch.nn.Conv2d):\n",
    "        module_output = torch.nn.Conv3d(\n",
    "            in_channels=module.in_channels,\n",
    "            out_channels=module.out_channels,\n",
    "            kernel_size=module.kernel_size[0],\n",
    "            stride=module.stride[0],\n",
    "            padding=module.padding[0],\n",
    "            dilation=module.dilation[0],\n",
    "            groups=module.groups,\n",
    "            bias=module.bias is not None,\n",
    "            padding_mode=module.padding_mode\n",
    "        )\n",
    "        module_output.weight = torch.nn.Parameter(module.weight.unsqueeze(-1).repeat(1,1,1,1,module.kernel_size[0]))\n",
    "\n",
    "    elif isinstance(module, torch.nn.MaxPool2d):\n",
    "        module_output = torch.nn.MaxPool3d(\n",
    "            kernel_size=module.kernel_size,\n",
    "            stride=module.stride,\n",
    "            padding=module.padding,\n",
    "            dilation=module.dilation,\n",
    "            ceil_mode=module.ceil_mode,\n",
    "        )\n",
    "    elif isinstance(module, torch.nn.AvgPool2d):\n",
    "        module_output = torch.nn.AvgPool3d(\n",
    "            kernel_size=module.kernel_size,\n",
    "            stride=module.stride,\n",
    "            padding=module.padding,\n",
    "            ceil_mode=module.ceil_mode,\n",
    "        )\n",
    "\n",
    "    for name, child in module.named_children():\n",
    "        module_output.add_module( name, convert_3d(child) )\n",
    "    del module\n",
    "\n",
    "    return module_output"
   ]
  },
  {
   "cell_type": "code",
   "execution_count": 18,
   "metadata": {},
   "outputs": [],
   "source": [
    "# m = TimmSegModel(backbone)\n",
    "#     # m => <class '__main__.TimmSegModel'>\n",
    "#     # TimmSegModel(\n",
    "#     #   (encoder): FeatureListNet(\n",
    "#     #     (conv1): Sequential(\n",
    "#     #       (0): Conv2d(3, 32, kernel_size=(3, 3), stride=(2, 2), padding=(1, 1), bias=False)\n",
    "#     #  .....\n",
    "#     #  .....\n",
    "\n",
    "# # all 2d layers are converted to 3d\n",
    "# m = convert_3d(m)\n",
    "#     # m => <class '__main__.TimmSegModel'>\n",
    "#     # TimmSegModel(\n",
    "#     #   (encoder): FeatureListNet(\n",
    "#     #     (conv1): Sequential(\n",
    "#     #       (0): Conv3d(3, 32, kernel_size=(3, 3, 3), stride=(2, 2, 2), padding=(1, 1, 1), bias=False)\n",
    "#     #  .....\n",
    "#     #  .....\n",
    "\n",
    "# # m(torch.rand(1, 3, 128,128,128)).shape\n",
    "# # m(torch.rand(1, 3, 128,128,128)).shape => torch.Size([1, 7, 128, 128, 128])"
   ]
  },
  {
   "cell_type": "code",
   "execution_count": 19,
   "metadata": {},
   "outputs": [
    {
     "data": {
      "image/svg+xml": [
       "<?xml version=\"1.0\" encoding=\"UTF-8\" standalone=\"no\"?>\n",
       "<!DOCTYPE svg PUBLIC \"-//W3C//DTD SVG 1.1//EN\"\n",
       " \"http://www.w3.org/Graphics/SVG/1.1/DTD/svg11.dtd\">\n",
       "<!-- Generated by graphviz version 2.43.0 (0)\n",
       " -->\n",
       "<!-- Title: model Pages: 1 -->\n",
       "<svg width=\"529pt\" height=\"2657pt\"\n",
       " viewBox=\"0.00 0.00 529.16 2657.00\" xmlns=\"http://www.w3.org/2000/svg\" xmlns:xlink=\"http://www.w3.org/1999/xlink\">\n",
       "<g id=\"graph0\" class=\"graph\" transform=\"scale(1.25 1.25) rotate(0) translate(4 3310)\">\n",
       "<title>model</title>\n",
       "<polygon fill=\"white\" stroke=\"transparent\" points=\"-4,4 -4,-3310 656,-3310 656,4 -4,4\"/>\n",
       "<g id=\"clust1\" class=\"cluster\">\n",
       "<title>cluster_2</title>\n",
       "<polygon fill=\"none\" stroke=\"black\" stroke-dasharray=\"5,2\" points=\"8,-1795 8,-3266 264,-3266 264,-1795 8,-1795\"/>\n",
       "<text text-anchor=\"middle\" x=\"61.5\" y=\"-3252.4\" font-family=\"Times,serif\" font-size=\"12.00\">FeatureListNet</text>\n",
       "</g>\n",
       "<g id=\"clust2\" class=\"cluster\">\n",
       "<title>cluster_3</title>\n",
       "<polygon fill=\"none\" stroke=\"black\" stroke-dasharray=\"5,2\" points=\"16,-2690 16,-3237 256,-3237 256,-2690 16,-2690\"/>\n",
       "<text text-anchor=\"middle\" x=\"56\" y=\"-3223.4\" font-family=\"Times,serif\" font-size=\"12.00\">Sequential</text>\n",
       "</g>\n",
       "<g id=\"clust3\" class=\"cluster\">\n",
       "<title>cluster_4</title>\n",
       "<polygon fill=\"none\" stroke=\"black\" stroke-dasharray=\"5,2\" points=\"27,-2299 27,-2456 255,-2456 255,-2299 27,-2299\"/>\n",
       "<text text-anchor=\"middle\" x=\"67\" y=\"-2442.4\" font-family=\"Times,serif\" font-size=\"12.00\">Sequential</text>\n",
       "</g>\n",
       "<g id=\"clust4\" class=\"cluster\">\n",
       "<title>cluster_5</title>\n",
       "<polygon fill=\"none\" stroke=\"black\" stroke-dasharray=\"5,2\" points=\"22,-2134 22,-2291 256,-2291 256,-2134 22,-2134\"/>\n",
       "<text text-anchor=\"middle\" x=\"62\" y=\"-2277.4\" font-family=\"Times,serif\" font-size=\"12.00\">Sequential</text>\n",
       "</g>\n",
       "<g id=\"clust5\" class=\"cluster\">\n",
       "<title>cluster_6</title>\n",
       "<polygon fill=\"none\" stroke=\"black\" stroke-dasharray=\"5,2\" points=\"22,-1969 22,-2126 256,-2126 256,-1969 22,-1969\"/>\n",
       "<text text-anchor=\"middle\" x=\"62\" y=\"-2112.4\" font-family=\"Times,serif\" font-size=\"12.00\">Sequential</text>\n",
       "</g>\n",
       "<g id=\"clust6\" class=\"cluster\">\n",
       "<title>cluster_7</title>\n",
       "<polygon fill=\"none\" stroke=\"black\" stroke-dasharray=\"5,2\" points=\"35,-1803 35,-1961 251,-1961 251,-1803 35,-1803\"/>\n",
       "<text text-anchor=\"middle\" x=\"75\" y=\"-1947.4\" font-family=\"Times,serif\" font-size=\"12.00\">Sequential</text>\n",
       "</g>\n",
       "<g id=\"clust7\" class=\"cluster\">\n",
       "<title>cluster_8</title>\n",
       "<polygon fill=\"none\" stroke=\"black\" stroke-dasharray=\"5,2\" points=\"272,-130 272,-1961 602,-1961 602,-130 272,-130\"/>\n",
       "<text text-anchor=\"middle\" x=\"320\" y=\"-1947.4\" font-family=\"Times,serif\" font-size=\"12.00\">UnetDecoder</text>\n",
       "</g>\n",
       "<g id=\"clust8\" class=\"cluster\">\n",
       "<title>cluster_9</title>\n",
       "<polygon fill=\"none\" stroke=\"black\" stroke-dasharray=\"5,2\" points=\"280,-1413 280,-1882 594,-1882 594,-1413 280,-1413\"/>\n",
       "<text text-anchor=\"middle\" x=\"331\" y=\"-1868.4\" font-family=\"Times,serif\" font-size=\"12.00\">DecoderBlock</text>\n",
       "</g>\n",
       "<g id=\"clust9\" class=\"cluster\">\n",
       "<title>cluster_10</title>\n",
       "<polygon fill=\"none\" stroke=\"black\" stroke-dasharray=\"5,2\" points=\"286,-936 286,-1405 594,-1405 594,-936 286,-936\"/>\n",
       "<text text-anchor=\"middle\" x=\"337\" y=\"-1391.4\" font-family=\"Times,serif\" font-size=\"12.00\">DecoderBlock</text>\n",
       "</g>\n",
       "<g id=\"clust10\" class=\"cluster\">\n",
       "<title>cluster_11</title>\n",
       "<polygon fill=\"none\" stroke=\"black\" stroke-dasharray=\"5,2\" points=\"286,-459 286,-928 594,-928 594,-459 286,-459\"/>\n",
       "<text text-anchor=\"middle\" x=\"337\" y=\"-914.4\" font-family=\"Times,serif\" font-size=\"12.00\">DecoderBlock</text>\n",
       "</g>\n",
       "<g id=\"clust11\" class=\"cluster\">\n",
       "<title>cluster_12</title>\n",
       "<polygon fill=\"none\" stroke=\"black\" stroke-dasharray=\"5,2\" points=\"313,-138 313,-451 567,-451 567,-138 313,-138\"/>\n",
       "<text text-anchor=\"middle\" x=\"364\" y=\"-437.4\" font-family=\"Times,serif\" font-size=\"12.00\">DecoderBlock</text>\n",
       "</g>\n",
       "<!-- 0 -->\n",
       "<g id=\"node1\" class=\"node\">\n",
       "<title>0</title>\n",
       "<polygon fill=\"lightyellow\" stroke=\"transparent\" points=\"225,-3306 47,-3306 47,-3274 225,-3274 225,-3306\"/>\n",
       "<polygon fill=\"none\" stroke=\"black\" points=\"47,-3274 47,-3306 117,-3306 117,-3274 47,-3274\"/>\n",
       "<text text-anchor=\"start\" x=\"52\" y=\"-3293\" font-family=\"Linux libertine\" font-size=\"10.00\">input&#45;tensor</text>\n",
       "<text text-anchor=\"start\" x=\"63.5\" y=\"-3282\" font-family=\"Linux libertine\" font-size=\"10.00\">depth:0</text>\n",
       "<polygon fill=\"none\" stroke=\"black\" points=\"117,-3274 117,-3306 225,-3306 225,-3274 117,-3274\"/>\n",
       "<text text-anchor=\"start\" x=\"122\" y=\"-3287.5\" font-family=\"Linux libertine\" font-size=\"10.00\">(1, 3, 128, 128, 128)</text>\n",
       "</g>\n",
       "<!-- 1 -->\n",
       "<g id=\"node2\" class=\"node\">\n",
       "<title>1</title>\n",
       "<polygon fill=\"#c1ffc1\" stroke=\"transparent\" points=\"239,-3208 33,-3208 33,-3166 239,-3166 239,-3208\"/>\n",
       "<polygon fill=\"none\" stroke=\"black\" points=\"33,-3166 33,-3208 80,-3208 80,-3166 33,-3166\"/>\n",
       "<text text-anchor=\"start\" x=\"38\" y=\"-3190\" font-family=\"Linux libertine\" font-size=\"10.00\">Conv3d</text>\n",
       "<text text-anchor=\"start\" x=\"38\" y=\"-3179\" font-family=\"Linux libertine\" font-size=\"10.00\">depth:3</text>\n",
       "<polygon fill=\"none\" stroke=\"black\" points=\"80,-3187 80,-3208 128,-3208 128,-3187 80,-3187\"/>\n",
       "<text text-anchor=\"start\" x=\"90\" y=\"-3195\" font-family=\"Linux libertine\" font-size=\"10.00\">input:</text>\n",
       "<polygon fill=\"none\" stroke=\"black\" points=\"128,-3187 128,-3208 239,-3208 239,-3187 128,-3187\"/>\n",
       "<text text-anchor=\"start\" x=\"133\" y=\"-3195\" font-family=\"Linux libertine\" font-size=\"10.00\">(1, 3, 128, 128, 128) </text>\n",
       "<polygon fill=\"none\" stroke=\"black\" points=\"80,-3166 80,-3187 128,-3187 128,-3166 80,-3166\"/>\n",
       "<text text-anchor=\"start\" x=\"85\" y=\"-3174\" font-family=\"Linux libertine\" font-size=\"10.00\">output: </text>\n",
       "<polygon fill=\"none\" stroke=\"black\" points=\"128,-3166 128,-3187 239,-3187 239,-3166 128,-3166\"/>\n",
       "<text text-anchor=\"start\" x=\"139\" y=\"-3174\" font-family=\"Linux libertine\" font-size=\"10.00\">(1, 32, 64, 64, 64) </text>\n",
       "</g>\n",
       "<!-- 0&#45;&gt;1 -->\n",
       "<g id=\"edge1\" class=\"edge\">\n",
       "<title>0&#45;&gt;1</title>\n",
       "<path fill=\"none\" stroke=\"black\" d=\"M136,-3273.66C136,-3258.99 136,-3236.46 136,-3218.19\"/>\n",
       "<polygon fill=\"black\" stroke=\"black\" points=\"139.5,-3218.02 136,-3208.02 132.5,-3218.02 139.5,-3218.02\"/>\n",
       "</g>\n",
       "<!-- 2 -->\n",
       "<g id=\"node3\" class=\"node\">\n",
       "<title>2</title>\n",
       "<polygon fill=\"#c1ffc1\" stroke=\"transparent\" points=\"248,-3130 24,-3130 24,-3088 248,-3088 248,-3130\"/>\n",
       "<polygon fill=\"none\" stroke=\"black\" points=\"24,-3088 24,-3130 101,-3130 101,-3088 24,-3088\"/>\n",
       "<text text-anchor=\"start\" x=\"29\" y=\"-3112\" font-family=\"Linux libertine\" font-size=\"10.00\">BatchNorm3d</text>\n",
       "<text text-anchor=\"start\" x=\"44\" y=\"-3101\" font-family=\"Linux libertine\" font-size=\"10.00\">depth:3</text>\n",
       "<polygon fill=\"none\" stroke=\"black\" points=\"101,-3109 101,-3130 149,-3130 149,-3109 101,-3109\"/>\n",
       "<text text-anchor=\"start\" x=\"111\" y=\"-3117\" font-family=\"Linux libertine\" font-size=\"10.00\">input:</text>\n",
       "<polygon fill=\"none\" stroke=\"black\" points=\"149,-3109 149,-3130 248,-3130 248,-3109 149,-3109\"/>\n",
       "<text text-anchor=\"start\" x=\"154\" y=\"-3117\" font-family=\"Linux libertine\" font-size=\"10.00\">(1, 32, 64, 64, 64) </text>\n",
       "<polygon fill=\"none\" stroke=\"black\" points=\"101,-3088 101,-3109 149,-3109 149,-3088 101,-3088\"/>\n",
       "<text text-anchor=\"start\" x=\"106\" y=\"-3096\" font-family=\"Linux libertine\" font-size=\"10.00\">output: </text>\n",
       "<polygon fill=\"none\" stroke=\"black\" points=\"149,-3088 149,-3109 248,-3109 248,-3088 149,-3088\"/>\n",
       "<text text-anchor=\"start\" x=\"154\" y=\"-3096\" font-family=\"Linux libertine\" font-size=\"10.00\">(1, 32, 64, 64, 64) </text>\n",
       "</g>\n",
       "<!-- 1&#45;&gt;2 -->\n",
       "<g id=\"edge2\" class=\"edge\">\n",
       "<title>1&#45;&gt;2</title>\n",
       "<path fill=\"none\" stroke=\"black\" d=\"M136,-3165.63C136,-3157.82 136,-3148.73 136,-3140.18\"/>\n",
       "<polygon fill=\"black\" stroke=\"black\" points=\"139.5,-3140.16 136,-3130.16 132.5,-3140.16 139.5,-3140.16\"/>\n",
       "</g>\n",
       "<!-- 3 -->\n",
       "<g id=\"node4\" class=\"node\">\n",
       "<title>3</title>\n",
       "<polygon fill=\"#c1ffc1\" stroke=\"transparent\" points=\"233,-3052 39,-3052 39,-3010 233,-3010 233,-3052\"/>\n",
       "<polygon fill=\"none\" stroke=\"black\" points=\"39,-3010 39,-3052 86,-3052 86,-3010 39,-3010\"/>\n",
       "<text text-anchor=\"start\" x=\"49.5\" y=\"-3034\" font-family=\"Linux libertine\" font-size=\"10.00\">ReLU</text>\n",
       "<text text-anchor=\"start\" x=\"44\" y=\"-3023\" font-family=\"Linux libertine\" font-size=\"10.00\">depth:3</text>\n",
       "<polygon fill=\"none\" stroke=\"black\" points=\"86,-3031 86,-3052 134,-3052 134,-3031 86,-3031\"/>\n",
       "<text text-anchor=\"start\" x=\"96\" y=\"-3039\" font-family=\"Linux libertine\" font-size=\"10.00\">input:</text>\n",
       "<polygon fill=\"none\" stroke=\"black\" points=\"134,-3031 134,-3052 233,-3052 233,-3031 134,-3031\"/>\n",
       "<text text-anchor=\"start\" x=\"139\" y=\"-3039\" font-family=\"Linux libertine\" font-size=\"10.00\">(1, 32, 64, 64, 64) </text>\n",
       "<polygon fill=\"none\" stroke=\"black\" points=\"86,-3010 86,-3031 134,-3031 134,-3010 86,-3010\"/>\n",
       "<text text-anchor=\"start\" x=\"91\" y=\"-3018\" font-family=\"Linux libertine\" font-size=\"10.00\">output: </text>\n",
       "<polygon fill=\"none\" stroke=\"black\" points=\"134,-3010 134,-3031 233,-3031 233,-3010 134,-3010\"/>\n",
       "<text text-anchor=\"start\" x=\"139\" y=\"-3018\" font-family=\"Linux libertine\" font-size=\"10.00\">(1, 32, 64, 64, 64) </text>\n",
       "</g>\n",
       "<!-- 2&#45;&gt;3 -->\n",
       "<g id=\"edge3\" class=\"edge\">\n",
       "<title>2&#45;&gt;3</title>\n",
       "<path fill=\"none\" stroke=\"black\" d=\"M136,-3087.63C136,-3079.82 136,-3070.73 136,-3062.18\"/>\n",
       "<polygon fill=\"black\" stroke=\"black\" points=\"139.5,-3062.16 136,-3052.16 132.5,-3062.16 139.5,-3062.16\"/>\n",
       "</g>\n",
       "<!-- 4 -->\n",
       "<g id=\"node5\" class=\"node\">\n",
       "<title>4</title>\n",
       "<polygon fill=\"#c1ffc1\" stroke=\"transparent\" points=\"233,-2974 39,-2974 39,-2932 233,-2932 233,-2974\"/>\n",
       "<polygon fill=\"none\" stroke=\"black\" points=\"39,-2932 39,-2974 86,-2974 86,-2932 39,-2932\"/>\n",
       "<text text-anchor=\"start\" x=\"44\" y=\"-2956\" font-family=\"Linux libertine\" font-size=\"10.00\">Conv3d</text>\n",
       "<text text-anchor=\"start\" x=\"44\" y=\"-2945\" font-family=\"Linux libertine\" font-size=\"10.00\">depth:3</text>\n",
       "<polygon fill=\"none\" stroke=\"black\" points=\"86,-2953 86,-2974 134,-2974 134,-2953 86,-2953\"/>\n",
       "<text text-anchor=\"start\" x=\"96\" y=\"-2961\" font-family=\"Linux libertine\" font-size=\"10.00\">input:</text>\n",
       "<polygon fill=\"none\" stroke=\"black\" points=\"134,-2953 134,-2974 233,-2974 233,-2953 134,-2953\"/>\n",
       "<text text-anchor=\"start\" x=\"139\" y=\"-2961\" font-family=\"Linux libertine\" font-size=\"10.00\">(1, 32, 64, 64, 64) </text>\n",
       "<polygon fill=\"none\" stroke=\"black\" points=\"86,-2932 86,-2953 134,-2953 134,-2932 86,-2932\"/>\n",
       "<text text-anchor=\"start\" x=\"91\" y=\"-2940\" font-family=\"Linux libertine\" font-size=\"10.00\">output: </text>\n",
       "<polygon fill=\"none\" stroke=\"black\" points=\"134,-2932 134,-2953 233,-2953 233,-2932 134,-2932\"/>\n",
       "<text text-anchor=\"start\" x=\"139\" y=\"-2940\" font-family=\"Linux libertine\" font-size=\"10.00\">(1, 32, 64, 64, 64) </text>\n",
       "</g>\n",
       "<!-- 3&#45;&gt;4 -->\n",
       "<g id=\"edge4\" class=\"edge\">\n",
       "<title>3&#45;&gt;4</title>\n",
       "<path fill=\"none\" stroke=\"black\" d=\"M136,-3009.63C136,-3001.82 136,-2992.73 136,-2984.18\"/>\n",
       "<polygon fill=\"black\" stroke=\"black\" points=\"139.5,-2984.16 136,-2974.16 132.5,-2984.16 139.5,-2984.16\"/>\n",
       "</g>\n",
       "<!-- 5 -->\n",
       "<g id=\"node6\" class=\"node\">\n",
       "<title>5</title>\n",
       "<polygon fill=\"#c1ffc1\" stroke=\"transparent\" points=\"248,-2896 24,-2896 24,-2854 248,-2854 248,-2896\"/>\n",
       "<polygon fill=\"none\" stroke=\"black\" points=\"24,-2854 24,-2896 101,-2896 101,-2854 24,-2854\"/>\n",
       "<text text-anchor=\"start\" x=\"29\" y=\"-2878\" font-family=\"Linux libertine\" font-size=\"10.00\">BatchNorm3d</text>\n",
       "<text text-anchor=\"start\" x=\"44\" y=\"-2867\" font-family=\"Linux libertine\" font-size=\"10.00\">depth:3</text>\n",
       "<polygon fill=\"none\" stroke=\"black\" points=\"101,-2875 101,-2896 149,-2896 149,-2875 101,-2875\"/>\n",
       "<text text-anchor=\"start\" x=\"111\" y=\"-2883\" font-family=\"Linux libertine\" font-size=\"10.00\">input:</text>\n",
       "<polygon fill=\"none\" stroke=\"black\" points=\"149,-2875 149,-2896 248,-2896 248,-2875 149,-2875\"/>\n",
       "<text text-anchor=\"start\" x=\"154\" y=\"-2883\" font-family=\"Linux libertine\" font-size=\"10.00\">(1, 32, 64, 64, 64) </text>\n",
       "<polygon fill=\"none\" stroke=\"black\" points=\"101,-2854 101,-2875 149,-2875 149,-2854 101,-2854\"/>\n",
       "<text text-anchor=\"start\" x=\"106\" y=\"-2862\" font-family=\"Linux libertine\" font-size=\"10.00\">output: </text>\n",
       "<polygon fill=\"none\" stroke=\"black\" points=\"149,-2854 149,-2875 248,-2875 248,-2854 149,-2854\"/>\n",
       "<text text-anchor=\"start\" x=\"154\" y=\"-2862\" font-family=\"Linux libertine\" font-size=\"10.00\">(1, 32, 64, 64, 64) </text>\n",
       "</g>\n",
       "<!-- 4&#45;&gt;5 -->\n",
       "<g id=\"edge5\" class=\"edge\">\n",
       "<title>4&#45;&gt;5</title>\n",
       "<path fill=\"none\" stroke=\"black\" d=\"M136,-2931.63C136,-2923.82 136,-2914.73 136,-2906.18\"/>\n",
       "<polygon fill=\"black\" stroke=\"black\" points=\"139.5,-2906.16 136,-2896.16 132.5,-2906.16 139.5,-2906.16\"/>\n",
       "</g>\n",
       "<!-- 6 -->\n",
       "<g id=\"node7\" class=\"node\">\n",
       "<title>6</title>\n",
       "<polygon fill=\"#c1ffc1\" stroke=\"transparent\" points=\"233,-2818 39,-2818 39,-2776 233,-2776 233,-2818\"/>\n",
       "<polygon fill=\"none\" stroke=\"black\" points=\"39,-2776 39,-2818 86,-2818 86,-2776 39,-2776\"/>\n",
       "<text text-anchor=\"start\" x=\"49.5\" y=\"-2800\" font-family=\"Linux libertine\" font-size=\"10.00\">ReLU</text>\n",
       "<text text-anchor=\"start\" x=\"44\" y=\"-2789\" font-family=\"Linux libertine\" font-size=\"10.00\">depth:3</text>\n",
       "<polygon fill=\"none\" stroke=\"black\" points=\"86,-2797 86,-2818 134,-2818 134,-2797 86,-2797\"/>\n",
       "<text text-anchor=\"start\" x=\"96\" y=\"-2805\" font-family=\"Linux libertine\" font-size=\"10.00\">input:</text>\n",
       "<polygon fill=\"none\" stroke=\"black\" points=\"134,-2797 134,-2818 233,-2818 233,-2797 134,-2797\"/>\n",
       "<text text-anchor=\"start\" x=\"139\" y=\"-2805\" font-family=\"Linux libertine\" font-size=\"10.00\">(1, 32, 64, 64, 64) </text>\n",
       "<polygon fill=\"none\" stroke=\"black\" points=\"86,-2776 86,-2797 134,-2797 134,-2776 86,-2776\"/>\n",
       "<text text-anchor=\"start\" x=\"91\" y=\"-2784\" font-family=\"Linux libertine\" font-size=\"10.00\">output: </text>\n",
       "<polygon fill=\"none\" stroke=\"black\" points=\"134,-2776 134,-2797 233,-2797 233,-2776 134,-2776\"/>\n",
       "<text text-anchor=\"start\" x=\"139\" y=\"-2784\" font-family=\"Linux libertine\" font-size=\"10.00\">(1, 32, 64, 64, 64) </text>\n",
       "</g>\n",
       "<!-- 5&#45;&gt;6 -->\n",
       "<g id=\"edge6\" class=\"edge\">\n",
       "<title>5&#45;&gt;6</title>\n",
       "<path fill=\"none\" stroke=\"black\" d=\"M136,-2853.63C136,-2845.82 136,-2836.73 136,-2828.18\"/>\n",
       "<polygon fill=\"black\" stroke=\"black\" points=\"139.5,-2828.16 136,-2818.16 132.5,-2828.16 139.5,-2828.16\"/>\n",
       "</g>\n",
       "<!-- 7 -->\n",
       "<g id=\"node8\" class=\"node\">\n",
       "<title>7</title>\n",
       "<polygon fill=\"#c1ffc1\" stroke=\"transparent\" points=\"236,-2740 42,-2740 42,-2698 236,-2698 236,-2740\"/>\n",
       "<polygon fill=\"none\" stroke=\"black\" points=\"42,-2698 42,-2740 89,-2740 89,-2698 42,-2698\"/>\n",
       "<text text-anchor=\"start\" x=\"47\" y=\"-2722\" font-family=\"Linux libertine\" font-size=\"10.00\">Conv3d</text>\n",
       "<text text-anchor=\"start\" x=\"47\" y=\"-2711\" font-family=\"Linux libertine\" font-size=\"10.00\">depth:3</text>\n",
       "<polygon fill=\"none\" stroke=\"black\" points=\"89,-2719 89,-2740 137,-2740 137,-2719 89,-2719\"/>\n",
       "<text text-anchor=\"start\" x=\"99\" y=\"-2727\" font-family=\"Linux libertine\" font-size=\"10.00\">input:</text>\n",
       "<polygon fill=\"none\" stroke=\"black\" points=\"137,-2719 137,-2740 236,-2740 236,-2719 137,-2719\"/>\n",
       "<text text-anchor=\"start\" x=\"142\" y=\"-2727\" font-family=\"Linux libertine\" font-size=\"10.00\">(1, 32, 64, 64, 64) </text>\n",
       "<polygon fill=\"none\" stroke=\"black\" points=\"89,-2698 89,-2719 137,-2719 137,-2698 89,-2698\"/>\n",
       "<text text-anchor=\"start\" x=\"94\" y=\"-2706\" font-family=\"Linux libertine\" font-size=\"10.00\">output: </text>\n",
       "<polygon fill=\"none\" stroke=\"black\" points=\"137,-2698 137,-2719 236,-2719 236,-2698 137,-2698\"/>\n",
       "<text text-anchor=\"start\" x=\"142\" y=\"-2706\" font-family=\"Linux libertine\" font-size=\"10.00\">(1, 64, 64, 64, 64) </text>\n",
       "</g>\n",
       "<!-- 6&#45;&gt;7 -->\n",
       "<g id=\"edge7\" class=\"edge\">\n",
       "<title>6&#45;&gt;7</title>\n",
       "<path fill=\"none\" stroke=\"black\" d=\"M136.8,-2775.63C137.11,-2767.82 137.47,-2758.73 137.81,-2750.18\"/>\n",
       "<polygon fill=\"black\" stroke=\"black\" points=\"141.31,-2750.29 138.2,-2740.16 134.31,-2750.01 141.31,-2750.29\"/>\n",
       "</g>\n",
       "<!-- 8 -->\n",
       "<g id=\"node9\" class=\"node\">\n",
       "<title>8</title>\n",
       "<polygon fill=\"#c1ffc1\" stroke=\"transparent\" points=\"252,-2662 28,-2662 28,-2620 252,-2620 252,-2662\"/>\n",
       "<polygon fill=\"none\" stroke=\"black\" points=\"28,-2620 28,-2662 105,-2662 105,-2620 28,-2620\"/>\n",
       "<text text-anchor=\"start\" x=\"33\" y=\"-2644\" font-family=\"Linux libertine\" font-size=\"10.00\">BatchNorm3d</text>\n",
       "<text text-anchor=\"start\" x=\"48\" y=\"-2633\" font-family=\"Linux libertine\" font-size=\"10.00\">depth:2</text>\n",
       "<polygon fill=\"none\" stroke=\"black\" points=\"105,-2641 105,-2662 153,-2662 153,-2641 105,-2641\"/>\n",
       "<text text-anchor=\"start\" x=\"115\" y=\"-2649\" font-family=\"Linux libertine\" font-size=\"10.00\">input:</text>\n",
       "<polygon fill=\"none\" stroke=\"black\" points=\"153,-2641 153,-2662 252,-2662 252,-2641 153,-2641\"/>\n",
       "<text text-anchor=\"start\" x=\"158\" y=\"-2649\" font-family=\"Linux libertine\" font-size=\"10.00\">(1, 64, 64, 64, 64) </text>\n",
       "<polygon fill=\"none\" stroke=\"black\" points=\"105,-2620 105,-2641 153,-2641 153,-2620 105,-2620\"/>\n",
       "<text text-anchor=\"start\" x=\"110\" y=\"-2628\" font-family=\"Linux libertine\" font-size=\"10.00\">output: </text>\n",
       "<polygon fill=\"none\" stroke=\"black\" points=\"153,-2620 153,-2641 252,-2641 252,-2620 153,-2620\"/>\n",
       "<text text-anchor=\"start\" x=\"158\" y=\"-2628\" font-family=\"Linux libertine\" font-size=\"10.00\">(1, 64, 64, 64, 64) </text>\n",
       "</g>\n",
       "<!-- 7&#45;&gt;8 -->\n",
       "<g id=\"edge8\" class=\"edge\">\n",
       "<title>7&#45;&gt;8</title>\n",
       "<path fill=\"none\" stroke=\"black\" d=\"M139.27,-2697.63C139.37,-2689.82 139.49,-2680.73 139.6,-2672.18\"/>\n",
       "<polygon fill=\"black\" stroke=\"black\" points=\"143.1,-2672.2 139.73,-2662.16 136.1,-2672.11 143.1,-2672.2\"/>\n",
       "</g>\n",
       "<!-- 9 -->\n",
       "<g id=\"node10\" class=\"node\">\n",
       "<title>9</title>\n",
       "<polygon fill=\"#c1ffc1\" stroke=\"transparent\" points=\"238,-2584 44,-2584 44,-2542 238,-2542 238,-2584\"/>\n",
       "<polygon fill=\"none\" stroke=\"black\" points=\"44,-2542 44,-2584 91,-2584 91,-2542 44,-2542\"/>\n",
       "<text text-anchor=\"start\" x=\"54.5\" y=\"-2566\" font-family=\"Linux libertine\" font-size=\"10.00\">ReLU</text>\n",
       "<text text-anchor=\"start\" x=\"49\" y=\"-2555\" font-family=\"Linux libertine\" font-size=\"10.00\">depth:2</text>\n",
       "<polygon fill=\"none\" stroke=\"black\" points=\"91,-2563 91,-2584 139,-2584 139,-2563 91,-2563\"/>\n",
       "<text text-anchor=\"start\" x=\"101\" y=\"-2571\" font-family=\"Linux libertine\" font-size=\"10.00\">input:</text>\n",
       "<polygon fill=\"none\" stroke=\"black\" points=\"139,-2563 139,-2584 238,-2584 238,-2563 139,-2563\"/>\n",
       "<text text-anchor=\"start\" x=\"144\" y=\"-2571\" font-family=\"Linux libertine\" font-size=\"10.00\">(1, 64, 64, 64, 64) </text>\n",
       "<polygon fill=\"none\" stroke=\"black\" points=\"91,-2542 91,-2563 139,-2563 139,-2542 91,-2542\"/>\n",
       "<text text-anchor=\"start\" x=\"96\" y=\"-2550\" font-family=\"Linux libertine\" font-size=\"10.00\">output: </text>\n",
       "<polygon fill=\"none\" stroke=\"black\" points=\"139,-2542 139,-2563 238,-2563 238,-2542 139,-2542\"/>\n",
       "<text text-anchor=\"start\" x=\"144\" y=\"-2550\" font-family=\"Linux libertine\" font-size=\"10.00\">(1, 64, 64, 64, 64) </text>\n",
       "</g>\n",
       "<!-- 8&#45;&gt;9 -->\n",
       "<g id=\"edge9\" class=\"edge\">\n",
       "<title>8&#45;&gt;9</title>\n",
       "<path fill=\"none\" stroke=\"black\" d=\"M140.27,-2619.63C140.37,-2611.82 140.49,-2602.73 140.6,-2594.18\"/>\n",
       "<polygon fill=\"black\" stroke=\"black\" points=\"144.1,-2594.2 140.73,-2584.16 137.1,-2594.11 144.1,-2594.2\"/>\n",
       "</g>\n",
       "<!-- 10 -->\n",
       "<g id=\"node11\" class=\"node\">\n",
       "<title>10</title>\n",
       "<polygon fill=\"#c1ffc1\" stroke=\"transparent\" points=\"247,-2506 35,-2506 35,-2464 247,-2464 247,-2506\"/>\n",
       "<polygon fill=\"none\" stroke=\"black\" points=\"35,-2464 35,-2506 100,-2506 100,-2464 35,-2464\"/>\n",
       "<text text-anchor=\"start\" x=\"40\" y=\"-2488\" font-family=\"Linux libertine\" font-size=\"10.00\">MaxPool3d</text>\n",
       "<text text-anchor=\"start\" x=\"49\" y=\"-2477\" font-family=\"Linux libertine\" font-size=\"10.00\">depth:2</text>\n",
       "<polygon fill=\"none\" stroke=\"black\" points=\"100,-2485 100,-2506 148,-2506 148,-2485 100,-2485\"/>\n",
       "<text text-anchor=\"start\" x=\"110\" y=\"-2493\" font-family=\"Linux libertine\" font-size=\"10.00\">input:</text>\n",
       "<polygon fill=\"none\" stroke=\"black\" points=\"148,-2485 148,-2506 247,-2506 247,-2485 148,-2485\"/>\n",
       "<text text-anchor=\"start\" x=\"153\" y=\"-2493\" font-family=\"Linux libertine\" font-size=\"10.00\">(1, 64, 64, 64, 64) </text>\n",
       "<polygon fill=\"none\" stroke=\"black\" points=\"100,-2464 100,-2485 148,-2485 148,-2464 100,-2464\"/>\n",
       "<text text-anchor=\"start\" x=\"105\" y=\"-2472\" font-family=\"Linux libertine\" font-size=\"10.00\">output: </text>\n",
       "<polygon fill=\"none\" stroke=\"black\" points=\"148,-2464 148,-2485 247,-2485 247,-2464 148,-2464\"/>\n",
       "<text text-anchor=\"start\" x=\"153\" y=\"-2472\" font-family=\"Linux libertine\" font-size=\"10.00\">(1, 64, 32, 32, 32) </text>\n",
       "</g>\n",
       "<!-- 9&#45;&gt;10 -->\n",
       "<g id=\"edge10\" class=\"edge\">\n",
       "<title>9&#45;&gt;10</title>\n",
       "<path fill=\"none\" stroke=\"black\" d=\"M141,-2541.63C141,-2533.82 141,-2524.73 141,-2516.18\"/>\n",
       "<polygon fill=\"black\" stroke=\"black\" points=\"144.5,-2516.16 141,-2506.16 137.5,-2516.16 144.5,-2516.16\"/>\n",
       "</g>\n",
       "<!-- 33 -->\n",
       "<g id=\"node34\" class=\"node\">\n",
       "<title>33</title>\n",
       "<polygon fill=\"aliceblue\" stroke=\"transparent\" points=\"586,-821 294,-821 294,-779 586,-779 586,-821\"/>\n",
       "<polygon fill=\"none\" stroke=\"black\" points=\"294,-779 294,-821 341,-821 341,-779 294,-779\"/>\n",
       "<text text-anchor=\"start\" x=\"309.5\" y=\"-803\" font-family=\"Linux libertine\" font-size=\"10.00\">cat</text>\n",
       "<text text-anchor=\"start\" x=\"299\" y=\"-792\" font-family=\"Linux libertine\" font-size=\"10.00\">depth:3</text>\n",
       "<polygon fill=\"none\" stroke=\"black\" points=\"341,-800 341,-821 389,-821 389,-800 341,-800\"/>\n",
       "<text text-anchor=\"start\" x=\"351\" y=\"-808\" font-family=\"Linux libertine\" font-size=\"10.00\">input:</text>\n",
       "<polygon fill=\"none\" stroke=\"black\" points=\"389,-800 389,-821 586,-821 586,-800 389,-800\"/>\n",
       "<text text-anchor=\"start\" x=\"394\" y=\"-808\" font-family=\"Linux libertine\" font-size=\"10.00\">(1, 128, 64, 64, 64), (1, 64, 64, 64, 64) </text>\n",
       "<polygon fill=\"none\" stroke=\"black\" points=\"341,-779 341,-800 389,-800 389,-779 341,-779\"/>\n",
       "<text text-anchor=\"start\" x=\"346\" y=\"-787\" font-family=\"Linux libertine\" font-size=\"10.00\">output: </text>\n",
       "<polygon fill=\"none\" stroke=\"black\" points=\"389,-779 389,-800 586,-800 586,-779 389,-779\"/>\n",
       "<text text-anchor=\"start\" x=\"440\" y=\"-787\" font-family=\"Linux libertine\" font-size=\"10.00\">(1, 192, 64, 64, 64) </text>\n",
       "</g>\n",
       "<!-- 9&#45;&gt;33 -->\n",
       "<g id=\"edge35\" class=\"edge\">\n",
       "<title>9&#45;&gt;33</title>\n",
       "<path fill=\"none\" stroke=\"black\" d=\"M238.02,-2552.53C386.22,-2535.34 652,-2492.58 652,-2407 652,-2407 652,-2407 652,-964 652,-893.27 576.92,-849 516.12,-824.74\"/>\n",
       "<polygon fill=\"black\" stroke=\"black\" points=\"517.09,-821.36 506.5,-821.02 514.56,-827.89 517.09,-821.36\"/>\n",
       "</g>\n",
       "<!-- 11 -->\n",
       "<g id=\"node12\" class=\"node\">\n",
       "<title>11</title>\n",
       "<polygon fill=\"#c1ffc1\" stroke=\"transparent\" points=\"246.5,-2427 35.5,-2427 35.5,-2385 246.5,-2385 246.5,-2427\"/>\n",
       "<polygon fill=\"none\" stroke=\"black\" points=\"36,-2385 36,-2427 100,-2427 100,-2385 36,-2385\"/>\n",
       "<text text-anchor=\"start\" x=\"41\" y=\"-2409\" font-family=\"Linux libertine\" font-size=\"10.00\">BasicBlock</text>\n",
       "<text text-anchor=\"start\" x=\"49.5\" y=\"-2398\" font-family=\"Linux libertine\" font-size=\"10.00\">depth:3</text>\n",
       "<polygon fill=\"none\" stroke=\"black\" points=\"100,-2406 100,-2427 148,-2427 148,-2406 100,-2406\"/>\n",
       "<text text-anchor=\"start\" x=\"110\" y=\"-2414\" font-family=\"Linux libertine\" font-size=\"10.00\">input:</text>\n",
       "<polygon fill=\"none\" stroke=\"black\" points=\"148,-2406 148,-2427 247,-2427 247,-2406 148,-2406\"/>\n",
       "<text text-anchor=\"start\" x=\"153\" y=\"-2414\" font-family=\"Linux libertine\" font-size=\"10.00\">(1, 64, 32, 32, 32) </text>\n",
       "<polygon fill=\"none\" stroke=\"black\" points=\"100,-2385 100,-2406 148,-2406 148,-2385 100,-2385\"/>\n",
       "<text text-anchor=\"start\" x=\"105\" y=\"-2393\" font-family=\"Linux libertine\" font-size=\"10.00\">output: </text>\n",
       "<polygon fill=\"none\" stroke=\"black\" points=\"148,-2385 148,-2406 247,-2406 247,-2385 148,-2385\"/>\n",
       "<text text-anchor=\"start\" x=\"153\" y=\"-2393\" font-family=\"Linux libertine\" font-size=\"10.00\">(1, 64, 32, 32, 32) </text>\n",
       "</g>\n",
       "<!-- 10&#45;&gt;11 -->\n",
       "<g id=\"edge11\" class=\"edge\">\n",
       "<title>10&#45;&gt;11</title>\n",
       "<path fill=\"none\" stroke=\"black\" d=\"M141,-2463.77C141,-2455.63 141,-2446.08 141,-2437.16\"/>\n",
       "<polygon fill=\"black\" stroke=\"black\" points=\"144.5,-2437.1 141,-2427.1 137.5,-2437.1 144.5,-2437.1\"/>\n",
       "</g>\n",
       "<!-- 12 -->\n",
       "<g id=\"node13\" class=\"node\">\n",
       "<title>12</title>\n",
       "<polygon fill=\"#c1ffc1\" stroke=\"transparent\" points=\"246.5,-2349 35.5,-2349 35.5,-2307 246.5,-2307 246.5,-2349\"/>\n",
       "<polygon fill=\"none\" stroke=\"black\" points=\"36,-2307 36,-2349 100,-2349 100,-2307 36,-2307\"/>\n",
       "<text text-anchor=\"start\" x=\"41\" y=\"-2331\" font-family=\"Linux libertine\" font-size=\"10.00\">BasicBlock</text>\n",
       "<text text-anchor=\"start\" x=\"49.5\" y=\"-2320\" font-family=\"Linux libertine\" font-size=\"10.00\">depth:3</text>\n",
       "<polygon fill=\"none\" stroke=\"black\" points=\"100,-2328 100,-2349 148,-2349 148,-2328 100,-2328\"/>\n",
       "<text text-anchor=\"start\" x=\"110\" y=\"-2336\" font-family=\"Linux libertine\" font-size=\"10.00\">input:</text>\n",
       "<polygon fill=\"none\" stroke=\"black\" points=\"148,-2328 148,-2349 247,-2349 247,-2328 148,-2328\"/>\n",
       "<text text-anchor=\"start\" x=\"153\" y=\"-2336\" font-family=\"Linux libertine\" font-size=\"10.00\">(1, 64, 32, 32, 32) </text>\n",
       "<polygon fill=\"none\" stroke=\"black\" points=\"100,-2307 100,-2328 148,-2328 148,-2307 100,-2307\"/>\n",
       "<text text-anchor=\"start\" x=\"105\" y=\"-2315\" font-family=\"Linux libertine\" font-size=\"10.00\">output: </text>\n",
       "<polygon fill=\"none\" stroke=\"black\" points=\"148,-2307 148,-2328 247,-2328 247,-2307 148,-2307\"/>\n",
       "<text text-anchor=\"start\" x=\"153\" y=\"-2315\" font-family=\"Linux libertine\" font-size=\"10.00\">(1, 64, 32, 32, 32) </text>\n",
       "</g>\n",
       "<!-- 11&#45;&gt;12 -->\n",
       "<g id=\"edge12\" class=\"edge\">\n",
       "<title>11&#45;&gt;12</title>\n",
       "<path fill=\"none\" stroke=\"black\" d=\"M141,-2384.63C141,-2376.82 141,-2367.73 141,-2359.18\"/>\n",
       "<polygon fill=\"black\" stroke=\"black\" points=\"144.5,-2359.16 141,-2349.16 137.5,-2359.16 144.5,-2359.16\"/>\n",
       "</g>\n",
       "<!-- 13 -->\n",
       "<g id=\"node14\" class=\"node\">\n",
       "<title>13</title>\n",
       "<polygon fill=\"#c1ffc1\" stroke=\"transparent\" points=\"247.5,-2262 30.5,-2262 30.5,-2220 247.5,-2220 247.5,-2262\"/>\n",
       "<polygon fill=\"none\" stroke=\"black\" points=\"31,-2220 31,-2262 95,-2262 95,-2220 31,-2220\"/>\n",
       "<text text-anchor=\"start\" x=\"36\" y=\"-2244\" font-family=\"Linux libertine\" font-size=\"10.00\">BasicBlock</text>\n",
       "<text text-anchor=\"start\" x=\"44.5\" y=\"-2233\" font-family=\"Linux libertine\" font-size=\"10.00\">depth:3</text>\n",
       "<polygon fill=\"none\" stroke=\"black\" points=\"95,-2241 95,-2262 143,-2262 143,-2241 95,-2241\"/>\n",
       "<text text-anchor=\"start\" x=\"105\" y=\"-2249\" font-family=\"Linux libertine\" font-size=\"10.00\">input:</text>\n",
       "<polygon fill=\"none\" stroke=\"black\" points=\"143,-2241 143,-2262 248,-2262 248,-2241 143,-2241\"/>\n",
       "<text text-anchor=\"start\" x=\"151\" y=\"-2249\" font-family=\"Linux libertine\" font-size=\"10.00\">(1, 64, 32, 32, 32) </text>\n",
       "<polygon fill=\"none\" stroke=\"black\" points=\"95,-2220 95,-2241 143,-2241 143,-2220 95,-2220\"/>\n",
       "<text text-anchor=\"start\" x=\"100\" y=\"-2228\" font-family=\"Linux libertine\" font-size=\"10.00\">output: </text>\n",
       "<polygon fill=\"none\" stroke=\"black\" points=\"143,-2220 143,-2241 248,-2241 248,-2220 143,-2220\"/>\n",
       "<text text-anchor=\"start\" x=\"148\" y=\"-2228\" font-family=\"Linux libertine\" font-size=\"10.00\">(1, 128, 16, 16, 16) </text>\n",
       "</g>\n",
       "<!-- 12&#45;&gt;13 -->\n",
       "<g id=\"edge13\" class=\"edge\">\n",
       "<title>12&#45;&gt;13</title>\n",
       "<path fill=\"none\" stroke=\"black\" d=\"M140.53,-2306.86C140.28,-2296.56 139.98,-2283.81 139.71,-2272.35\"/>\n",
       "<polygon fill=\"black\" stroke=\"black\" points=\"143.21,-2272.21 139.48,-2262.29 136.21,-2272.37 143.21,-2272.21\"/>\n",
       "</g>\n",
       "<!-- 27 -->\n",
       "<g id=\"node28\" class=\"node\">\n",
       "<title>27</title>\n",
       "<polygon fill=\"aliceblue\" stroke=\"transparent\" points=\"586,-1298 294,-1298 294,-1256 586,-1256 586,-1298\"/>\n",
       "<polygon fill=\"none\" stroke=\"black\" points=\"294,-1256 294,-1298 341,-1298 341,-1256 294,-1256\"/>\n",
       "<text text-anchor=\"start\" x=\"309.5\" y=\"-1280\" font-family=\"Linux libertine\" font-size=\"10.00\">cat</text>\n",
       "<text text-anchor=\"start\" x=\"299\" y=\"-1269\" font-family=\"Linux libertine\" font-size=\"10.00\">depth:3</text>\n",
       "<polygon fill=\"none\" stroke=\"black\" points=\"341,-1277 341,-1298 389,-1298 389,-1277 341,-1277\"/>\n",
       "<text text-anchor=\"start\" x=\"351\" y=\"-1285\" font-family=\"Linux libertine\" font-size=\"10.00\">input:</text>\n",
       "<polygon fill=\"none\" stroke=\"black\" points=\"389,-1277 389,-1298 586,-1298 586,-1277 389,-1277\"/>\n",
       "<text text-anchor=\"start\" x=\"394\" y=\"-1285\" font-family=\"Linux libertine\" font-size=\"10.00\">(1, 256, 32, 32, 32), (1, 64, 32, 32, 32) </text>\n",
       "<polygon fill=\"none\" stroke=\"black\" points=\"341,-1256 341,-1277 389,-1277 389,-1256 341,-1256\"/>\n",
       "<text text-anchor=\"start\" x=\"346\" y=\"-1264\" font-family=\"Linux libertine\" font-size=\"10.00\">output: </text>\n",
       "<polygon fill=\"none\" stroke=\"black\" points=\"389,-1256 389,-1277 586,-1277 586,-1256 389,-1256\"/>\n",
       "<text text-anchor=\"start\" x=\"440\" y=\"-1264\" font-family=\"Linux libertine\" font-size=\"10.00\">(1, 320, 32, 32, 32) </text>\n",
       "</g>\n",
       "<!-- 12&#45;&gt;27 -->\n",
       "<g id=\"edge28\" class=\"edge\">\n",
       "<title>12&#45;&gt;27</title>\n",
       "<path fill=\"none\" stroke=\"black\" d=\"M246.56,-2312.26C385.97,-2289.77 614,-2241.19 614,-2164 614,-2164 614,-2164 614,-1441 614,-1387.33 596.69,-1371.21 558,-1334 544.49,-1321 527.39,-1310.56 510.44,-1302.38\"/>\n",
       "<polygon fill=\"black\" stroke=\"black\" points=\"511.61,-1299.06 501.06,-1298.06 508.68,-1305.42 511.61,-1299.06\"/>\n",
       "</g>\n",
       "<!-- 14 -->\n",
       "<g id=\"node15\" class=\"node\">\n",
       "<title>14</title>\n",
       "<polygon fill=\"#c1ffc1\" stroke=\"transparent\" points=\"247.5,-2184 30.5,-2184 30.5,-2142 247.5,-2142 247.5,-2184\"/>\n",
       "<polygon fill=\"none\" stroke=\"black\" points=\"31,-2142 31,-2184 95,-2184 95,-2142 31,-2142\"/>\n",
       "<text text-anchor=\"start\" x=\"36\" y=\"-2166\" font-family=\"Linux libertine\" font-size=\"10.00\">BasicBlock</text>\n",
       "<text text-anchor=\"start\" x=\"44.5\" y=\"-2155\" font-family=\"Linux libertine\" font-size=\"10.00\">depth:3</text>\n",
       "<polygon fill=\"none\" stroke=\"black\" points=\"95,-2163 95,-2184 143,-2184 143,-2163 95,-2163\"/>\n",
       "<text text-anchor=\"start\" x=\"105\" y=\"-2171\" font-family=\"Linux libertine\" font-size=\"10.00\">input:</text>\n",
       "<polygon fill=\"none\" stroke=\"black\" points=\"143,-2163 143,-2184 248,-2184 248,-2163 143,-2163\"/>\n",
       "<text text-anchor=\"start\" x=\"148\" y=\"-2171\" font-family=\"Linux libertine\" font-size=\"10.00\">(1, 128, 16, 16, 16) </text>\n",
       "<polygon fill=\"none\" stroke=\"black\" points=\"95,-2142 95,-2163 143,-2163 143,-2142 95,-2142\"/>\n",
       "<text text-anchor=\"start\" x=\"100\" y=\"-2150\" font-family=\"Linux libertine\" font-size=\"10.00\">output: </text>\n",
       "<polygon fill=\"none\" stroke=\"black\" points=\"143,-2142 143,-2163 248,-2163 248,-2142 143,-2142\"/>\n",
       "<text text-anchor=\"start\" x=\"148\" y=\"-2150\" font-family=\"Linux libertine\" font-size=\"10.00\">(1, 128, 16, 16, 16) </text>\n",
       "</g>\n",
       "<!-- 13&#45;&gt;14 -->\n",
       "<g id=\"edge14\" class=\"edge\">\n",
       "<title>13&#45;&gt;14</title>\n",
       "<path fill=\"none\" stroke=\"black\" d=\"M139,-2219.63C139,-2211.82 139,-2202.73 139,-2194.18\"/>\n",
       "<polygon fill=\"black\" stroke=\"black\" points=\"142.5,-2194.16 139,-2184.16 135.5,-2194.16 142.5,-2194.16\"/>\n",
       "</g>\n",
       "<!-- 15 -->\n",
       "<g id=\"node16\" class=\"node\">\n",
       "<title>15</title>\n",
       "<polygon fill=\"#c1ffc1\" stroke=\"transparent\" points=\"247.5,-2097 30.5,-2097 30.5,-2055 247.5,-2055 247.5,-2097\"/>\n",
       "<polygon fill=\"none\" stroke=\"black\" points=\"31,-2055 31,-2097 95,-2097 95,-2055 31,-2055\"/>\n",
       "<text text-anchor=\"start\" x=\"36\" y=\"-2079\" font-family=\"Linux libertine\" font-size=\"10.00\">BasicBlock</text>\n",
       "<text text-anchor=\"start\" x=\"44.5\" y=\"-2068\" font-family=\"Linux libertine\" font-size=\"10.00\">depth:3</text>\n",
       "<polygon fill=\"none\" stroke=\"black\" points=\"95,-2076 95,-2097 143,-2097 143,-2076 95,-2076\"/>\n",
       "<text text-anchor=\"start\" x=\"105\" y=\"-2084\" font-family=\"Linux libertine\" font-size=\"10.00\">input:</text>\n",
       "<polygon fill=\"none\" stroke=\"black\" points=\"143,-2076 143,-2097 248,-2097 248,-2076 143,-2076\"/>\n",
       "<text text-anchor=\"start\" x=\"148\" y=\"-2084\" font-family=\"Linux libertine\" font-size=\"10.00\">(1, 128, 16, 16, 16) </text>\n",
       "<polygon fill=\"none\" stroke=\"black\" points=\"95,-2055 95,-2076 143,-2076 143,-2055 95,-2055\"/>\n",
       "<text text-anchor=\"start\" x=\"100\" y=\"-2063\" font-family=\"Linux libertine\" font-size=\"10.00\">output: </text>\n",
       "<polygon fill=\"none\" stroke=\"black\" points=\"143,-2055 143,-2076 248,-2076 248,-2055 143,-2055\"/>\n",
       "<text text-anchor=\"start\" x=\"157\" y=\"-2063\" font-family=\"Linux libertine\" font-size=\"10.00\">(1, 256, 8, 8, 8) </text>\n",
       "</g>\n",
       "<!-- 14&#45;&gt;15 -->\n",
       "<g id=\"edge15\" class=\"edge\">\n",
       "<title>14&#45;&gt;15</title>\n",
       "<path fill=\"none\" stroke=\"black\" d=\"M139,-2141.86C139,-2131.56 139,-2118.81 139,-2107.35\"/>\n",
       "<polygon fill=\"black\" stroke=\"black\" points=\"142.5,-2107.29 139,-2097.29 135.5,-2107.29 142.5,-2107.29\"/>\n",
       "</g>\n",
       "<!-- 21 -->\n",
       "<g id=\"node22\" class=\"node\">\n",
       "<title>21</title>\n",
       "<polygon fill=\"aliceblue\" stroke=\"transparent\" points=\"586,-1775 288,-1775 288,-1733 586,-1733 586,-1775\"/>\n",
       "<polygon fill=\"none\" stroke=\"black\" points=\"288,-1733 288,-1775 335,-1775 335,-1733 288,-1733\"/>\n",
       "<text text-anchor=\"start\" x=\"303.5\" y=\"-1757\" font-family=\"Linux libertine\" font-size=\"10.00\">cat</text>\n",
       "<text text-anchor=\"start\" x=\"293\" y=\"-1746\" font-family=\"Linux libertine\" font-size=\"10.00\">depth:3</text>\n",
       "<polygon fill=\"none\" stroke=\"black\" points=\"335,-1754 335,-1775 383,-1775 383,-1754 335,-1754\"/>\n",
       "<text text-anchor=\"start\" x=\"345\" y=\"-1762\" font-family=\"Linux libertine\" font-size=\"10.00\">input:</text>\n",
       "<polygon fill=\"none\" stroke=\"black\" points=\"383,-1754 383,-1775 586,-1775 586,-1754 383,-1754\"/>\n",
       "<text text-anchor=\"start\" x=\"388\" y=\"-1762\" font-family=\"Linux libertine\" font-size=\"10.00\">(1, 256, 16, 16, 16), (1, 128, 16, 16, 16) </text>\n",
       "<polygon fill=\"none\" stroke=\"black\" points=\"335,-1733 335,-1754 383,-1754 383,-1733 335,-1733\"/>\n",
       "<text text-anchor=\"start\" x=\"340\" y=\"-1741\" font-family=\"Linux libertine\" font-size=\"10.00\">output: </text>\n",
       "<polygon fill=\"none\" stroke=\"black\" points=\"383,-1733 383,-1754 586,-1754 586,-1733 383,-1733\"/>\n",
       "<text text-anchor=\"start\" x=\"437\" y=\"-1741\" font-family=\"Linux libertine\" font-size=\"10.00\">(1, 384, 16, 16, 16) </text>\n",
       "</g>\n",
       "<!-- 14&#45;&gt;21 -->\n",
       "<g id=\"edge21\" class=\"edge\">\n",
       "<title>14&#45;&gt;21</title>\n",
       "<path fill=\"none\" stroke=\"black\" d=\"M236.64,-2141.94C353.61,-2115.05 534,-2063.17 534,-1999 534,-1999 534,-1999 534,-1910 534,-1858.2 545.53,-1836.85 515,-1795 511.17,-1789.76 506.46,-1785.15 501.25,-1781.11\"/>\n",
       "<polygon fill=\"black\" stroke=\"black\" points=\"502.95,-1778.03 492.73,-1775.23 498.97,-1783.79 502.95,-1778.03\"/>\n",
       "</g>\n",
       "<!-- 16 -->\n",
       "<g id=\"node17\" class=\"node\">\n",
       "<title>16</title>\n",
       "<polygon fill=\"#c1ffc1\" stroke=\"transparent\" points=\"242.5,-2019 43.5,-2019 43.5,-1977 242.5,-1977 242.5,-2019\"/>\n",
       "<polygon fill=\"none\" stroke=\"black\" points=\"44,-1977 44,-2019 108,-2019 108,-1977 44,-1977\"/>\n",
       "<text text-anchor=\"start\" x=\"49\" y=\"-2001\" font-family=\"Linux libertine\" font-size=\"10.00\">BasicBlock</text>\n",
       "<text text-anchor=\"start\" x=\"57.5\" y=\"-1990\" font-family=\"Linux libertine\" font-size=\"10.00\">depth:3</text>\n",
       "<polygon fill=\"none\" stroke=\"black\" points=\"108,-1998 108,-2019 156,-2019 156,-1998 108,-1998\"/>\n",
       "<text text-anchor=\"start\" x=\"118\" y=\"-2006\" font-family=\"Linux libertine\" font-size=\"10.00\">input:</text>\n",
       "<polygon fill=\"none\" stroke=\"black\" points=\"156,-1998 156,-2019 243,-2019 243,-1998 156,-1998\"/>\n",
       "<text text-anchor=\"start\" x=\"161\" y=\"-2006\" font-family=\"Linux libertine\" font-size=\"10.00\">(1, 256, 8, 8, 8) </text>\n",
       "<polygon fill=\"none\" stroke=\"black\" points=\"108,-1977 108,-1998 156,-1998 156,-1977 108,-1977\"/>\n",
       "<text text-anchor=\"start\" x=\"113\" y=\"-1985\" font-family=\"Linux libertine\" font-size=\"10.00\">output: </text>\n",
       "<polygon fill=\"none\" stroke=\"black\" points=\"156,-1977 156,-1998 243,-1998 243,-1977 156,-1977\"/>\n",
       "<text text-anchor=\"start\" x=\"161\" y=\"-1985\" font-family=\"Linux libertine\" font-size=\"10.00\">(1, 256, 8, 8, 8) </text>\n",
       "</g>\n",
       "<!-- 15&#45;&gt;16 -->\n",
       "<g id=\"edge16\" class=\"edge\">\n",
       "<title>15&#45;&gt;16</title>\n",
       "<path fill=\"none\" stroke=\"black\" d=\"M140.07,-2054.63C140.48,-2046.82 140.96,-2037.73 141.41,-2029.18\"/>\n",
       "<polygon fill=\"black\" stroke=\"black\" points=\"144.91,-2029.33 141.94,-2019.16 137.92,-2028.96 144.91,-2029.33\"/>\n",
       "</g>\n",
       "<!-- 17 -->\n",
       "<g id=\"node18\" class=\"node\">\n",
       "<title>17</title>\n",
       "<polygon fill=\"#c1ffc1\" stroke=\"transparent\" points=\"242.5,-1932 43.5,-1932 43.5,-1890 242.5,-1890 242.5,-1932\"/>\n",
       "<polygon fill=\"none\" stroke=\"black\" points=\"44,-1890 44,-1932 108,-1932 108,-1890 44,-1890\"/>\n",
       "<text text-anchor=\"start\" x=\"49\" y=\"-1914\" font-family=\"Linux libertine\" font-size=\"10.00\">BasicBlock</text>\n",
       "<text text-anchor=\"start\" x=\"57.5\" y=\"-1903\" font-family=\"Linux libertine\" font-size=\"10.00\">depth:3</text>\n",
       "<polygon fill=\"none\" stroke=\"black\" points=\"108,-1911 108,-1932 156,-1932 156,-1911 108,-1911\"/>\n",
       "<text text-anchor=\"start\" x=\"118\" y=\"-1919\" font-family=\"Linux libertine\" font-size=\"10.00\">input:</text>\n",
       "<polygon fill=\"none\" stroke=\"black\" points=\"156,-1911 156,-1932 243,-1932 243,-1911 156,-1911\"/>\n",
       "<text text-anchor=\"start\" x=\"161\" y=\"-1919\" font-family=\"Linux libertine\" font-size=\"10.00\">(1, 256, 8, 8, 8) </text>\n",
       "<polygon fill=\"none\" stroke=\"black\" points=\"108,-1890 108,-1911 156,-1911 156,-1890 108,-1890\"/>\n",
       "<text text-anchor=\"start\" x=\"113\" y=\"-1898\" font-family=\"Linux libertine\" font-size=\"10.00\">output: </text>\n",
       "<polygon fill=\"none\" stroke=\"black\" points=\"156,-1890 156,-1911 243,-1911 243,-1890 156,-1890\"/>\n",
       "<text text-anchor=\"start\" x=\"161\" y=\"-1898\" font-family=\"Linux libertine\" font-size=\"10.00\">(1, 512, 4, 4, 4) </text>\n",
       "</g>\n",
       "<!-- 16&#45;&gt;17 -->\n",
       "<g id=\"edge17\" class=\"edge\">\n",
       "<title>16&#45;&gt;17</title>\n",
       "<path fill=\"none\" stroke=\"black\" d=\"M143,-1976.86C143,-1966.56 143,-1953.81 143,-1942.35\"/>\n",
       "<polygon fill=\"black\" stroke=\"black\" points=\"146.5,-1942.29 143,-1932.29 139.5,-1942.29 146.5,-1942.29\"/>\n",
       "</g>\n",
       "<!-- 19 -->\n",
       "<g id=\"node20\" class=\"node\">\n",
       "<title>19</title>\n",
       "<polygon fill=\"#c1ffc1\" stroke=\"transparent\" points=\"476.5,-1932 293.5,-1932 293.5,-1890 476.5,-1890 476.5,-1932\"/>\n",
       "<polygon fill=\"none\" stroke=\"black\" points=\"294,-1890 294,-1932 342,-1932 342,-1890 294,-1890\"/>\n",
       "<text text-anchor=\"start\" x=\"299\" y=\"-1914\" font-family=\"Linux libertine\" font-size=\"10.00\">Identity</text>\n",
       "<text text-anchor=\"start\" x=\"299.5\" y=\"-1903\" font-family=\"Linux libertine\" font-size=\"10.00\">depth:2</text>\n",
       "<polygon fill=\"none\" stroke=\"black\" points=\"342,-1911 342,-1932 390,-1932 390,-1911 342,-1911\"/>\n",
       "<text text-anchor=\"start\" x=\"352\" y=\"-1919\" font-family=\"Linux libertine\" font-size=\"10.00\">input:</text>\n",
       "<polygon fill=\"none\" stroke=\"black\" points=\"390,-1911 390,-1932 477,-1932 477,-1911 390,-1911\"/>\n",
       "<text text-anchor=\"start\" x=\"395\" y=\"-1919\" font-family=\"Linux libertine\" font-size=\"10.00\">(1, 256, 8, 8, 8) </text>\n",
       "<polygon fill=\"none\" stroke=\"black\" points=\"342,-1890 342,-1911 390,-1911 390,-1890 342,-1890\"/>\n",
       "<text text-anchor=\"start\" x=\"347\" y=\"-1898\" font-family=\"Linux libertine\" font-size=\"10.00\">output: </text>\n",
       "<polygon fill=\"none\" stroke=\"black\" points=\"390,-1890 390,-1911 477,-1911 477,-1890 390,-1890\"/>\n",
       "<text text-anchor=\"start\" x=\"395\" y=\"-1898\" font-family=\"Linux libertine\" font-size=\"10.00\">(1, 256, 8, 8, 8) </text>\n",
       "</g>\n",
       "<!-- 16&#45;&gt;19 -->\n",
       "<g id=\"edge19\" class=\"edge\">\n",
       "<title>16&#45;&gt;19</title>\n",
       "<path fill=\"none\" stroke=\"black\" d=\"M207.15,-1976.98C222.85,-1971.92 239.57,-1966.38 255,-1961 277.71,-1953.07 302.46,-1943.89 324.21,-1935.62\"/>\n",
       "<polygon fill=\"black\" stroke=\"black\" points=\"325.56,-1938.86 333.65,-1932.02 323.06,-1932.32 325.56,-1938.86\"/>\n",
       "</g>\n",
       "<!-- 18 -->\n",
       "<g id=\"node19\" class=\"node\">\n",
       "<title>18</title>\n",
       "<polygon fill=\"#c1ffc1\" stroke=\"transparent\" points=\"242.5,-1853 43.5,-1853 43.5,-1811 242.5,-1811 242.5,-1853\"/>\n",
       "<polygon fill=\"none\" stroke=\"black\" points=\"44,-1811 44,-1853 108,-1853 108,-1811 44,-1811\"/>\n",
       "<text text-anchor=\"start\" x=\"49\" y=\"-1835\" font-family=\"Linux libertine\" font-size=\"10.00\">BasicBlock</text>\n",
       "<text text-anchor=\"start\" x=\"57.5\" y=\"-1824\" font-family=\"Linux libertine\" font-size=\"10.00\">depth:3</text>\n",
       "<polygon fill=\"none\" stroke=\"black\" points=\"108,-1832 108,-1853 156,-1853 156,-1832 108,-1832\"/>\n",
       "<text text-anchor=\"start\" x=\"118\" y=\"-1840\" font-family=\"Linux libertine\" font-size=\"10.00\">input:</text>\n",
       "<polygon fill=\"none\" stroke=\"black\" points=\"156,-1832 156,-1853 243,-1853 243,-1832 156,-1832\"/>\n",
       "<text text-anchor=\"start\" x=\"161\" y=\"-1840\" font-family=\"Linux libertine\" font-size=\"10.00\">(1, 512, 4, 4, 4) </text>\n",
       "<polygon fill=\"none\" stroke=\"black\" points=\"108,-1811 108,-1832 156,-1832 156,-1811 108,-1811\"/>\n",
       "<text text-anchor=\"start\" x=\"113\" y=\"-1819\" font-family=\"Linux libertine\" font-size=\"10.00\">output: </text>\n",
       "<polygon fill=\"none\" stroke=\"black\" points=\"156,-1811 156,-1832 243,-1832 243,-1811 156,-1811\"/>\n",
       "<text text-anchor=\"start\" x=\"161\" y=\"-1819\" font-family=\"Linux libertine\" font-size=\"10.00\">(1, 512, 4, 4, 4) </text>\n",
       "</g>\n",
       "<!-- 17&#45;&gt;18 -->\n",
       "<g id=\"edge18\" class=\"edge\">\n",
       "<title>17&#45;&gt;18</title>\n",
       "<path fill=\"none\" stroke=\"black\" d=\"M143,-1889.77C143,-1881.63 143,-1872.08 143,-1863.16\"/>\n",
       "<polygon fill=\"black\" stroke=\"black\" points=\"146.5,-1863.1 143,-1853.1 139.5,-1863.1 146.5,-1863.1\"/>\n",
       "</g>\n",
       "<!-- 20 -->\n",
       "<g id=\"node21\" class=\"node\">\n",
       "<title>20</title>\n",
       "<polygon fill=\"aliceblue\" stroke=\"transparent\" points=\"505.5,-1853 288.5,-1853 288.5,-1811 505.5,-1811 505.5,-1853\"/>\n",
       "<polygon fill=\"none\" stroke=\"black\" points=\"289,-1811 289,-1853 353,-1853 353,-1811 289,-1811\"/>\n",
       "<text text-anchor=\"start\" x=\"294\" y=\"-1835\" font-family=\"Linux libertine\" font-size=\"10.00\">interpolate</text>\n",
       "<text text-anchor=\"start\" x=\"302.5\" y=\"-1824\" font-family=\"Linux libertine\" font-size=\"10.00\">depth:3</text>\n",
       "<polygon fill=\"none\" stroke=\"black\" points=\"353,-1832 353,-1853 401,-1853 401,-1832 353,-1832\"/>\n",
       "<text text-anchor=\"start\" x=\"363\" y=\"-1840\" font-family=\"Linux libertine\" font-size=\"10.00\">input:</text>\n",
       "<polygon fill=\"none\" stroke=\"black\" points=\"401,-1832 401,-1853 506,-1853 506,-1832 401,-1832\"/>\n",
       "<text text-anchor=\"start\" x=\"415\" y=\"-1840\" font-family=\"Linux libertine\" font-size=\"10.00\">(1, 256, 8, 8, 8) </text>\n",
       "<polygon fill=\"none\" stroke=\"black\" points=\"353,-1811 353,-1832 401,-1832 401,-1811 353,-1811\"/>\n",
       "<text text-anchor=\"start\" x=\"358\" y=\"-1819\" font-family=\"Linux libertine\" font-size=\"10.00\">output: </text>\n",
       "<polygon fill=\"none\" stroke=\"black\" points=\"401,-1811 401,-1832 506,-1832 506,-1811 401,-1811\"/>\n",
       "<text text-anchor=\"start\" x=\"406\" y=\"-1819\" font-family=\"Linux libertine\" font-size=\"10.00\">(1, 256, 16, 16, 16) </text>\n",
       "</g>\n",
       "<!-- 19&#45;&gt;20 -->\n",
       "<g id=\"edge20\" class=\"edge\">\n",
       "<title>19&#45;&gt;20</title>\n",
       "<path fill=\"none\" stroke=\"black\" d=\"M388.15,-1889.77C389.42,-1881.63 390.91,-1872.08 392.3,-1863.16\"/>\n",
       "<polygon fill=\"black\" stroke=\"black\" points=\"395.79,-1863.52 393.87,-1853.1 388.87,-1862.44 395.79,-1863.52\"/>\n",
       "</g>\n",
       "<!-- 20&#45;&gt;21 -->\n",
       "<g id=\"edge22\" class=\"edge\">\n",
       "<title>20&#45;&gt;21</title>\n",
       "<path fill=\"none\" stroke=\"black\" d=\"M407.72,-1810.63C412.01,-1802.48 417.04,-1792.92 421.71,-1784.06\"/>\n",
       "<polygon fill=\"black\" stroke=\"black\" points=\"424.83,-1785.64 426.39,-1775.16 418.64,-1782.38 424.83,-1785.64\"/>\n",
       "</g>\n",
       "<!-- 22 -->\n",
       "<g id=\"node23\" class=\"node\">\n",
       "<title>22</title>\n",
       "<polygon fill=\"#c1ffc1\" stroke=\"transparent\" points=\"541.5,-1697 332.5,-1697 332.5,-1655 541.5,-1655 541.5,-1697\"/>\n",
       "<polygon fill=\"none\" stroke=\"black\" points=\"333,-1655 333,-1697 389,-1697 389,-1655 333,-1655\"/>\n",
       "<text text-anchor=\"start\" x=\"338\" y=\"-1679\" font-family=\"Linux libertine\" font-size=\"10.00\">Attention</text>\n",
       "<text text-anchor=\"start\" x=\"342.5\" y=\"-1668\" font-family=\"Linux libertine\" font-size=\"10.00\">depth:3</text>\n",
       "<polygon fill=\"none\" stroke=\"black\" points=\"389,-1676 389,-1697 437,-1697 437,-1676 389,-1676\"/>\n",
       "<text text-anchor=\"start\" x=\"399\" y=\"-1684\" font-family=\"Linux libertine\" font-size=\"10.00\">input:</text>\n",
       "<polygon fill=\"none\" stroke=\"black\" points=\"437,-1676 437,-1697 542,-1697 542,-1676 437,-1676\"/>\n",
       "<text text-anchor=\"start\" x=\"442\" y=\"-1684\" font-family=\"Linux libertine\" font-size=\"10.00\">(1, 384, 16, 16, 16) </text>\n",
       "<polygon fill=\"none\" stroke=\"black\" points=\"389,-1655 389,-1676 437,-1676 437,-1655 389,-1655\"/>\n",
       "<text text-anchor=\"start\" x=\"394\" y=\"-1663\" font-family=\"Linux libertine\" font-size=\"10.00\">output: </text>\n",
       "<polygon fill=\"none\" stroke=\"black\" points=\"437,-1655 437,-1676 542,-1676 542,-1655 437,-1655\"/>\n",
       "<text text-anchor=\"start\" x=\"442\" y=\"-1663\" font-family=\"Linux libertine\" font-size=\"10.00\">(1, 384, 16, 16, 16) </text>\n",
       "</g>\n",
       "<!-- 21&#45;&gt;22 -->\n",
       "<g id=\"edge23\" class=\"edge\">\n",
       "<title>21&#45;&gt;22</title>\n",
       "<path fill=\"none\" stroke=\"black\" d=\"M437,-1732.63C437,-1724.82 437,-1715.73 437,-1707.18\"/>\n",
       "<polygon fill=\"black\" stroke=\"black\" points=\"440.5,-1707.16 437,-1697.16 433.5,-1707.16 440.5,-1707.16\"/>\n",
       "</g>\n",
       "<!-- 23 -->\n",
       "<g id=\"node24\" class=\"node\">\n",
       "<title>23</title>\n",
       "<polygon fill=\"#c1ffc1\" stroke=\"transparent\" points=\"551,-1619 325,-1619 325,-1577 551,-1577 551,-1619\"/>\n",
       "<polygon fill=\"none\" stroke=\"black\" points=\"325,-1577 325,-1619 398,-1619 398,-1577 325,-1577\"/>\n",
       "<text text-anchor=\"start\" x=\"330\" y=\"-1601\" font-family=\"Linux libertine\" font-size=\"10.00\">Conv2dReLU</text>\n",
       "<text text-anchor=\"start\" x=\"343\" y=\"-1590\" font-family=\"Linux libertine\" font-size=\"10.00\">depth:3</text>\n",
       "<polygon fill=\"none\" stroke=\"black\" points=\"398,-1598 398,-1619 446,-1619 446,-1598 398,-1598\"/>\n",
       "<text text-anchor=\"start\" x=\"408\" y=\"-1606\" font-family=\"Linux libertine\" font-size=\"10.00\">input:</text>\n",
       "<polygon fill=\"none\" stroke=\"black\" points=\"446,-1598 446,-1619 551,-1619 551,-1598 446,-1598\"/>\n",
       "<text text-anchor=\"start\" x=\"451\" y=\"-1606\" font-family=\"Linux libertine\" font-size=\"10.00\">(1, 384, 16, 16, 16) </text>\n",
       "<polygon fill=\"none\" stroke=\"black\" points=\"398,-1577 398,-1598 446,-1598 446,-1577 398,-1577\"/>\n",
       "<text text-anchor=\"start\" x=\"403\" y=\"-1585\" font-family=\"Linux libertine\" font-size=\"10.00\">output: </text>\n",
       "<polygon fill=\"none\" stroke=\"black\" points=\"446,-1577 446,-1598 551,-1598 551,-1577 446,-1577\"/>\n",
       "<text text-anchor=\"start\" x=\"451\" y=\"-1585\" font-family=\"Linux libertine\" font-size=\"10.00\">(1, 256, 16, 16, 16) </text>\n",
       "</g>\n",
       "<!-- 22&#45;&gt;23 -->\n",
       "<g id=\"edge24\" class=\"edge\">\n",
       "<title>22&#45;&gt;23</title>\n",
       "<path fill=\"none\" stroke=\"black\" d=\"M437.27,-1654.63C437.37,-1646.82 437.49,-1637.73 437.6,-1629.18\"/>\n",
       "<polygon fill=\"black\" stroke=\"black\" points=\"441.1,-1629.2 437.73,-1619.16 434.1,-1629.11 441.1,-1629.2\"/>\n",
       "</g>\n",
       "<!-- 24 -->\n",
       "<g id=\"node25\" class=\"node\">\n",
       "<title>24</title>\n",
       "<polygon fill=\"#c1ffc1\" stroke=\"transparent\" points=\"552,-1541 326,-1541 326,-1499 552,-1499 552,-1541\"/>\n",
       "<polygon fill=\"none\" stroke=\"black\" points=\"326,-1499 326,-1541 399,-1541 399,-1499 326,-1499\"/>\n",
       "<text text-anchor=\"start\" x=\"331\" y=\"-1523\" font-family=\"Linux libertine\" font-size=\"10.00\">Conv2dReLU</text>\n",
       "<text text-anchor=\"start\" x=\"344\" y=\"-1512\" font-family=\"Linux libertine\" font-size=\"10.00\">depth:3</text>\n",
       "<polygon fill=\"none\" stroke=\"black\" points=\"399,-1520 399,-1541 447,-1541 447,-1520 399,-1520\"/>\n",
       "<text text-anchor=\"start\" x=\"409\" y=\"-1528\" font-family=\"Linux libertine\" font-size=\"10.00\">input:</text>\n",
       "<polygon fill=\"none\" stroke=\"black\" points=\"447,-1520 447,-1541 552,-1541 552,-1520 447,-1520\"/>\n",
       "<text text-anchor=\"start\" x=\"452\" y=\"-1528\" font-family=\"Linux libertine\" font-size=\"10.00\">(1, 256, 16, 16, 16) </text>\n",
       "<polygon fill=\"none\" stroke=\"black\" points=\"399,-1499 399,-1520 447,-1520 447,-1499 399,-1499\"/>\n",
       "<text text-anchor=\"start\" x=\"404\" y=\"-1507\" font-family=\"Linux libertine\" font-size=\"10.00\">output: </text>\n",
       "<polygon fill=\"none\" stroke=\"black\" points=\"447,-1499 447,-1520 552,-1520 552,-1499 447,-1499\"/>\n",
       "<text text-anchor=\"start\" x=\"452\" y=\"-1507\" font-family=\"Linux libertine\" font-size=\"10.00\">(1, 256, 16, 16, 16) </text>\n",
       "</g>\n",
       "<!-- 23&#45;&gt;24 -->\n",
       "<g id=\"edge25\" class=\"edge\">\n",
       "<title>23&#45;&gt;24</title>\n",
       "<path fill=\"none\" stroke=\"black\" d=\"M438.27,-1576.63C438.37,-1568.82 438.49,-1559.73 438.6,-1551.18\"/>\n",
       "<polygon fill=\"black\" stroke=\"black\" points=\"442.1,-1551.2 438.73,-1541.16 435.1,-1551.11 442.1,-1551.2\"/>\n",
       "</g>\n",
       "<!-- 25 -->\n",
       "<g id=\"node26\" class=\"node\">\n",
       "<title>25</title>\n",
       "<polygon fill=\"#c1ffc1\" stroke=\"transparent\" points=\"543.5,-1463 334.5,-1463 334.5,-1421 543.5,-1421 543.5,-1463\"/>\n",
       "<polygon fill=\"none\" stroke=\"black\" points=\"335,-1421 335,-1463 391,-1463 391,-1421 335,-1421\"/>\n",
       "<text text-anchor=\"start\" x=\"340\" y=\"-1445\" font-family=\"Linux libertine\" font-size=\"10.00\">Attention</text>\n",
       "<text text-anchor=\"start\" x=\"344.5\" y=\"-1434\" font-family=\"Linux libertine\" font-size=\"10.00\">depth:3</text>\n",
       "<polygon fill=\"none\" stroke=\"black\" points=\"391,-1442 391,-1463 439,-1463 439,-1442 391,-1442\"/>\n",
       "<text text-anchor=\"start\" x=\"401\" y=\"-1450\" font-family=\"Linux libertine\" font-size=\"10.00\">input:</text>\n",
       "<polygon fill=\"none\" stroke=\"black\" points=\"439,-1442 439,-1463 544,-1463 544,-1442 439,-1442\"/>\n",
       "<text text-anchor=\"start\" x=\"444\" y=\"-1450\" font-family=\"Linux libertine\" font-size=\"10.00\">(1, 256, 16, 16, 16) </text>\n",
       "<polygon fill=\"none\" stroke=\"black\" points=\"391,-1421 391,-1442 439,-1442 439,-1421 391,-1421\"/>\n",
       "<text text-anchor=\"start\" x=\"396\" y=\"-1429\" font-family=\"Linux libertine\" font-size=\"10.00\">output: </text>\n",
       "<polygon fill=\"none\" stroke=\"black\" points=\"439,-1421 439,-1442 544,-1442 544,-1421 439,-1421\"/>\n",
       "<text text-anchor=\"start\" x=\"444\" y=\"-1429\" font-family=\"Linux libertine\" font-size=\"10.00\">(1, 256, 16, 16, 16) </text>\n",
       "</g>\n",
       "<!-- 24&#45;&gt;25 -->\n",
       "<g id=\"edge26\" class=\"edge\">\n",
       "<title>24&#45;&gt;25</title>\n",
       "<path fill=\"none\" stroke=\"black\" d=\"M439,-1498.63C439,-1490.82 439,-1481.73 439,-1473.18\"/>\n",
       "<polygon fill=\"black\" stroke=\"black\" points=\"442.5,-1473.16 439,-1463.16 435.5,-1473.16 442.5,-1473.16\"/>\n",
       "</g>\n",
       "<!-- 26 -->\n",
       "<g id=\"node27\" class=\"node\">\n",
       "<title>26</title>\n",
       "<polygon fill=\"aliceblue\" stroke=\"transparent\" points=\"548.5,-1376 331.5,-1376 331.5,-1334 548.5,-1334 548.5,-1376\"/>\n",
       "<polygon fill=\"none\" stroke=\"black\" points=\"332,-1334 332,-1376 396,-1376 396,-1334 332,-1334\"/>\n",
       "<text text-anchor=\"start\" x=\"337\" y=\"-1358\" font-family=\"Linux libertine\" font-size=\"10.00\">interpolate</text>\n",
       "<text text-anchor=\"start\" x=\"345.5\" y=\"-1347\" font-family=\"Linux libertine\" font-size=\"10.00\">depth:3</text>\n",
       "<polygon fill=\"none\" stroke=\"black\" points=\"396,-1355 396,-1376 444,-1376 444,-1355 396,-1355\"/>\n",
       "<text text-anchor=\"start\" x=\"406\" y=\"-1363\" font-family=\"Linux libertine\" font-size=\"10.00\">input:</text>\n",
       "<polygon fill=\"none\" stroke=\"black\" points=\"444,-1355 444,-1376 549,-1376 549,-1355 444,-1355\"/>\n",
       "<text text-anchor=\"start\" x=\"449\" y=\"-1363\" font-family=\"Linux libertine\" font-size=\"10.00\">(1, 256, 16, 16, 16) </text>\n",
       "<polygon fill=\"none\" stroke=\"black\" points=\"396,-1334 396,-1355 444,-1355 444,-1334 396,-1334\"/>\n",
       "<text text-anchor=\"start\" x=\"401\" y=\"-1342\" font-family=\"Linux libertine\" font-size=\"10.00\">output: </text>\n",
       "<polygon fill=\"none\" stroke=\"black\" points=\"444,-1334 444,-1355 549,-1355 549,-1334 444,-1334\"/>\n",
       "<text text-anchor=\"start\" x=\"449\" y=\"-1342\" font-family=\"Linux libertine\" font-size=\"10.00\">(1, 256, 32, 32, 32) </text>\n",
       "</g>\n",
       "<!-- 25&#45;&gt;26 -->\n",
       "<g id=\"edge27\" class=\"edge\">\n",
       "<title>25&#45;&gt;26</title>\n",
       "<path fill=\"none\" stroke=\"black\" d=\"M439.24,-1420.86C439.36,-1410.56 439.51,-1397.81 439.64,-1386.35\"/>\n",
       "<polygon fill=\"black\" stroke=\"black\" points=\"443.14,-1386.33 439.76,-1376.29 436.14,-1386.25 443.14,-1386.33\"/>\n",
       "</g>\n",
       "<!-- 26&#45;&gt;27 -->\n",
       "<g id=\"edge29\" class=\"edge\">\n",
       "<title>26&#45;&gt;27</title>\n",
       "<path fill=\"none\" stroke=\"black\" d=\"M440,-1333.63C440,-1325.82 440,-1316.73 440,-1308.18\"/>\n",
       "<polygon fill=\"black\" stroke=\"black\" points=\"443.5,-1308.16 440,-1298.16 436.5,-1308.16 443.5,-1308.16\"/>\n",
       "</g>\n",
       "<!-- 28 -->\n",
       "<g id=\"node29\" class=\"node\">\n",
       "<title>28</title>\n",
       "<polygon fill=\"#c1ffc1\" stroke=\"transparent\" points=\"544.5,-1220 335.5,-1220 335.5,-1178 544.5,-1178 544.5,-1220\"/>\n",
       "<polygon fill=\"none\" stroke=\"black\" points=\"336,-1178 336,-1220 392,-1220 392,-1178 336,-1178\"/>\n",
       "<text text-anchor=\"start\" x=\"341\" y=\"-1202\" font-family=\"Linux libertine\" font-size=\"10.00\">Attention</text>\n",
       "<text text-anchor=\"start\" x=\"345.5\" y=\"-1191\" font-family=\"Linux libertine\" font-size=\"10.00\">depth:3</text>\n",
       "<polygon fill=\"none\" stroke=\"black\" points=\"392,-1199 392,-1220 440,-1220 440,-1199 392,-1199\"/>\n",
       "<text text-anchor=\"start\" x=\"402\" y=\"-1207\" font-family=\"Linux libertine\" font-size=\"10.00\">input:</text>\n",
       "<polygon fill=\"none\" stroke=\"black\" points=\"440,-1199 440,-1220 545,-1220 545,-1199 440,-1199\"/>\n",
       "<text text-anchor=\"start\" x=\"445\" y=\"-1207\" font-family=\"Linux libertine\" font-size=\"10.00\">(1, 320, 32, 32, 32) </text>\n",
       "<polygon fill=\"none\" stroke=\"black\" points=\"392,-1178 392,-1199 440,-1199 440,-1178 392,-1178\"/>\n",
       "<text text-anchor=\"start\" x=\"397\" y=\"-1186\" font-family=\"Linux libertine\" font-size=\"10.00\">output: </text>\n",
       "<polygon fill=\"none\" stroke=\"black\" points=\"440,-1178 440,-1199 545,-1199 545,-1178 440,-1178\"/>\n",
       "<text text-anchor=\"start\" x=\"445\" y=\"-1186\" font-family=\"Linux libertine\" font-size=\"10.00\">(1, 320, 32, 32, 32) </text>\n",
       "</g>\n",
       "<!-- 27&#45;&gt;28 -->\n",
       "<g id=\"edge30\" class=\"edge\">\n",
       "<title>27&#45;&gt;28</title>\n",
       "<path fill=\"none\" stroke=\"black\" d=\"M440,-1255.63C440,-1247.82 440,-1238.73 440,-1230.18\"/>\n",
       "<polygon fill=\"black\" stroke=\"black\" points=\"443.5,-1230.16 440,-1220.16 436.5,-1230.16 443.5,-1230.16\"/>\n",
       "</g>\n",
       "<!-- 29 -->\n",
       "<g id=\"node30\" class=\"node\">\n",
       "<title>29</title>\n",
       "<polygon fill=\"#c1ffc1\" stroke=\"transparent\" points=\"553,-1142 327,-1142 327,-1100 553,-1100 553,-1142\"/>\n",
       "<polygon fill=\"none\" stroke=\"black\" points=\"327,-1100 327,-1142 400,-1142 400,-1100 327,-1100\"/>\n",
       "<text text-anchor=\"start\" x=\"332\" y=\"-1124\" font-family=\"Linux libertine\" font-size=\"10.00\">Conv2dReLU</text>\n",
       "<text text-anchor=\"start\" x=\"345\" y=\"-1113\" font-family=\"Linux libertine\" font-size=\"10.00\">depth:3</text>\n",
       "<polygon fill=\"none\" stroke=\"black\" points=\"400,-1121 400,-1142 448,-1142 448,-1121 400,-1121\"/>\n",
       "<text text-anchor=\"start\" x=\"410\" y=\"-1129\" font-family=\"Linux libertine\" font-size=\"10.00\">input:</text>\n",
       "<polygon fill=\"none\" stroke=\"black\" points=\"448,-1121 448,-1142 553,-1142 553,-1121 448,-1121\"/>\n",
       "<text text-anchor=\"start\" x=\"453\" y=\"-1129\" font-family=\"Linux libertine\" font-size=\"10.00\">(1, 320, 32, 32, 32) </text>\n",
       "<polygon fill=\"none\" stroke=\"black\" points=\"400,-1100 400,-1121 448,-1121 448,-1100 400,-1100\"/>\n",
       "<text text-anchor=\"start\" x=\"405\" y=\"-1108\" font-family=\"Linux libertine\" font-size=\"10.00\">output: </text>\n",
       "<polygon fill=\"none\" stroke=\"black\" points=\"448,-1100 448,-1121 553,-1121 553,-1100 448,-1100\"/>\n",
       "<text text-anchor=\"start\" x=\"453\" y=\"-1108\" font-family=\"Linux libertine\" font-size=\"10.00\">(1, 128, 32, 32, 32) </text>\n",
       "</g>\n",
       "<!-- 28&#45;&gt;29 -->\n",
       "<g id=\"edge31\" class=\"edge\">\n",
       "<title>28&#45;&gt;29</title>\n",
       "<path fill=\"none\" stroke=\"black\" d=\"M440,-1177.63C440,-1169.82 440,-1160.73 440,-1152.18\"/>\n",
       "<polygon fill=\"black\" stroke=\"black\" points=\"443.5,-1152.16 440,-1142.16 436.5,-1152.16 443.5,-1152.16\"/>\n",
       "</g>\n",
       "<!-- 30 -->\n",
       "<g id=\"node31\" class=\"node\">\n",
       "<title>30</title>\n",
       "<polygon fill=\"#c1ffc1\" stroke=\"transparent\" points=\"553,-1064 327,-1064 327,-1022 553,-1022 553,-1064\"/>\n",
       "<polygon fill=\"none\" stroke=\"black\" points=\"327,-1022 327,-1064 400,-1064 400,-1022 327,-1022\"/>\n",
       "<text text-anchor=\"start\" x=\"332\" y=\"-1046\" font-family=\"Linux libertine\" font-size=\"10.00\">Conv2dReLU</text>\n",
       "<text text-anchor=\"start\" x=\"345\" y=\"-1035\" font-family=\"Linux libertine\" font-size=\"10.00\">depth:3</text>\n",
       "<polygon fill=\"none\" stroke=\"black\" points=\"400,-1043 400,-1064 448,-1064 448,-1043 400,-1043\"/>\n",
       "<text text-anchor=\"start\" x=\"410\" y=\"-1051\" font-family=\"Linux libertine\" font-size=\"10.00\">input:</text>\n",
       "<polygon fill=\"none\" stroke=\"black\" points=\"448,-1043 448,-1064 553,-1064 553,-1043 448,-1043\"/>\n",
       "<text text-anchor=\"start\" x=\"453\" y=\"-1051\" font-family=\"Linux libertine\" font-size=\"10.00\">(1, 128, 32, 32, 32) </text>\n",
       "<polygon fill=\"none\" stroke=\"black\" points=\"400,-1022 400,-1043 448,-1043 448,-1022 400,-1022\"/>\n",
       "<text text-anchor=\"start\" x=\"405\" y=\"-1030\" font-family=\"Linux libertine\" font-size=\"10.00\">output: </text>\n",
       "<polygon fill=\"none\" stroke=\"black\" points=\"448,-1022 448,-1043 553,-1043 553,-1022 448,-1022\"/>\n",
       "<text text-anchor=\"start\" x=\"453\" y=\"-1030\" font-family=\"Linux libertine\" font-size=\"10.00\">(1, 128, 32, 32, 32) </text>\n",
       "</g>\n",
       "<!-- 29&#45;&gt;30 -->\n",
       "<g id=\"edge32\" class=\"edge\">\n",
       "<title>29&#45;&gt;30</title>\n",
       "<path fill=\"none\" stroke=\"black\" d=\"M440,-1099.63C440,-1091.82 440,-1082.73 440,-1074.18\"/>\n",
       "<polygon fill=\"black\" stroke=\"black\" points=\"443.5,-1074.16 440,-1064.16 436.5,-1074.16 443.5,-1074.16\"/>\n",
       "</g>\n",
       "<!-- 31 -->\n",
       "<g id=\"node32\" class=\"node\">\n",
       "<title>31</title>\n",
       "<polygon fill=\"#c1ffc1\" stroke=\"transparent\" points=\"544.5,-986 335.5,-986 335.5,-944 544.5,-944 544.5,-986\"/>\n",
       "<polygon fill=\"none\" stroke=\"black\" points=\"336,-944 336,-986 392,-986 392,-944 336,-944\"/>\n",
       "<text text-anchor=\"start\" x=\"341\" y=\"-968\" font-family=\"Linux libertine\" font-size=\"10.00\">Attention</text>\n",
       "<text text-anchor=\"start\" x=\"345.5\" y=\"-957\" font-family=\"Linux libertine\" font-size=\"10.00\">depth:3</text>\n",
       "<polygon fill=\"none\" stroke=\"black\" points=\"392,-965 392,-986 440,-986 440,-965 392,-965\"/>\n",
       "<text text-anchor=\"start\" x=\"402\" y=\"-973\" font-family=\"Linux libertine\" font-size=\"10.00\">input:</text>\n",
       "<polygon fill=\"none\" stroke=\"black\" points=\"440,-965 440,-986 545,-986 545,-965 440,-965\"/>\n",
       "<text text-anchor=\"start\" x=\"445\" y=\"-973\" font-family=\"Linux libertine\" font-size=\"10.00\">(1, 128, 32, 32, 32) </text>\n",
       "<polygon fill=\"none\" stroke=\"black\" points=\"392,-944 392,-965 440,-965 440,-944 392,-944\"/>\n",
       "<text text-anchor=\"start\" x=\"397\" y=\"-952\" font-family=\"Linux libertine\" font-size=\"10.00\">output: </text>\n",
       "<polygon fill=\"none\" stroke=\"black\" points=\"440,-944 440,-965 545,-965 545,-944 440,-944\"/>\n",
       "<text text-anchor=\"start\" x=\"445\" y=\"-952\" font-family=\"Linux libertine\" font-size=\"10.00\">(1, 128, 32, 32, 32) </text>\n",
       "</g>\n",
       "<!-- 30&#45;&gt;31 -->\n",
       "<g id=\"edge33\" class=\"edge\">\n",
       "<title>30&#45;&gt;31</title>\n",
       "<path fill=\"none\" stroke=\"black\" d=\"M440,-1021.63C440,-1013.82 440,-1004.73 440,-996.18\"/>\n",
       "<polygon fill=\"black\" stroke=\"black\" points=\"443.5,-996.16 440,-986.16 436.5,-996.16 443.5,-996.16\"/>\n",
       "</g>\n",
       "<!-- 32 -->\n",
       "<g id=\"node33\" class=\"node\">\n",
       "<title>32</title>\n",
       "<polygon fill=\"aliceblue\" stroke=\"transparent\" points=\"548.5,-899 331.5,-899 331.5,-857 548.5,-857 548.5,-899\"/>\n",
       "<polygon fill=\"none\" stroke=\"black\" points=\"332,-857 332,-899 396,-899 396,-857 332,-857\"/>\n",
       "<text text-anchor=\"start\" x=\"337\" y=\"-881\" font-family=\"Linux libertine\" font-size=\"10.00\">interpolate</text>\n",
       "<text text-anchor=\"start\" x=\"345.5\" y=\"-870\" font-family=\"Linux libertine\" font-size=\"10.00\">depth:3</text>\n",
       "<polygon fill=\"none\" stroke=\"black\" points=\"396,-878 396,-899 444,-899 444,-878 396,-878\"/>\n",
       "<text text-anchor=\"start\" x=\"406\" y=\"-886\" font-family=\"Linux libertine\" font-size=\"10.00\">input:</text>\n",
       "<polygon fill=\"none\" stroke=\"black\" points=\"444,-878 444,-899 549,-899 549,-878 444,-878\"/>\n",
       "<text text-anchor=\"start\" x=\"449\" y=\"-886\" font-family=\"Linux libertine\" font-size=\"10.00\">(1, 128, 32, 32, 32) </text>\n",
       "<polygon fill=\"none\" stroke=\"black\" points=\"396,-857 396,-878 444,-878 444,-857 396,-857\"/>\n",
       "<text text-anchor=\"start\" x=\"401\" y=\"-865\" font-family=\"Linux libertine\" font-size=\"10.00\">output: </text>\n",
       "<polygon fill=\"none\" stroke=\"black\" points=\"444,-857 444,-878 549,-878 549,-857 444,-857\"/>\n",
       "<text text-anchor=\"start\" x=\"449\" y=\"-865\" font-family=\"Linux libertine\" font-size=\"10.00\">(1, 128, 64, 64, 64) </text>\n",
       "</g>\n",
       "<!-- 31&#45;&gt;32 -->\n",
       "<g id=\"edge34\" class=\"edge\">\n",
       "<title>31&#45;&gt;32</title>\n",
       "<path fill=\"none\" stroke=\"black\" d=\"M440,-943.86C440,-933.56 440,-920.81 440,-909.35\"/>\n",
       "<polygon fill=\"black\" stroke=\"black\" points=\"443.5,-909.29 440,-899.29 436.5,-909.29 443.5,-909.29\"/>\n",
       "</g>\n",
       "<!-- 32&#45;&gt;33 -->\n",
       "<g id=\"edge36\" class=\"edge\">\n",
       "<title>32&#45;&gt;33</title>\n",
       "<path fill=\"none\" stroke=\"black\" d=\"M440,-856.63C440,-848.82 440,-839.73 440,-831.18\"/>\n",
       "<polygon fill=\"black\" stroke=\"black\" points=\"443.5,-831.16 440,-821.16 436.5,-831.16 443.5,-831.16\"/>\n",
       "</g>\n",
       "<!-- 34 -->\n",
       "<g id=\"node35\" class=\"node\">\n",
       "<title>34</title>\n",
       "<polygon fill=\"#c1ffc1\" stroke=\"transparent\" points=\"544.5,-743 335.5,-743 335.5,-701 544.5,-701 544.5,-743\"/>\n",
       "<polygon fill=\"none\" stroke=\"black\" points=\"336,-701 336,-743 392,-743 392,-701 336,-701\"/>\n",
       "<text text-anchor=\"start\" x=\"341\" y=\"-725\" font-family=\"Linux libertine\" font-size=\"10.00\">Attention</text>\n",
       "<text text-anchor=\"start\" x=\"345.5\" y=\"-714\" font-family=\"Linux libertine\" font-size=\"10.00\">depth:3</text>\n",
       "<polygon fill=\"none\" stroke=\"black\" points=\"392,-722 392,-743 440,-743 440,-722 392,-722\"/>\n",
       "<text text-anchor=\"start\" x=\"402\" y=\"-730\" font-family=\"Linux libertine\" font-size=\"10.00\">input:</text>\n",
       "<polygon fill=\"none\" stroke=\"black\" points=\"440,-722 440,-743 545,-743 545,-722 440,-722\"/>\n",
       "<text text-anchor=\"start\" x=\"445\" y=\"-730\" font-family=\"Linux libertine\" font-size=\"10.00\">(1, 192, 64, 64, 64) </text>\n",
       "<polygon fill=\"none\" stroke=\"black\" points=\"392,-701 392,-722 440,-722 440,-701 392,-701\"/>\n",
       "<text text-anchor=\"start\" x=\"397\" y=\"-709\" font-family=\"Linux libertine\" font-size=\"10.00\">output: </text>\n",
       "<polygon fill=\"none\" stroke=\"black\" points=\"440,-701 440,-722 545,-722 545,-701 440,-701\"/>\n",
       "<text text-anchor=\"start\" x=\"445\" y=\"-709\" font-family=\"Linux libertine\" font-size=\"10.00\">(1, 192, 64, 64, 64) </text>\n",
       "</g>\n",
       "<!-- 33&#45;&gt;34 -->\n",
       "<g id=\"edge37\" class=\"edge\">\n",
       "<title>33&#45;&gt;34</title>\n",
       "<path fill=\"none\" stroke=\"black\" d=\"M440,-778.63C440,-770.82 440,-761.73 440,-753.18\"/>\n",
       "<polygon fill=\"black\" stroke=\"black\" points=\"443.5,-753.16 440,-743.16 436.5,-753.16 443.5,-753.16\"/>\n",
       "</g>\n",
       "<!-- 35 -->\n",
       "<g id=\"node36\" class=\"node\">\n",
       "<title>35</title>\n",
       "<polygon fill=\"#c1ffc1\" stroke=\"transparent\" points=\"553,-665 327,-665 327,-623 553,-623 553,-665\"/>\n",
       "<polygon fill=\"none\" stroke=\"black\" points=\"327,-623 327,-665 400,-665 400,-623 327,-623\"/>\n",
       "<text text-anchor=\"start\" x=\"332\" y=\"-647\" font-family=\"Linux libertine\" font-size=\"10.00\">Conv2dReLU</text>\n",
       "<text text-anchor=\"start\" x=\"345\" y=\"-636\" font-family=\"Linux libertine\" font-size=\"10.00\">depth:3</text>\n",
       "<polygon fill=\"none\" stroke=\"black\" points=\"400,-644 400,-665 448,-665 448,-644 400,-644\"/>\n",
       "<text text-anchor=\"start\" x=\"410\" y=\"-652\" font-family=\"Linux libertine\" font-size=\"10.00\">input:</text>\n",
       "<polygon fill=\"none\" stroke=\"black\" points=\"448,-644 448,-665 553,-665 553,-644 448,-644\"/>\n",
       "<text text-anchor=\"start\" x=\"453\" y=\"-652\" font-family=\"Linux libertine\" font-size=\"10.00\">(1, 192, 64, 64, 64) </text>\n",
       "<polygon fill=\"none\" stroke=\"black\" points=\"400,-623 400,-644 448,-644 448,-623 400,-623\"/>\n",
       "<text text-anchor=\"start\" x=\"405\" y=\"-631\" font-family=\"Linux libertine\" font-size=\"10.00\">output: </text>\n",
       "<polygon fill=\"none\" stroke=\"black\" points=\"448,-623 448,-644 553,-644 553,-623 448,-623\"/>\n",
       "<text text-anchor=\"start\" x=\"456\" y=\"-631\" font-family=\"Linux libertine\" font-size=\"10.00\">(1, 64, 64, 64, 64) </text>\n",
       "</g>\n",
       "<!-- 34&#45;&gt;35 -->\n",
       "<g id=\"edge38\" class=\"edge\">\n",
       "<title>34&#45;&gt;35</title>\n",
       "<path fill=\"none\" stroke=\"black\" d=\"M440,-700.63C440,-692.82 440,-683.73 440,-675.18\"/>\n",
       "<polygon fill=\"black\" stroke=\"black\" points=\"443.5,-675.16 440,-665.16 436.5,-675.16 443.5,-675.16\"/>\n",
       "</g>\n",
       "<!-- 36 -->\n",
       "<g id=\"node37\" class=\"node\">\n",
       "<title>36</title>\n",
       "<polygon fill=\"#c1ffc1\" stroke=\"transparent\" points=\"550,-587 330,-587 330,-545 550,-545 550,-587\"/>\n",
       "<polygon fill=\"none\" stroke=\"black\" points=\"330,-545 330,-587 403,-587 403,-545 330,-545\"/>\n",
       "<text text-anchor=\"start\" x=\"335\" y=\"-569\" font-family=\"Linux libertine\" font-size=\"10.00\">Conv2dReLU</text>\n",
       "<text text-anchor=\"start\" x=\"348\" y=\"-558\" font-family=\"Linux libertine\" font-size=\"10.00\">depth:3</text>\n",
       "<polygon fill=\"none\" stroke=\"black\" points=\"403,-566 403,-587 451,-587 451,-566 403,-566\"/>\n",
       "<text text-anchor=\"start\" x=\"413\" y=\"-574\" font-family=\"Linux libertine\" font-size=\"10.00\">input:</text>\n",
       "<polygon fill=\"none\" stroke=\"black\" points=\"451,-566 451,-587 550,-587 550,-566 451,-566\"/>\n",
       "<text text-anchor=\"start\" x=\"456\" y=\"-574\" font-family=\"Linux libertine\" font-size=\"10.00\">(1, 64, 64, 64, 64) </text>\n",
       "<polygon fill=\"none\" stroke=\"black\" points=\"403,-545 403,-566 451,-566 451,-545 403,-545\"/>\n",
       "<text text-anchor=\"start\" x=\"408\" y=\"-553\" font-family=\"Linux libertine\" font-size=\"10.00\">output: </text>\n",
       "<polygon fill=\"none\" stroke=\"black\" points=\"451,-545 451,-566 550,-566 550,-545 451,-545\"/>\n",
       "<text text-anchor=\"start\" x=\"456\" y=\"-553\" font-family=\"Linux libertine\" font-size=\"10.00\">(1, 64, 64, 64, 64) </text>\n",
       "</g>\n",
       "<!-- 35&#45;&gt;36 -->\n",
       "<g id=\"edge39\" class=\"edge\">\n",
       "<title>35&#45;&gt;36</title>\n",
       "<path fill=\"none\" stroke=\"black\" d=\"M440,-622.63C440,-614.82 440,-605.73 440,-597.18\"/>\n",
       "<polygon fill=\"black\" stroke=\"black\" points=\"443.5,-597.16 440,-587.16 436.5,-597.16 443.5,-597.16\"/>\n",
       "</g>\n",
       "<!-- 37 -->\n",
       "<g id=\"node38\" class=\"node\">\n",
       "<title>37</title>\n",
       "<polygon fill=\"#c1ffc1\" stroke=\"transparent\" points=\"541.5,-509 338.5,-509 338.5,-467 541.5,-467 541.5,-509\"/>\n",
       "<polygon fill=\"none\" stroke=\"black\" points=\"339,-467 339,-509 395,-509 395,-467 339,-467\"/>\n",
       "<text text-anchor=\"start\" x=\"344\" y=\"-491\" font-family=\"Linux libertine\" font-size=\"10.00\">Attention</text>\n",
       "<text text-anchor=\"start\" x=\"348.5\" y=\"-480\" font-family=\"Linux libertine\" font-size=\"10.00\">depth:3</text>\n",
       "<polygon fill=\"none\" stroke=\"black\" points=\"395,-488 395,-509 443,-509 443,-488 395,-488\"/>\n",
       "<text text-anchor=\"start\" x=\"405\" y=\"-496\" font-family=\"Linux libertine\" font-size=\"10.00\">input:</text>\n",
       "<polygon fill=\"none\" stroke=\"black\" points=\"443,-488 443,-509 542,-509 542,-488 443,-488\"/>\n",
       "<text text-anchor=\"start\" x=\"448\" y=\"-496\" font-family=\"Linux libertine\" font-size=\"10.00\">(1, 64, 64, 64, 64) </text>\n",
       "<polygon fill=\"none\" stroke=\"black\" points=\"395,-467 395,-488 443,-488 443,-467 395,-467\"/>\n",
       "<text text-anchor=\"start\" x=\"400\" y=\"-475\" font-family=\"Linux libertine\" font-size=\"10.00\">output: </text>\n",
       "<polygon fill=\"none\" stroke=\"black\" points=\"443,-467 443,-488 542,-488 542,-467 443,-467\"/>\n",
       "<text text-anchor=\"start\" x=\"448\" y=\"-475\" font-family=\"Linux libertine\" font-size=\"10.00\">(1, 64, 64, 64, 64) </text>\n",
       "</g>\n",
       "<!-- 36&#45;&gt;37 -->\n",
       "<g id=\"edge40\" class=\"edge\">\n",
       "<title>36&#45;&gt;37</title>\n",
       "<path fill=\"none\" stroke=\"black\" d=\"M440,-544.63C440,-536.82 440,-527.73 440,-519.18\"/>\n",
       "<polygon fill=\"black\" stroke=\"black\" points=\"443.5,-519.16 440,-509.16 436.5,-519.16 443.5,-519.16\"/>\n",
       "</g>\n",
       "<!-- 38 -->\n",
       "<g id=\"node39\" class=\"node\">\n",
       "<title>38</title>\n",
       "<polygon fill=\"aliceblue\" stroke=\"transparent\" points=\"554.5,-422 325.5,-422 325.5,-380 554.5,-380 554.5,-422\"/>\n",
       "<polygon fill=\"none\" stroke=\"black\" points=\"326,-380 326,-422 390,-422 390,-380 326,-380\"/>\n",
       "<text text-anchor=\"start\" x=\"331\" y=\"-404\" font-family=\"Linux libertine\" font-size=\"10.00\">interpolate</text>\n",
       "<text text-anchor=\"start\" x=\"339.5\" y=\"-393\" font-family=\"Linux libertine\" font-size=\"10.00\">depth:3</text>\n",
       "<polygon fill=\"none\" stroke=\"black\" points=\"390,-401 390,-422 438,-422 438,-401 390,-401\"/>\n",
       "<text text-anchor=\"start\" x=\"400\" y=\"-409\" font-family=\"Linux libertine\" font-size=\"10.00\">input:</text>\n",
       "<polygon fill=\"none\" stroke=\"black\" points=\"438,-401 438,-422 555,-422 555,-401 438,-401\"/>\n",
       "<text text-anchor=\"start\" x=\"452\" y=\"-409\" font-family=\"Linux libertine\" font-size=\"10.00\">(1, 64, 64, 64, 64) </text>\n",
       "<polygon fill=\"none\" stroke=\"black\" points=\"390,-380 390,-401 438,-401 438,-380 390,-380\"/>\n",
       "<text text-anchor=\"start\" x=\"395\" y=\"-388\" font-family=\"Linux libertine\" font-size=\"10.00\">output: </text>\n",
       "<polygon fill=\"none\" stroke=\"black\" points=\"438,-380 438,-401 555,-401 555,-380 438,-380\"/>\n",
       "<text text-anchor=\"start\" x=\"443\" y=\"-388\" font-family=\"Linux libertine\" font-size=\"10.00\">(1, 64, 128, 128, 128) </text>\n",
       "</g>\n",
       "<!-- 37&#45;&gt;38 -->\n",
       "<g id=\"edge41\" class=\"edge\">\n",
       "<title>37&#45;&gt;38</title>\n",
       "<path fill=\"none\" stroke=\"black\" d=\"M440,-466.86C440,-456.56 440,-443.81 440,-432.35\"/>\n",
       "<polygon fill=\"black\" stroke=\"black\" points=\"443.5,-432.29 440,-422.29 436.5,-432.29 443.5,-432.29\"/>\n",
       "</g>\n",
       "<!-- 39 -->\n",
       "<g id=\"node40\" class=\"node\">\n",
       "<title>39</title>\n",
       "<polygon fill=\"#c1ffc1\" stroke=\"transparent\" points=\"559,-344 321,-344 321,-302 559,-302 559,-344\"/>\n",
       "<polygon fill=\"none\" stroke=\"black\" points=\"321,-302 321,-344 394,-344 394,-302 321,-302\"/>\n",
       "<text text-anchor=\"start\" x=\"326\" y=\"-326\" font-family=\"Linux libertine\" font-size=\"10.00\">Conv2dReLU</text>\n",
       "<text text-anchor=\"start\" x=\"339\" y=\"-315\" font-family=\"Linux libertine\" font-size=\"10.00\">depth:3</text>\n",
       "<polygon fill=\"none\" stroke=\"black\" points=\"394,-323 394,-344 442,-344 442,-323 394,-323\"/>\n",
       "<text text-anchor=\"start\" x=\"404\" y=\"-331\" font-family=\"Linux libertine\" font-size=\"10.00\">input:</text>\n",
       "<polygon fill=\"none\" stroke=\"black\" points=\"442,-323 442,-344 559,-344 559,-323 442,-323\"/>\n",
       "<text text-anchor=\"start\" x=\"447\" y=\"-331\" font-family=\"Linux libertine\" font-size=\"10.00\">(1, 64, 128, 128, 128) </text>\n",
       "<polygon fill=\"none\" stroke=\"black\" points=\"394,-302 394,-323 442,-323 442,-302 394,-302\"/>\n",
       "<text text-anchor=\"start\" x=\"399\" y=\"-310\" font-family=\"Linux libertine\" font-size=\"10.00\">output: </text>\n",
       "<polygon fill=\"none\" stroke=\"black\" points=\"442,-302 442,-323 559,-323 559,-302 442,-302\"/>\n",
       "<text text-anchor=\"start\" x=\"447\" y=\"-310\" font-family=\"Linux libertine\" font-size=\"10.00\">(1, 32, 128, 128, 128) </text>\n",
       "</g>\n",
       "<!-- 38&#45;&gt;39 -->\n",
       "<g id=\"edge42\" class=\"edge\">\n",
       "<title>38&#45;&gt;39</title>\n",
       "<path fill=\"none\" stroke=\"black\" d=\"M440,-379.63C440,-371.82 440,-362.73 440,-354.18\"/>\n",
       "<polygon fill=\"black\" stroke=\"black\" points=\"443.5,-354.16 440,-344.16 436.5,-354.16 443.5,-354.16\"/>\n",
       "</g>\n",
       "<!-- 40 -->\n",
       "<g id=\"node41\" class=\"node\">\n",
       "<title>40</title>\n",
       "<polygon fill=\"#c1ffc1\" stroke=\"transparent\" points=\"559,-266 321,-266 321,-224 559,-224 559,-266\"/>\n",
       "<polygon fill=\"none\" stroke=\"black\" points=\"321,-224 321,-266 394,-266 394,-224 321,-224\"/>\n",
       "<text text-anchor=\"start\" x=\"326\" y=\"-248\" font-family=\"Linux libertine\" font-size=\"10.00\">Conv2dReLU</text>\n",
       "<text text-anchor=\"start\" x=\"339\" y=\"-237\" font-family=\"Linux libertine\" font-size=\"10.00\">depth:3</text>\n",
       "<polygon fill=\"none\" stroke=\"black\" points=\"394,-245 394,-266 442,-266 442,-245 394,-245\"/>\n",
       "<text text-anchor=\"start\" x=\"404\" y=\"-253\" font-family=\"Linux libertine\" font-size=\"10.00\">input:</text>\n",
       "<polygon fill=\"none\" stroke=\"black\" points=\"442,-245 442,-266 559,-266 559,-245 442,-245\"/>\n",
       "<text text-anchor=\"start\" x=\"447\" y=\"-253\" font-family=\"Linux libertine\" font-size=\"10.00\">(1, 32, 128, 128, 128) </text>\n",
       "<polygon fill=\"none\" stroke=\"black\" points=\"394,-224 394,-245 442,-245 442,-224 394,-224\"/>\n",
       "<text text-anchor=\"start\" x=\"399\" y=\"-232\" font-family=\"Linux libertine\" font-size=\"10.00\">output: </text>\n",
       "<polygon fill=\"none\" stroke=\"black\" points=\"442,-224 442,-245 559,-245 559,-224 442,-224\"/>\n",
       "<text text-anchor=\"start\" x=\"447\" y=\"-232\" font-family=\"Linux libertine\" font-size=\"10.00\">(1, 32, 128, 128, 128) </text>\n",
       "</g>\n",
       "<!-- 39&#45;&gt;40 -->\n",
       "<g id=\"edge43\" class=\"edge\">\n",
       "<title>39&#45;&gt;40</title>\n",
       "<path fill=\"none\" stroke=\"black\" d=\"M440,-301.63C440,-293.82 440,-284.73 440,-276.18\"/>\n",
       "<polygon fill=\"black\" stroke=\"black\" points=\"443.5,-276.16 440,-266.16 436.5,-276.16 443.5,-276.16\"/>\n",
       "</g>\n",
       "<!-- 41 -->\n",
       "<g id=\"node42\" class=\"node\">\n",
       "<title>41</title>\n",
       "<polygon fill=\"#c1ffc1\" stroke=\"transparent\" points=\"550.5,-188 329.5,-188 329.5,-146 550.5,-146 550.5,-188\"/>\n",
       "<polygon fill=\"none\" stroke=\"black\" points=\"330,-146 330,-188 386,-188 386,-146 330,-146\"/>\n",
       "<text text-anchor=\"start\" x=\"335\" y=\"-170\" font-family=\"Linux libertine\" font-size=\"10.00\">Attention</text>\n",
       "<text text-anchor=\"start\" x=\"339.5\" y=\"-159\" font-family=\"Linux libertine\" font-size=\"10.00\">depth:3</text>\n",
       "<polygon fill=\"none\" stroke=\"black\" points=\"386,-167 386,-188 434,-188 434,-167 386,-167\"/>\n",
       "<text text-anchor=\"start\" x=\"396\" y=\"-175\" font-family=\"Linux libertine\" font-size=\"10.00\">input:</text>\n",
       "<polygon fill=\"none\" stroke=\"black\" points=\"434,-167 434,-188 551,-188 551,-167 434,-167\"/>\n",
       "<text text-anchor=\"start\" x=\"439\" y=\"-175\" font-family=\"Linux libertine\" font-size=\"10.00\">(1, 32, 128, 128, 128) </text>\n",
       "<polygon fill=\"none\" stroke=\"black\" points=\"386,-146 386,-167 434,-167 434,-146 386,-146\"/>\n",
       "<text text-anchor=\"start\" x=\"391\" y=\"-154\" font-family=\"Linux libertine\" font-size=\"10.00\">output: </text>\n",
       "<polygon fill=\"none\" stroke=\"black\" points=\"434,-146 434,-167 551,-167 551,-146 434,-146\"/>\n",
       "<text text-anchor=\"start\" x=\"439\" y=\"-154\" font-family=\"Linux libertine\" font-size=\"10.00\">(1, 32, 128, 128, 128) </text>\n",
       "</g>\n",
       "<!-- 40&#45;&gt;41 -->\n",
       "<g id=\"edge44\" class=\"edge\">\n",
       "<title>40&#45;&gt;41</title>\n",
       "<path fill=\"none\" stroke=\"black\" d=\"M440,-223.63C440,-215.82 440,-206.73 440,-198.18\"/>\n",
       "<polygon fill=\"black\" stroke=\"black\" points=\"443.5,-198.16 440,-188.16 436.5,-198.16 443.5,-198.16\"/>\n",
       "</g>\n",
       "<!-- 42 -->\n",
       "<g id=\"node43\" class=\"node\">\n",
       "<title>42</title>\n",
       "<polygon fill=\"#c1ffc1\" stroke=\"transparent\" points=\"546,-110 334,-110 334,-68 546,-68 546,-110\"/>\n",
       "<polygon fill=\"none\" stroke=\"black\" points=\"334,-68 334,-110 381,-110 381,-68 334,-68\"/>\n",
       "<text text-anchor=\"start\" x=\"339\" y=\"-92\" font-family=\"Linux libertine\" font-size=\"10.00\">Conv3d</text>\n",
       "<text text-anchor=\"start\" x=\"339\" y=\"-81\" font-family=\"Linux libertine\" font-size=\"10.00\">depth:1</text>\n",
       "<polygon fill=\"none\" stroke=\"black\" points=\"381,-89 381,-110 429,-110 429,-89 381,-89\"/>\n",
       "<text text-anchor=\"start\" x=\"391\" y=\"-97\" font-family=\"Linux libertine\" font-size=\"10.00\">input:</text>\n",
       "<polygon fill=\"none\" stroke=\"black\" points=\"429,-89 429,-110 546,-110 546,-89 429,-89\"/>\n",
       "<text text-anchor=\"start\" x=\"434\" y=\"-97\" font-family=\"Linux libertine\" font-size=\"10.00\">(1, 32, 128, 128, 128) </text>\n",
       "<polygon fill=\"none\" stroke=\"black\" points=\"381,-68 381,-89 429,-89 429,-68 381,-68\"/>\n",
       "<text text-anchor=\"start\" x=\"386\" y=\"-76\" font-family=\"Linux libertine\" font-size=\"10.00\">output: </text>\n",
       "<polygon fill=\"none\" stroke=\"black\" points=\"429,-68 429,-89 546,-89 546,-68 429,-68\"/>\n",
       "<text text-anchor=\"start\" x=\"437\" y=\"-76\" font-family=\"Linux libertine\" font-size=\"10.00\">(1, 7, 128, 128, 128) </text>\n",
       "</g>\n",
       "<!-- 41&#45;&gt;42 -->\n",
       "<g id=\"edge45\" class=\"edge\">\n",
       "<title>41&#45;&gt;42</title>\n",
       "<path fill=\"none\" stroke=\"black\" d=\"M440,-145.63C440,-137.82 440,-128.73 440,-120.18\"/>\n",
       "<polygon fill=\"black\" stroke=\"black\" points=\"443.5,-120.16 440,-110.16 436.5,-120.16 443.5,-120.16\"/>\n",
       "</g>\n",
       "<!-- 43 -->\n",
       "<g id=\"node44\" class=\"node\">\n",
       "<title>43</title>\n",
       "<polygon fill=\"lightyellow\" stroke=\"transparent\" points=\"532.5,-32 347.5,-32 347.5,0 532.5,0 532.5,-32\"/>\n",
       "<polygon fill=\"none\" stroke=\"black\" points=\"348,0 348,-32 425,-32 425,0 348,0\"/>\n",
       "<text text-anchor=\"start\" x=\"353\" y=\"-19\" font-family=\"Linux libertine\" font-size=\"10.00\">output&#45;tensor</text>\n",
       "<text text-anchor=\"start\" x=\"368\" y=\"-8\" font-family=\"Linux libertine\" font-size=\"10.00\">depth:0</text>\n",
       "<polygon fill=\"none\" stroke=\"black\" points=\"425,0 425,-32 533,-32 533,0 425,0\"/>\n",
       "<text text-anchor=\"start\" x=\"430\" y=\"-13.5\" font-family=\"Linux libertine\" font-size=\"10.00\">(1, 7, 128, 128, 128)</text>\n",
       "</g>\n",
       "<!-- 42&#45;&gt;43 -->\n",
       "<g id=\"edge46\" class=\"edge\">\n",
       "<title>42&#45;&gt;43</title>\n",
       "<path fill=\"none\" stroke=\"black\" d=\"M440,-67.84C440,-59.89 440,-50.66 440,-42.26\"/>\n",
       "<polygon fill=\"black\" stroke=\"black\" points=\"443.5,-42.24 440,-32.24 436.5,-42.24 443.5,-42.24\"/>\n",
       "</g>\n",
       "</g>\n",
       "</svg>\n"
      ],
      "text/plain": [
       "<graphviz.graphs.Digraph at 0x7fc6b73f7f50>"
      ]
     },
     "execution_count": 19,
     "metadata": {},
     "output_type": "execute_result"
    }
   ],
   "source": [
    "# draw_graph(m, input_data = torch.rand(1, 3, 128,128,128), expand_nested=True, save_graph=True).visual_graph"
   ]
  },
  {
   "cell_type": "markdown",
   "metadata": {},
   "source": [
    "# Loss & Metric"
   ]
  },
  {
   "cell_type": "code",
   "execution_count": null,
   "metadata": {},
   "outputs": [],
   "source": []
  },
  {
   "cell_type": "code",
   "execution_count": 38,
   "metadata": {},
   "outputs": [],
   "source": [
    "from typing import Any, Dict, Optional\n",
    "\n",
    "\n",
    "def binary_dice_score( y_pred: torch.Tensor, y_true: torch.Tensor, threshold: Optional[float] = None, nan_score_on_empty=False, eps: float = 1e-7,) -> float:\n",
    "    # ->; is introduced to get developers to optionally specify the return type of the function.    \n",
    "\n",
    "    # y_pred.shape, y_true.shape => torch.Size([128, 128, 128]) torch.Size([128, 128, 128])\n",
    "    if threshold is not None:\n",
    "        y_pred = (y_pred > threshold).to(y_true.dtype)\n",
    "\n",
    "    intersection = torch.sum(y_pred * y_true).item()\n",
    "    cardinality = (torch.sum(y_pred) + torch.sum(y_true)).item()\n",
    "\n",
    "    score = (2.0 * intersection) / (cardinality + eps)\n",
    "\n",
    "    # flags\n",
    "    has_predicted = torch.sum(y_pred) > 0    \n",
    "    has_targets = torch.sum(y_true) > 0 # tensor(True) or tensor(False)\n",
    "\n",
    "    if not has_targets:\n",
    "        if nan_score_on_empty:\n",
    "            score = np.nan\n",
    "        else:\n",
    "            score = float(not has_predicted)\n",
    "    return score\n",
    "\n",
    "\n",
    "def multilabel_dice_score( y_true: torch.Tensor, y_pred: torch.Tensor, threshold=None, eps=1e-7, nan_score_on_empty=False,):\n",
    "    dice_of_lblS = [] # C1....C7 are labels\n",
    "\n",
    "    # y_pred.shape => torch.Size([7, 128, 128, 128])\n",
    "    num_classes = y_pred.size(0)\n",
    "    for class_index in range(num_classes):\n",
    "        dice_of_lbl = binary_dice_score(\n",
    "            y_pred=y_pred[class_index],\n",
    "            y_true=y_true[class_index],\n",
    "            threshold=threshold,\n",
    "            nan_score_on_empty=nan_score_on_empty,\n",
    "            eps=eps,\n",
    "        )\n",
    "        dice_of_lblS.append(dice_of_lbl)\n",
    "\n",
    "    return dice_of_lblS\n",
    "\n",
    "\n",
    "def dice_loss(input, target):\n",
    "    # torch.sigmoid(input) => Computes the expit (also known as the logistic sigmoid function) of the elements of input.\n",
    "    input = torch.sigmoid(input)\n",
    "    # input.shape => torch.Size([4, 7, 128, 128, 128])\n",
    "    \n",
    "    smooth = 1.0\n",
    "    \n",
    "    # flattens the input tensor\n",
    "    iflat = input.view(-1)\n",
    "    # iflat.shape => torch.Size([58720256]) => 4*7*128*128*128 so much dimension\n",
    "\n",
    "    # flattens the target tensor\n",
    "    tflat = target.view(-1)\n",
    "    # tflat.shape => torch.Size([58720256]) => 4*7*128*128*128 so much dimension\n",
    "    \n",
    "    intersection = (iflat * tflat).sum()\n",
    "    # intersection => tensor(82505.0234, device='cuda:0', grad_fn=<SumBackward0>)\n",
    "    return 1 - ((2.0 * intersection + smooth) / (iflat.sum() + tflat.sum() + smooth))\n",
    "\n",
    "\n",
    "def bce_dice(input, target, loss_weights=loss_weights): # loss_weights = [1,1] => defined in config section    \n",
    "    # BCEWithLogitsLoss()(input, target) => This loss combines a Sigmoid layer and the BCELoss in one single class.\n",
    "    # This version is more numerically stable than using a plain Sigmoid followed by a BCELoss.\n",
    "    # BCE => Binary Cross Entropy.\n",
    "    loss1 = loss_weights[0] * nn.BCEWithLogitsLoss()(input, target)\n",
    "    loss2 = loss_weights[1] * dice_loss(input, target)\n",
    "    return (loss1 + loss2) / sum(loss_weights)\n",
    "\n",
    "criterion = bce_dice"
   ]
  },
  {
   "cell_type": "markdown",
   "metadata": {},
   "source": [
    "# Train & Valid func"
   ]
  },
  {
   "cell_type": "code",
   "execution_count": 39,
   "metadata": {},
   "outputs": [],
   "source": [
    "def mixup(input, truth, clip=[0, 1]):\n",
    "    # torch.randperm(n, *, ...) => Returns a random permutation of integers from 0 to n - 1.\n",
    "    indices = torch.randperm(input.size(0))\n",
    "    # input.size(0) => batch_size => 4\n",
    "    # indices => tensor([3, 1, 2, 0])\n",
    "    \n",
    "    # shuffling batch in batch of images. \n",
    "    shuffled_input = input[indices]\n",
    "    \n",
    "    # shuffling batch in batch of masks. \n",
    "    shuffled_masks = truth[indices]\n",
    "\n",
    "    # np.random.uniform(low=0.0, high=1.0, size=None) => draw sample(s) from a uniform distribution over the over the half-open interval [low, high).\n",
    "    lam = np.random.uniform(clip[0], clip[1])\n",
    "    # lam => 0.632965343426405.\n",
    "\n",
    "    # mixing 'image batch' with 'shuffled image batch' i.e., type of image transformation\n",
    "    input = input * lam + shuffled_input * (1 - lam)\n",
    "    \n",
    "    return input, truth, shuffled_masks, lam\n",
    "\n",
    "\n",
    "def train_func(model, loader_train, optimizer, scaler=None):\n",
    "    model.train()\n",
    "    train_loss = []\n",
    "    bar = tqdm(loader_train)    \n",
    "    # bar => 0%|                                   | 0/2019 [00:00<?, ?it/s]\n",
    "    # type(bar) => <class 'tqdm.std.tqdm'>    \n",
    "        \n",
    "    for images, gt_masks in bar:\n",
    "        # to reset the gradients of model parameters. \n",
    "        optimizer.zero_grad()\n",
    "        \n",
    "        # .cuda() => transfer a tensor from CPU to GPU.\n",
    "        # .cuda() and .to(device=cuda) are same.\n",
    "        images = images.cuda()\n",
    "        # type(images), images.shape => <class 'torch.Tensor'> torch.Size([4, 3, 128, 128, 128]) => 4 is batch_size\n",
    "\n",
    "        gt_masks = gt_masks.cuda() # gt_masks i.e., get_masks\n",
    "        # type(gt_masks), gt_masks.shape => <class 'torch.Tensor'> torch.Size([4, 7, 128, 128, 128]) => => 4 is batch_size\n",
    "\n",
    "        do_mixup = False\n",
    "        # random.random() => function generates random floating numbers in the range[0.1, 1.0)\n",
    "        if random.random() < p_mixup: # defined in config, p_mixup=0.1\n",
    "            do_mixup = True\n",
    "            images, gt_masks, gt_masks_sfl, lam = mixup(images, gt_masks)\n",
    "\n",
    "        # torch.amp (automatic mixed precision) => mixed precision tries to match each op to its appropriate datatype.\n",
    "        # autocast() => Instances of autocast serve as context managers or decorators that allow regions of your script to run in mixed precision.\n",
    "        with amp.autocast():\n",
    "            # images.shape => torch.Size([4, 3, 128, 128, 128])\n",
    "            logits = model(images)\n",
    "            # logits.shape => torch.Size([4, 7, 128, 128, 128])  \n",
    "            \n",
    "            # calculating loss using masks as targets\n",
    "            loss = criterion(logits, gt_masks)\n",
    "\n",
    "            if do_mixup:\n",
    "                # calculating loss using shuffled masks as targets\n",
    "                loss2 = criterion(logits, gt_masks_sfl)\n",
    "                loss = loss * lam  + loss2 * (1 - lam)\n",
    "                \n",
    "        # loss, loss.item() => \n",
    "        # tensor(0.8821, device='cuda:0', grad_fn=<DivBackward0>), 0.8821219801902771 \n",
    "        train_loss.append(loss.item())\n",
    "        \n",
    "        # Scales loss.  Calls backward() on scaled loss to create scaled gradients.\n",
    "        scaler.scale(loss).backward()\n",
    "        # All gradients produced by scaler.scale(loss).backward() are scaled. \n",
    "        # Each scale is calculated on-the-fly.\n",
    "        \n",
    "        scaler.step(optimizer)\n",
    "        # scaler.step() first unscales the gradients of the optimizer's assigned params.        \n",
    "        # If these gradients do not contain infs or NaNs, optimizer.step() is then called,\n",
    "        # otherwise, optimizer.step() is skipped.\n",
    "        # optimizer's assigned params; parameters which are to be optimized by optimizer.\n",
    "        \n",
    "        # Updates the scale for next iteration.\n",
    "        scaler.update()\n",
    "\n",
    "        bar.set_description(f'smooth loss:{np.mean(train_loss[-30:]):.4f}')\n",
    "        # train_loss[-30:] => take last 30 values of train_loss\n",
    "\n",
    "    return np.mean(train_loss)\n",
    "\n",
    "\n",
    "def valid_func(model, loader_valid):\n",
    "    model.eval()\n",
    "    valid_loss = []\n",
    "    outputs = []\n",
    "    \n",
    "    ths = [0.5]    \n",
    "    # ths = [0.2, 0.3, 0.4, 0.5, 0.6, 0.7, 0.8]\n",
    "    \n",
    "    batch_metrics = [[]] * len(ths) # \n",
    "    # if 'len(ths) = 7' then batch_metrics => [[], [], [], [], [], [], []]\n",
    "        \n",
    "    bar = tqdm(loader_valid)\n",
    "    with torch.no_grad():\n",
    "    # disable gradient calculation in this context.\n",
    "    \n",
    "        for images, gt_masks in bar:\n",
    "            images = images.cuda()\n",
    "            gt_masks = gt_masks.cuda()\n",
    "\n",
    "            logits = model(images)\n",
    "            loss = criterion(logits, gt_masks)\n",
    "            valid_loss.append(loss.item())\n",
    "            for thi, th in enumerate(ths):\n",
    "                # # .detach(); Returns a new Tensor, detached from the current graph.\n",
    "                # # new Tensor will never require gradient.\n",
    "                # pred = (logits.sigmoid() > th).float().detach()\n",
    "                \n",
    "                for i in range(logits.shape[0]): # logits.shape[0] => batch_size => \n",
    "                    tmp = multilabel_dice_score(\n",
    "                        # .cpu() => copy to cpu\n",
    "                        y_pred=logits[i].sigmoid().cpu(),\n",
    "                        y_true=gt_masks[i].cpu(),\n",
    "                        threshold=th, # 0.5\n",
    "                    )\n",
    "                    # len(tmp) => 7\n",
    "                    # tmp => [0.0, 0.0020704131924468654, 0.0, 0.001438477169412038, 0.0, 0.0, 0.0]\n",
    "                    \n",
    "                    batch_metrics[thi].extend(tmp) # extend previous list\n",
    "            bar.set_description(f'smooth loss:{np.mean(valid_loss[-30:]):.4f}')\n",
    "            \n",
    "    # single value of 'batch_metrics[thi]' list contains score of one patient i.e., (128,128,128).\n",
    "    metrics = [np.mean(this_metric) for this_metric in batch_metrics]\n",
    "    print('best threshold:', ths[np.argmax(metrics)], 'best dice of epoch:', np.max(metrics))    \n",
    "\n",
    "    return np.mean(valid_loss), np.max(metrics)\n"
   ]
  },
  {
   "cell_type": "code",
   "execution_count": 40,
   "metadata": {},
   "outputs": [],
   "source": [
    "# plt.rcParams['figure.figsize'] = 20, 2\n",
    "# optimizer = optim.AdamW(m.parameters(), lr=init_lr)\n",
    "# scheduler_cosine = torch.optim.lr_scheduler.CosineAnnealingLR(optimizer, 1000)\n",
    "# lrs = []\n",
    "# for epoch in range(1, 1000+1):\n",
    "#     scheduler_cosine.step(epoch-1)\n",
    "#     lrs.append(optimizer.param_groups[0][\"lr\"])\n",
    "# plt.plot(range(len(lrs)), lrs)"
   ]
  },
  {
   "cell_type": "markdown",
   "metadata": {},
   "source": [
    "# Training"
   ]
  },
  {
   "cell_type": "code",
   "execution_count": null,
   "metadata": {},
   "outputs": [],
   "source": []
  },
  {
   "cell_type": "code",
   "execution_count": 41,
   "metadata": {
    "tags": []
   },
   "outputs": [],
   "source": [
    "# df_run_tr = df_seg[0:4]\n",
    "# df_run_val = df_seg[4:5]\n",
    "def run(fold):\n",
    "\n",
    "    log_file = os.path.join(log_dir, f'{kernel_type}.txt')\n",
    "    model_file = os.path.join(model_dir, f'{kernel_type}_fold{fold}_best.pth')\n",
    "\n",
    "    train_ = df_seg[df_seg['fold'] != fold].reset_index(drop=True)\n",
    "    valid_ = df_seg[df_seg['fold'] == fold].reset_index(drop=True)\n",
    "    \n",
    "    dataset_train = SEGDataset(train_, 'train', transform=transforms_train) # train_\n",
    "    dataset_valid = SEGDataset(valid_, 'valid', transform=transforms_valid) # valid_\n",
    "    loader_train = torch.utils.data.DataLoader(dataset_train, batch_size=batch_size, shuffle=True, num_workers=num_workers)\n",
    "    loader_valid = torch.utils.data.DataLoader(dataset_valid, batch_size=batch_size, shuffle=False, num_workers=num_workers)\n",
    "\n",
    "    model = TimmSegModel(backbone, pretrained=True)\n",
    "    model = convert_3d(model)\n",
    "    \n",
    "    # https://pytorch.org/docs/stable/notes/cuda.html    \n",
    "    model = model.to(device) # device = torch.device('cuda')\n",
    "    \n",
    "    # if not first run, load previous model\n",
    "    fold_l = 3\n",
    "    load_model_file = os.path.join(model_dir_seg, f'{kernel_type}_fold{fold_l}_best.pth')\n",
    "    sd = torch.load(load_model_file)\n",
    "    if 'model_state_dict' in sd.keys():\n",
    "        sd = sd['model_state_dict']\n",
    "    sd = {k[7:] if k.startswith('module.') else k: sd[k] for k in sd.keys()}\n",
    "    model.load_state_dict(sd, strict=True)    \n",
    "    \n",
    "\n",
    "    optimizer = optim.AdamW(model.parameters(), lr=init_lr)\n",
    "    scaler = torch.cuda.amp.GradScaler()\n",
    "    from_epoch = 0\n",
    "    metric_best = 0.\n",
    "    loss_min = np.inf\n",
    "\n",
    "    scheduler_cosine = torch.optim.lr_scheduler.CosineAnnealingWarmRestarts(optimizer, n_epochs)\n",
    "\n",
    "    print(f'Length of dataset_train = {len(dataset_train)}, ', f'Length of dataset_valid = {len(dataset_valid)}')\n",
    "\n",
    "    for epoch in range(1, n_epochs+1):\n",
    "        scheduler_cosine.step(epoch-1)\n",
    "\n",
    "        print(time.ctime(), 'Epoch:', epoch)\n",
    "\n",
    "        # model training in train_func function\n",
    "        train_loss = train_func(model, loader_train, optimizer, scaler)\n",
    "        valid_loss, metric = valid_func(model, loader_valid)\n",
    "\n",
    "        content = time.ctime() + ' ' + f'Fold {fold}, Epoch {epoch}, lr: {optimizer.param_groups[0][\"lr\"]:.7f}, train loss: {train_loss:.5f}, valid loss: {valid_loss:.5f}, metric: {(metric):.6f}.'\n",
    "        print(content)\n",
    "        with open(log_file, 'a') as appender:\n",
    "            appender.write(content + '\\n')\n",
    "\n",
    "        if metric > metric_best:\n",
    "            print(f'metric_best ({metric_best:.6f} --> {metric:.6f}). Saving model ...')\n",
    "            torch.save(model.state_dict(), model_file)\n",
    "            metric_best = metric\n",
    "\n",
    "#         # Save Last\n",
    "#         if not DEBUG:\n",
    "#             torch.save(\n",
    "#                 {\n",
    "#                     'epoch': epoch,\n",
    "#                     'model_state_dict': model.state_dict(),\n",
    "#                     'optimizer_state_dict': optimizer.state_dict(),\n",
    "#                     'scaler_state_dict': scaler.state_dict() if scaler else None,\n",
    "#                     'score_best': metric_best,\n",
    "#                 },\n",
    "#                 model_file.replace('_best', '_last')\n",
    "#             )\n",
    "\n",
    "    del model\n",
    "    torch.cuda.empty_cache()\n",
    "    gc.collect()\n"
   ]
  },
  {
   "cell_type": "code",
   "execution_count": 42,
   "metadata": {
    "tags": []
   },
   "outputs": [],
   "source": [
    "torch.cuda.empty_cache()"
   ]
  },
  {
   "cell_type": "code",
   "execution_count": 43,
   "metadata": {},
   "outputs": [],
   "source": [
    "# print(torch.version.cuda)\n",
    "# print(torch.cuda.get_arch_list())"
   ]
  },
  {
   "cell_type": "code",
   "execution_count": 44,
   "metadata": {
    "tags": []
   },
   "outputs": [
    {
     "name": "stdout",
     "output_type": "stream",
     "text": [
      "2023-02-06 19:46:44,575 - Loading pretrained weights from url (https://github.com/rwightman/pytorch-image-models/releases/download/v0.1-weights/resnet18d_ra2-48a79e06.pth)\n",
      "Length of dataset_train = 69,  Length of dataset_valid = 18\n",
      "Mon Feb  6 19:46:45 2023 Epoch: 1\n"
     ]
    },
    {
     "name": "stderr",
     "output_type": "stream",
     "text": [
      "smooth loss:0.1081: 100%|███████████████████████████████████████████████████████████████████████████████████████████████████████████████| 35/35 [01:42<00:00,  2.91s/it]\n",
      "smooth loss:0.1270: 100%|█████████████████████████████████████████████████████████████████████████████████████████████████████████████████| 9/9 [00:13<00:00,  1.55s/it]\n"
     ]
    },
    {
     "name": "stdout",
     "output_type": "stream",
     "text": [
      "best threshold: 0.5 best dice of epoch: 0.7327532278136931\n",
      "Mon Feb  6 19:48:41 2023 Fold 0, Epoch 1, lr: 0.0030000, train loss: 0.09885, valid loss: 0.12704, metric: 0.732753.\n",
      "metric_best (0.000000 --> 0.732753). Saving model ...\n",
      "Mon Feb  6 19:48:42 2023 Epoch: 2\n"
     ]
    },
    {
     "name": "stderr",
     "output_type": "stream",
     "text": [
      "smooth loss:0.0805: 100%|███████████████████████████████████████████████████████████████████████████████████████████████████████████████| 35/35 [00:27<00:00,  1.28it/s]\n",
      "smooth loss:0.1277: 100%|█████████████████████████████████████████████████████████████████████████████████████████████████████████████████| 9/9 [00:07<00:00,  1.25it/s]\n"
     ]
    },
    {
     "name": "stdout",
     "output_type": "stream",
     "text": [
      "best threshold: 0.5 best dice of epoch: 0.7125707318187993\n",
      "Mon Feb  6 19:49:16 2023 Fold 0, Epoch 2, lr: 0.0029999, train loss: 0.07820, valid loss: 0.12773, metric: 0.712571.\n",
      "Mon Feb  6 19:49:16 2023 Epoch: 3\n"
     ]
    },
    {
     "name": "stderr",
     "output_type": "stream",
     "text": [
      "smooth loss:0.0578: 100%|███████████████████████████████████████████████████████████████████████████████████████████████████████████████| 35/35 [00:27<00:00,  1.29it/s]\n",
      "smooth loss:0.1058: 100%|█████████████████████████████████████████████████████████████████████████████████████████████████████████████████| 9/9 [00:07<00:00,  1.23it/s]\n"
     ]
    },
    {
     "name": "stdout",
     "output_type": "stream",
     "text": [
      "best threshold: 0.5 best dice of epoch: 0.7850353417029181\n",
      "Mon Feb  6 19:49:51 2023 Fold 0, Epoch 3, lr: 0.0029997, train loss: 0.06105, valid loss: 0.10576, metric: 0.785035.\n",
      "metric_best (0.732753 --> 0.785035). Saving model ...\n",
      "Mon Feb  6 19:49:51 2023 Epoch: 4\n"
     ]
    },
    {
     "name": "stderr",
     "output_type": "stream",
     "text": [
      "smooth loss:0.0516: 100%|███████████████████████████████████████████████████████████████████████████████████████████████████████████████| 35/35 [00:27<00:00,  1.29it/s]\n",
      "smooth loss:0.0950: 100%|█████████████████████████████████████████████████████████████████████████████████████████████████████████████████| 9/9 [00:07<00:00,  1.25it/s]\n"
     ]
    },
    {
     "name": "stdout",
     "output_type": "stream",
     "text": [
      "best threshold: 0.5 best dice of epoch: 0.8037295700757121\n",
      "Mon Feb  6 19:50:26 2023 Fold 0, Epoch 4, lr: 0.0029993, train loss: 0.05134, valid loss: 0.09497, metric: 0.803730.\n",
      "metric_best (0.785035 --> 0.803730). Saving model ...\n",
      "Mon Feb  6 19:50:26 2023 Epoch: 5\n"
     ]
    },
    {
     "name": "stderr",
     "output_type": "stream",
     "text": [
      "smooth loss:0.0473: 100%|███████████████████████████████████████████████████████████████████████████████████████████████████████████████| 35/35 [00:27<00:00,  1.28it/s]\n",
      "smooth loss:0.0857: 100%|█████████████████████████████████████████████████████████████████████████████████████████████████████████████████| 9/9 [00:07<00:00,  1.24it/s]\n"
     ]
    },
    {
     "name": "stdout",
     "output_type": "stream",
     "text": [
      "best threshold: 0.5 best dice of epoch: 0.8296994878459155\n",
      "Mon Feb  6 19:51:01 2023 Fold 0, Epoch 5, lr: 0.0029987, train loss: 0.04690, valid loss: 0.08567, metric: 0.829699.\n",
      "metric_best (0.803730 --> 0.829699). Saving model ...\n",
      "Mon Feb  6 19:51:01 2023 Epoch: 6\n"
     ]
    },
    {
     "name": "stderr",
     "output_type": "stream",
     "text": [
      "smooth loss:0.0406: 100%|███████████████████████████████████████████████████████████████████████████████████████████████████████████████| 35/35 [00:27<00:00,  1.30it/s]\n",
      "smooth loss:0.0709: 100%|█████████████████████████████████████████████████████████████████████████████████████████████████████████████████| 9/9 [00:07<00:00,  1.26it/s]\n"
     ]
    },
    {
     "name": "stdout",
     "output_type": "stream",
     "text": [
      "best threshold: 0.5 best dice of epoch: 0.860299181006748\n",
      "Mon Feb  6 19:51:35 2023 Fold 0, Epoch 6, lr: 0.0029979, train loss: 0.03966, valid loss: 0.07085, metric: 0.860299.\n",
      "metric_best (0.829699 --> 0.860299). Saving model ...\n",
      "Mon Feb  6 19:51:36 2023 Epoch: 7\n"
     ]
    },
    {
     "name": "stderr",
     "output_type": "stream",
     "text": [
      "smooth loss:0.0563: 100%|███████████████████████████████████████████████████████████████████████████████████████████████████████████████| 35/35 [00:27<00:00,  1.29it/s]\n",
      "smooth loss:0.0914: 100%|█████████████████████████████████████████████████████████████████████████████████████████████████████████████████| 9/9 [00:07<00:00,  1.25it/s]\n"
     ]
    },
    {
     "name": "stdout",
     "output_type": "stream",
     "text": [
      "best threshold: 0.5 best dice of epoch: 0.820556019577775\n",
      "Mon Feb  6 19:52:10 2023 Fold 0, Epoch 7, lr: 0.0029970, train loss: 0.06051, valid loss: 0.09140, metric: 0.820556.\n",
      "Mon Feb  6 19:52:10 2023 Epoch: 8\n"
     ]
    },
    {
     "name": "stderr",
     "output_type": "stream",
     "text": [
      "smooth loss:0.0501: 100%|███████████████████████████████████████████████████████████████████████████████████████████████████████████████| 35/35 [00:27<00:00,  1.29it/s]\n",
      "smooth loss:0.0815: 100%|█████████████████████████████████████████████████████████████████████████████████████████████████████████████████| 9/9 [00:07<00:00,  1.25it/s]\n"
     ]
    },
    {
     "name": "stdout",
     "output_type": "stream",
     "text": [
      "best threshold: 0.5 best dice of epoch: 0.8225057216311398\n",
      "Mon Feb  6 19:52:45 2023 Fold 0, Epoch 8, lr: 0.0029960, train loss: 0.04927, valid loss: 0.08155, metric: 0.822506.\n",
      "Mon Feb  6 19:52:45 2023 Epoch: 9\n"
     ]
    },
    {
     "name": "stderr",
     "output_type": "stream",
     "text": [
      "smooth loss:0.0525: 100%|███████████████████████████████████████████████████████████████████████████████████████████████████████████████| 35/35 [00:26<00:00,  1.30it/s]\n",
      "smooth loss:0.0856: 100%|█████████████████████████████████████████████████████████████████████████████████████████████████████████████████| 9/9 [00:07<00:00,  1.25it/s]\n"
     ]
    },
    {
     "name": "stdout",
     "output_type": "stream",
     "text": [
      "best threshold: 0.5 best dice of epoch: 0.8251674797159001\n",
      "Mon Feb  6 19:53:19 2023 Fold 0, Epoch 9, lr: 0.0029947, train loss: 0.05064, valid loss: 0.08558, metric: 0.825167.\n",
      "Mon Feb  6 19:53:19 2023 Epoch: 10\n"
     ]
    },
    {
     "name": "stderr",
     "output_type": "stream",
     "text": [
      "smooth loss:0.0618: 100%|███████████████████████████████████████████████████████████████████████████████████████████████████████████████| 35/35 [00:27<00:00,  1.29it/s]\n",
      "smooth loss:0.0967: 100%|█████████████████████████████████████████████████████████████████████████████████████████████████████████████████| 9/9 [00:07<00:00,  1.25it/s]\n"
     ]
    },
    {
     "name": "stdout",
     "output_type": "stream",
     "text": [
      "best threshold: 0.5 best dice of epoch: 0.8050661690769026\n",
      "Mon Feb  6 19:53:53 2023 Fold 0, Epoch 10, lr: 0.0029933, train loss: 0.06021, valid loss: 0.09672, metric: 0.805066.\n",
      "Mon Feb  6 19:53:53 2023 Epoch: 11\n"
     ]
    },
    {
     "name": "stderr",
     "output_type": "stream",
     "text": [
      "smooth loss:0.0410: 100%|███████████████████████████████████████████████████████████████████████████████████████████████████████████████| 35/35 [00:27<00:00,  1.29it/s]\n",
      "smooth loss:0.0769: 100%|█████████████████████████████████████████████████████████████████████████████████████████████████████████████████| 9/9 [00:07<00:00,  1.25it/s]\n"
     ]
    },
    {
     "name": "stdout",
     "output_type": "stream",
     "text": [
      "best threshold: 0.5 best dice of epoch: 0.8306304109562263\n",
      "Mon Feb  6 19:54:28 2023 Fold 0, Epoch 11, lr: 0.0029918, train loss: 0.04140, valid loss: 0.07693, metric: 0.830630.\n",
      "Mon Feb  6 19:54:28 2023 Epoch: 12\n"
     ]
    },
    {
     "name": "stderr",
     "output_type": "stream",
     "text": [
      "smooth loss:0.0388: 100%|███████████████████████████████████████████████████████████████████████████████████████████████████████████████| 35/35 [00:26<00:00,  1.30it/s]\n",
      "smooth loss:0.0735: 100%|█████████████████████████████████████████████████████████████████████████████████████████████████████████████████| 9/9 [00:07<00:00,  1.24it/s]\n"
     ]
    },
    {
     "name": "stdout",
     "output_type": "stream",
     "text": [
      "best threshold: 0.5 best dice of epoch: 0.8397124583841832\n",
      "Mon Feb  6 19:55:02 2023 Fold 0, Epoch 12, lr: 0.0029901, train loss: 0.03885, valid loss: 0.07346, metric: 0.839712.\n",
      "Mon Feb  6 19:55:02 2023 Epoch: 13\n"
     ]
    },
    {
     "name": "stderr",
     "output_type": "stream",
     "text": [
      "smooth loss:0.0376: 100%|███████████████████████████████████████████████████████████████████████████████████████████████████████████████| 35/35 [00:27<00:00,  1.29it/s]\n",
      "smooth loss:0.0720: 100%|█████████████████████████████████████████████████████████████████████████████████████████████████████████████████| 9/9 [00:07<00:00,  1.25it/s]\n"
     ]
    },
    {
     "name": "stdout",
     "output_type": "stream",
     "text": [
      "best threshold: 0.5 best dice of epoch: 0.8492467978304614\n",
      "Mon Feb  6 19:55:36 2023 Fold 0, Epoch 13, lr: 0.0029882, train loss: 0.03674, valid loss: 0.07198, metric: 0.849247.\n",
      "Mon Feb  6 19:55:36 2023 Epoch: 14\n"
     ]
    },
    {
     "name": "stderr",
     "output_type": "stream",
     "text": [
      "smooth loss:0.0420: 100%|███████████████████████████████████████████████████████████████████████████████████████████████████████████████| 35/35 [00:27<00:00,  1.29it/s]\n",
      "smooth loss:0.0732: 100%|█████████████████████████████████████████████████████████████████████████████████████████████████████████████████| 9/9 [00:07<00:00,  1.24it/s]\n"
     ]
    },
    {
     "name": "stdout",
     "output_type": "stream",
     "text": [
      "best threshold: 0.5 best dice of epoch: 0.8482162924366708\n",
      "Mon Feb  6 19:56:11 2023 Fold 0, Epoch 14, lr: 0.0029861, train loss: 0.04085, valid loss: 0.07317, metric: 0.848216.\n",
      "Mon Feb  6 19:56:11 2023 Epoch: 15\n"
     ]
    },
    {
     "name": "stderr",
     "output_type": "stream",
     "text": [
      "smooth loss:0.0357: 100%|███████████████████████████████████████████████████████████████████████████████████████████████████████████████| 35/35 [00:26<00:00,  1.30it/s]\n",
      "smooth loss:0.0739: 100%|█████████████████████████████████████████████████████████████████████████████████████████████████████████████████| 9/9 [00:07<00:00,  1.25it/s]\n"
     ]
    },
    {
     "name": "stdout",
     "output_type": "stream",
     "text": [
      "best threshold: 0.5 best dice of epoch: 0.8373787080019321\n",
      "Mon Feb  6 19:56:45 2023 Fold 0, Epoch 15, lr: 0.0029839, train loss: 0.04027, valid loss: 0.07389, metric: 0.837379.\n",
      "Mon Feb  6 19:56:45 2023 Epoch: 16\n"
     ]
    },
    {
     "name": "stderr",
     "output_type": "stream",
     "text": [
      "smooth loss:0.0459: 100%|███████████████████████████████████████████████████████████████████████████████████████████████████████████████| 35/35 [00:27<00:00,  1.28it/s]\n",
      "smooth loss:0.0727: 100%|█████████████████████████████████████████████████████████████████████████████████████████████████████████████████| 9/9 [00:07<00:00,  1.24it/s]\n"
     ]
    },
    {
     "name": "stdout",
     "output_type": "stream",
     "text": [
      "best threshold: 0.5 best dice of epoch: 0.8409671356839243\n",
      "Mon Feb  6 19:57:19 2023 Fold 0, Epoch 16, lr: 0.0029815, train loss: 0.04406, valid loss: 0.07271, metric: 0.840967.\n",
      "Mon Feb  6 19:57:19 2023 Epoch: 17\n"
     ]
    },
    {
     "name": "stderr",
     "output_type": "stream",
     "text": [
      "smooth loss:0.0393: 100%|███████████████████████████████████████████████████████████████████████████████████████████████████████████████| 35/35 [00:27<00:00,  1.28it/s]\n",
      "smooth loss:0.0757: 100%|█████████████████████████████████████████████████████████████████████████████████████████████████████████████████| 9/9 [00:07<00:00,  1.23it/s]\n"
     ]
    },
    {
     "name": "stdout",
     "output_type": "stream",
     "text": [
      "best threshold: 0.5 best dice of epoch: 0.83674606642808\n",
      "Mon Feb  6 19:57:54 2023 Fold 0, Epoch 17, lr: 0.0029790, train loss: 0.04536, valid loss: 0.07569, metric: 0.836746.\n",
      "Mon Feb  6 19:57:54 2023 Epoch: 18\n"
     ]
    },
    {
     "name": "stderr",
     "output_type": "stream",
     "text": [
      "smooth loss:0.0389: 100%|███████████████████████████████████████████████████████████████████████████████████████████████████████████████| 35/35 [00:27<00:00,  1.30it/s]\n",
      "smooth loss:0.0758: 100%|█████████████████████████████████████████████████████████████████████████████████████████████████████████████████| 9/9 [00:07<00:00,  1.25it/s]\n"
     ]
    },
    {
     "name": "stdout",
     "output_type": "stream",
     "text": [
      "best threshold: 0.5 best dice of epoch: 0.8344229886700849\n",
      "Mon Feb  6 19:58:28 2023 Fold 0, Epoch 18, lr: 0.0029763, train loss: 0.03754, valid loss: 0.07582, metric: 0.834423.\n",
      "Mon Feb  6 19:58:28 2023 Epoch: 19\n"
     ]
    },
    {
     "name": "stderr",
     "output_type": "stream",
     "text": [
      "smooth loss:0.0437: 100%|███████████████████████████████████████████████████████████████████████████████████████████████████████████████| 35/35 [00:27<00:00,  1.29it/s]\n",
      "smooth loss:0.0840: 100%|█████████████████████████████████████████████████████████████████████████████████████████████████████████████████| 9/9 [00:07<00:00,  1.26it/s]\n"
     ]
    },
    {
     "name": "stdout",
     "output_type": "stream",
     "text": [
      "best threshold: 0.5 best dice of epoch: 0.8139878818502614\n",
      "Mon Feb  6 19:59:03 2023 Fold 0, Epoch 19, lr: 0.0029734, train loss: 0.04356, valid loss: 0.08400, metric: 0.813988.\n",
      "Mon Feb  6 19:59:03 2023 Epoch: 20\n"
     ]
    },
    {
     "name": "stderr",
     "output_type": "stream",
     "text": [
      "smooth loss:0.0337: 100%|███████████████████████████████████████████████████████████████████████████████████████████████████████████████| 35/35 [00:28<00:00,  1.24it/s]\n",
      "smooth loss:0.0851: 100%|█████████████████████████████████████████████████████████████████████████████████████████████████████████████████| 9/9 [00:07<00:00,  1.20it/s]\n"
     ]
    },
    {
     "name": "stdout",
     "output_type": "stream",
     "text": [
      "best threshold: 0.5 best dice of epoch: 0.82155174278452\n",
      "Mon Feb  6 19:59:38 2023 Fold 0, Epoch 20, lr: 0.0029704, train loss: 0.03331, valid loss: 0.08512, metric: 0.821552.\n",
      "Mon Feb  6 19:59:38 2023 Epoch: 21\n"
     ]
    },
    {
     "name": "stderr",
     "output_type": "stream",
     "text": [
      "smooth loss:0.0335: 100%|███████████████████████████████████████████████████████████████████████████████████████████████████████████████| 35/35 [00:27<00:00,  1.29it/s]\n",
      "smooth loss:0.0727: 100%|█████████████████████████████████████████████████████████████████████████████████████████████████████████████████| 9/9 [00:07<00:00,  1.24it/s]\n"
     ]
    },
    {
     "name": "stdout",
     "output_type": "stream",
     "text": [
      "best threshold: 0.5 best dice of epoch: 0.8474379223161047\n",
      "Mon Feb  6 20:00:13 2023 Fold 0, Epoch 21, lr: 0.0029672, train loss: 0.03290, valid loss: 0.07274, metric: 0.847438.\n",
      "Mon Feb  6 20:00:13 2023 Epoch: 22\n"
     ]
    },
    {
     "name": "stderr",
     "output_type": "stream",
     "text": [
      "smooth loss:0.0483: 100%|███████████████████████████████████████████████████████████████████████████████████████████████████████████████| 35/35 [00:27<00:00,  1.28it/s]\n",
      "smooth loss:0.0721: 100%|█████████████████████████████████████████████████████████████████████████████████████████████████████████████████| 9/9 [00:07<00:00,  1.27it/s]\n"
     ]
    },
    {
     "name": "stdout",
     "output_type": "stream",
     "text": [
      "best threshold: 0.5 best dice of epoch: 0.8489263869828112\n",
      "Mon Feb  6 20:00:47 2023 Fold 0, Epoch 22, lr: 0.0029639, train loss: 0.04588, valid loss: 0.07212, metric: 0.848926.\n",
      "Mon Feb  6 20:00:47 2023 Epoch: 23\n"
     ]
    },
    {
     "name": "stderr",
     "output_type": "stream",
     "text": [
      "smooth loss:0.0424: 100%|███████████████████████████████████████████████████████████████████████████████████████████████████████████████| 35/35 [00:27<00:00,  1.29it/s]\n",
      "smooth loss:0.1044: 100%|█████████████████████████████████████████████████████████████████████████████████████████████████████████████████| 9/9 [00:07<00:00,  1.26it/s]\n"
     ]
    },
    {
     "name": "stdout",
     "output_type": "stream",
     "text": [
      "best threshold: 0.5 best dice of epoch: 0.7607789016035527\n",
      "Mon Feb  6 20:01:22 2023 Fold 0, Epoch 23, lr: 0.0029604, train loss: 0.04723, valid loss: 0.10439, metric: 0.760779.\n",
      "Mon Feb  6 20:01:22 2023 Epoch: 24\n"
     ]
    },
    {
     "name": "stderr",
     "output_type": "stream",
     "text": [
      "smooth loss:0.0331: 100%|███████████████████████████████████████████████████████████████████████████████████████████████████████████████| 35/35 [00:26<00:00,  1.31it/s]\n",
      "smooth loss:0.0844: 100%|█████████████████████████████████████████████████████████████████████████████████████████████████████████████████| 9/9 [00:07<00:00,  1.27it/s]\n"
     ]
    },
    {
     "name": "stdout",
     "output_type": "stream",
     "text": [
      "best threshold: 0.5 best dice of epoch: 0.8000675649386858\n",
      "Mon Feb  6 20:01:55 2023 Fold 0, Epoch 24, lr: 0.0029567, train loss: 0.03293, valid loss: 0.08442, metric: 0.800068.\n",
      "Mon Feb  6 20:01:55 2023 Epoch: 25\n"
     ]
    },
    {
     "name": "stderr",
     "output_type": "stream",
     "text": [
      "smooth loss:0.0333: 100%|███████████████████████████████████████████████████████████████████████████████████████████████████████████████| 35/35 [00:26<00:00,  1.30it/s]\n",
      "smooth loss:0.0826: 100%|█████████████████████████████████████████████████████████████████████████████████████████████████████████████████| 9/9 [00:07<00:00,  1.25it/s]\n"
     ]
    },
    {
     "name": "stdout",
     "output_type": "stream",
     "text": [
      "best threshold: 0.5 best dice of epoch: 0.7966495558025469\n",
      "Mon Feb  6 20:02:30 2023 Fold 0, Epoch 25, lr: 0.0029529, train loss: 0.03272, valid loss: 0.08263, metric: 0.796650.\n",
      "Mon Feb  6 20:02:30 2023 Epoch: 26\n"
     ]
    },
    {
     "name": "stderr",
     "output_type": "stream",
     "text": [
      "smooth loss:0.0423: 100%|███████████████████████████████████████████████████████████████████████████████████████████████████████████████| 35/35 [00:26<00:00,  1.30it/s]\n",
      "smooth loss:0.0811: 100%|█████████████████████████████████████████████████████████████████████████████████████████████████████████████████| 9/9 [00:07<00:00,  1.25it/s]\n"
     ]
    },
    {
     "name": "stdout",
     "output_type": "stream",
     "text": [
      "best threshold: 0.5 best dice of epoch: 0.819102570975425\n",
      "Mon Feb  6 20:03:04 2023 Fold 0, Epoch 26, lr: 0.0029489, train loss: 0.04062, valid loss: 0.08110, metric: 0.819103.\n",
      "Mon Feb  6 20:03:04 2023 Epoch: 27\n"
     ]
    },
    {
     "name": "stderr",
     "output_type": "stream",
     "text": [
      "smooth loss:0.0406: 100%|███████████████████████████████████████████████████████████████████████████████████████████████████████████████| 35/35 [00:26<00:00,  1.31it/s]\n",
      "smooth loss:0.0951: 100%|█████████████████████████████████████████████████████████████████████████████████████████████████████████████████| 9/9 [00:07<00:00,  1.25it/s]\n"
     ]
    },
    {
     "name": "stdout",
     "output_type": "stream",
     "text": [
      "best threshold: 0.5 best dice of epoch: 0.7721733345311532\n",
      "Mon Feb  6 20:03:38 2023 Fold 0, Epoch 27, lr: 0.0029447, train loss: 0.03966, valid loss: 0.09509, metric: 0.772173.\n",
      "Mon Feb  6 20:03:38 2023 Epoch: 28\n"
     ]
    },
    {
     "name": "stderr",
     "output_type": "stream",
     "text": [
      "smooth loss:0.0677: 100%|███████████████████████████████████████████████████████████████████████████████████████████████████████████████| 35/35 [00:26<00:00,  1.30it/s]\n",
      "smooth loss:0.2170: 100%|█████████████████████████████████████████████████████████████████████████████████████████████████████████████████| 9/9 [00:07<00:00,  1.25it/s]\n"
     ]
    },
    {
     "name": "stdout",
     "output_type": "stream",
     "text": [
      "best threshold: 0.5 best dice of epoch: 0.5790047087658606\n",
      "Mon Feb  6 20:04:12 2023 Fold 0, Epoch 28, lr: 0.0029404, train loss: 0.06497, valid loss: 0.21698, metric: 0.579005.\n",
      "Mon Feb  6 20:04:12 2023 Epoch: 29\n"
     ]
    },
    {
     "name": "stderr",
     "output_type": "stream",
     "text": [
      "smooth loss:0.0841: 100%|███████████████████████████████████████████████████████████████████████████████████████████████████████████████| 35/35 [00:26<00:00,  1.30it/s]\n",
      "smooth loss:0.1918: 100%|█████████████████████████████████████████████████████████████████████████████████████████████████████████████████| 9/9 [00:07<00:00,  1.25it/s]\n"
     ]
    },
    {
     "name": "stdout",
     "output_type": "stream",
     "text": [
      "best threshold: 0.5 best dice of epoch: 0.5822319852662365\n",
      "Mon Feb  6 20:04:46 2023 Fold 0, Epoch 29, lr: 0.0029360, train loss: 0.08138, valid loss: 0.19178, metric: 0.582232.\n",
      "Mon Feb  6 20:04:46 2023 Epoch: 30\n"
     ]
    },
    {
     "name": "stderr",
     "output_type": "stream",
     "text": [
      "smooth loss:0.0863: 100%|███████████████████████████████████████████████████████████████████████████████████████████████████████████████| 35/35 [00:27<00:00,  1.29it/s]\n",
      "smooth loss:0.1631: 100%|█████████████████████████████████████████████████████████████████████████████████████████████████████████████████| 9/9 [00:07<00:00,  1.25it/s]\n"
     ]
    },
    {
     "name": "stdout",
     "output_type": "stream",
     "text": [
      "best threshold: 0.5 best dice of epoch: 0.6486314458816891\n",
      "Mon Feb  6 20:05:20 2023 Fold 0, Epoch 30, lr: 0.0029314, train loss: 0.08933, valid loss: 0.16305, metric: 0.648631.\n",
      "Mon Feb  6 20:05:20 2023 Epoch: 31\n"
     ]
    },
    {
     "name": "stderr",
     "output_type": "stream",
     "text": [
      "smooth loss:0.0558: 100%|███████████████████████████████████████████████████████████████████████████████████████████████████████████████| 35/35 [00:27<00:00,  1.29it/s]\n",
      "smooth loss:0.1270: 100%|█████████████████████████████████████████████████████████████████████████████████████████████████████████████████████████| 9/9 [00:07<00:00,  1.25it/s]\n"
     ]
    },
    {
     "name": "stdout",
     "output_type": "stream",
     "text": [
      "best threshold: 0.5 best dice of epoch: 0.7267235630311826\n",
      "Mon Feb  6 20:05:55 2023 Fold 0, Epoch 31, lr: 0.0029266, train loss: 0.05569, valid loss: 0.12695, metric: 0.726724.\n",
      "Mon Feb  6 20:05:55 2023 Epoch: 32\n"
     ]
    },
    {
     "name": "stderr",
     "output_type": "stream",
     "text": [
      "smooth loss:0.0581: 100%|███████████████████████████████████████████████████████████████████████████████████████████████████████████████████████| 35/35 [00:27<00:00,  1.30it/s]\n",
      "smooth loss:0.1081: 100%|█████████████████████████████████████████████████████████████████████████████████████████████████████████████████████████| 9/9 [00:07<00:00,  1.26it/s]\n"
     ]
    },
    {
     "name": "stdout",
     "output_type": "stream",
     "text": [
      "best threshold: 0.5 best dice of epoch: 0.7631858656658747\n",
      "Mon Feb  6 20:06:29 2023 Fold 0, Epoch 32, lr: 0.0029217, train loss: 0.06084, valid loss: 0.10810, metric: 0.763186.\n",
      "Mon Feb  6 20:06:29 2023 Epoch: 33\n"
     ]
    },
    {
     "name": "stderr",
     "output_type": "stream",
     "text": [
      "smooth loss:0.0451: 100%|███████████████████████████████████████████████████████████████████████████████████████████████████████████████████████| 35/35 [00:27<00:00,  1.29it/s]\n",
      "smooth loss:0.0857: 100%|█████████████████████████████████████████████████████████████████████████████████████████████████████████████████████████| 9/9 [00:07<00:00,  1.26it/s]\n"
     ]
    },
    {
     "name": "stdout",
     "output_type": "stream",
     "text": [
      "best threshold: 0.5 best dice of epoch: 0.7996369986115107\n",
      "Mon Feb  6 20:07:03 2023 Fold 0, Epoch 33, lr: 0.0029166, train loss: 0.04522, valid loss: 0.08573, metric: 0.799637.\n",
      "Mon Feb  6 20:07:03 2023 Epoch: 34\n"
     ]
    },
    {
     "name": "stderr",
     "output_type": "stream",
     "text": [
      "smooth loss:0.0385: 100%|███████████████████████████████████████████████████████████████████████████████████████████████████████████████████████| 35/35 [00:26<00:00,  1.30it/s]\n",
      "smooth loss:0.0859: 100%|█████████████████████████████████████████████████████████████████████████████████████████████████████████████████████████| 9/9 [00:07<00:00,  1.27it/s]\n"
     ]
    },
    {
     "name": "stdout",
     "output_type": "stream",
     "text": [
      "best threshold: 0.5 best dice of epoch: 0.8093406637060075\n",
      "Mon Feb  6 20:07:37 2023 Fold 0, Epoch 34, lr: 0.0029113, train loss: 0.03802, valid loss: 0.08592, metric: 0.809341.\n",
      "Mon Feb  6 20:07:37 2023 Epoch: 35\n"
     ]
    },
    {
     "name": "stderr",
     "output_type": "stream",
     "text": [
      "smooth loss:0.0424: 100%|███████████████████████████████████████████████████████████████████████████████████████████████████████████████████████| 35/35 [00:27<00:00,  1.29it/s]\n",
      "smooth loss:0.0879: 100%|█████████████████████████████████████████████████████████████████████████████████████████████████████████████████████████| 9/9 [00:07<00:00,  1.25it/s]\n"
     ]
    },
    {
     "name": "stdout",
     "output_type": "stream",
     "text": [
      "best threshold: 0.5 best dice of epoch: 0.8059073057082119\n",
      "Mon Feb  6 20:08:12 2023 Fold 0, Epoch 35, lr: 0.0029059, train loss: 0.04083, valid loss: 0.08794, metric: 0.805907.\n",
      "Mon Feb  6 20:08:12 2023 Epoch: 36\n"
     ]
    },
    {
     "name": "stderr",
     "output_type": "stream",
     "text": [
      "smooth loss:0.0466: 100%|███████████████████████████████████████████████████████████████████████████████████████████████████████████████████████| 35/35 [00:27<00:00,  1.29it/s]\n",
      "smooth loss:0.0907: 100%|█████████████████████████████████████████████████████████████████████████████████████████████████████████████████████████| 9/9 [00:07<00:00,  1.26it/s]\n"
     ]
    },
    {
     "name": "stdout",
     "output_type": "stream",
     "text": [
      "best threshold: 0.5 best dice of epoch: 0.7995513414087342\n",
      "Mon Feb  6 20:08:46 2023 Fold 0, Epoch 36, lr: 0.0029004, train loss: 0.04661, valid loss: 0.09069, metric: 0.799551.\n",
      "Mon Feb  6 20:08:46 2023 Epoch: 37\n"
     ]
    },
    {
     "name": "stderr",
     "output_type": "stream",
     "text": [
      "smooth loss:0.0374: 100%|███████████████████████████████████████████████████████████████████████████████████████████████████████████████████████| 35/35 [00:26<00:00,  1.30it/s]\n",
      "smooth loss:0.0856: 100%|█████████████████████████████████████████████████████████████████████████████████████████████████████████████████████████| 9/9 [00:07<00:00,  1.25it/s]\n"
     ]
    },
    {
     "name": "stdout",
     "output_type": "stream",
     "text": [
      "best threshold: 0.5 best dice of epoch: 0.8101850734301091\n",
      "Mon Feb  6 20:09:20 2023 Fold 0, Epoch 37, lr: 0.0028947, train loss: 0.03722, valid loss: 0.08560, metric: 0.810185.\n",
      "Mon Feb  6 20:09:20 2023 Epoch: 38\n"
     ]
    },
    {
     "name": "stderr",
     "output_type": "stream",
     "text": [
      "smooth loss:0.0404: 100%|███████████████████████████████████████████████████████████████████████████████████████████████████████████████████████| 35/35 [00:26<00:00,  1.30it/s]\n",
      "smooth loss:0.0936: 100%|█████████████████████████████████████████████████████████████████████████████████████████████████████████████████████████| 9/9 [00:07<00:00,  1.25it/s]\n"
     ]
    },
    {
     "name": "stdout",
     "output_type": "stream",
     "text": [
      "best threshold: 0.5 best dice of epoch: 0.7929843507633901\n",
      "Mon Feb  6 20:09:54 2023 Fold 0, Epoch 38, lr: 0.0028888, train loss: 0.03936, valid loss: 0.09359, metric: 0.792984.\n",
      "Mon Feb  6 20:09:54 2023 Epoch: 39\n"
     ]
    },
    {
     "name": "stderr",
     "output_type": "stream",
     "text": [
      "smooth loss:0.0419: 100%|███████████████████████████████████████████████████████████████████████████████████████████████████████████████████████| 35/35 [00:27<00:00,  1.30it/s]\n",
      "smooth loss:0.0908: 100%|█████████████████████████████████████████████████████████████████████████████████████████████████████████████████████████| 9/9 [00:07<00:00,  1.26it/s]\n"
     ]
    },
    {
     "name": "stdout",
     "output_type": "stream",
     "text": [
      "best threshold: 0.5 best dice of epoch: 0.7988601056279454\n",
      "Mon Feb  6 20:10:28 2023 Fold 0, Epoch 39, lr: 0.0028828, train loss: 0.04049, valid loss: 0.09082, metric: 0.798860.\n",
      "Mon Feb  6 20:10:28 2023 Epoch: 40\n"
     ]
    },
    {
     "name": "stderr",
     "output_type": "stream",
     "text": [
      "smooth loss:0.0376: 100%|███████████████████████████████████████████████████████████████████████████████████████████████████████████████████████| 35/35 [00:26<00:00,  1.30it/s]\n",
      "smooth loss:0.0883: 100%|█████████████████████████████████████████████████████████████████████████████████████████████████████████████████████████| 9/9 [00:07<00:00,  1.28it/s]\n"
     ]
    },
    {
     "name": "stdout",
     "output_type": "stream",
     "text": [
      "best threshold: 0.5 best dice of epoch: 0.8062026401975149\n",
      "Mon Feb  6 20:11:02 2023 Fold 0, Epoch 40, lr: 0.0028766, train loss: 0.03635, valid loss: 0.08830, metric: 0.806203.\n",
      "Mon Feb  6 20:11:02 2023 Epoch: 41\n"
     ]
    },
    {
     "name": "stderr",
     "output_type": "stream",
     "text": [
      "smooth loss:0.0312: 100%|███████████████████████████████████████████████████████████████████████████████████████████████████████████████████████| 35/35 [00:26<00:00,  1.31it/s]\n",
      "smooth loss:0.0887: 100%|█████████████████████████████████████████████████████████████████████████████████████████████████████████████████████████| 9/9 [00:07<00:00,  1.26it/s]\n"
     ]
    },
    {
     "name": "stdout",
     "output_type": "stream",
     "text": [
      "best threshold: 0.5 best dice of epoch: 0.8059635589123674\n",
      "Mon Feb  6 20:11:36 2023 Fold 0, Epoch 41, lr: 0.0028703, train loss: 0.03078, valid loss: 0.08868, metric: 0.805964.\n",
      "Mon Feb  6 20:11:36 2023 Epoch: 42\n"
     ]
    },
    {
     "name": "stderr",
     "output_type": "stream",
     "text": [
      "smooth loss:0.0543: 100%|███████████████████████████████████████████████████████████████████████████████████████████████████████████████████████| 35/35 [00:27<00:00,  1.29it/s]\n",
      "smooth loss:0.0974: 100%|█████████████████████████████████████████████████████████████████████████████████████████████████████████████████████████| 9/9 [00:07<00:00,  1.25it/s]\n"
     ]
    },
    {
     "name": "stdout",
     "output_type": "stream",
     "text": [
      "best threshold: 0.5 best dice of epoch: 0.7899446467224412\n",
      "Mon Feb  6 20:12:11 2023 Fold 0, Epoch 42, lr: 0.0028639, train loss: 0.05755, valid loss: 0.09741, metric: 0.789945.\n",
      "Mon Feb  6 20:12:11 2023 Epoch: 43\n"
     ]
    },
    {
     "name": "stderr",
     "output_type": "stream",
     "text": [
      "smooth loss:0.0446: 100%|███████████████████████████████████████████████████████████████████████████████████████████████████████████████████████| 35/35 [00:26<00:00,  1.30it/s]\n",
      "smooth loss:0.1029: 100%|█████████████████████████████████████████████████████████████████████████████████████████████████████████████████████████| 9/9 [00:07<00:00,  1.26it/s]\n"
     ]
    },
    {
     "name": "stdout",
     "output_type": "stream",
     "text": [
      "best threshold: 0.5 best dice of epoch: 0.7851307165494666\n",
      "Mon Feb  6 20:12:45 2023 Fold 0, Epoch 43, lr: 0.0028572, train loss: 0.04296, valid loss: 0.10285, metric: 0.785131.\n",
      "Mon Feb  6 20:12:45 2023 Epoch: 44\n"
     ]
    },
    {
     "name": "stderr",
     "output_type": "stream",
     "text": [
      "smooth loss:0.0323: 100%|███████████████████████████████████████████████████████████████████████████████████████████████████████████████████████| 35/35 [00:26<00:00,  1.30it/s]\n",
      "smooth loss:0.1002: 100%|█████████████████████████████████████████████████████████████████████████████████████████████████████████████████████████| 9/9 [00:07<00:00,  1.26it/s]\n"
     ]
    },
    {
     "name": "stdout",
     "output_type": "stream",
     "text": [
      "best threshold: 0.5 best dice of epoch: 0.7835290604811374\n",
      "Mon Feb  6 20:13:19 2023 Fold 0, Epoch 44, lr: 0.0028505, train loss: 0.03225, valid loss: 0.10018, metric: 0.783529.\n",
      "Mon Feb  6 20:13:19 2023 Epoch: 45\n"
     ]
    },
    {
     "name": "stderr",
     "output_type": "stream",
     "text": [
      "smooth loss:0.0337: 100%|███████████████████████████████████████████████████████████████████████████████████████████████████████████████████████| 35/35 [00:26<00:00,  1.30it/s]\n",
      "smooth loss:0.0984: 100%|█████████████████████████████████████████████████████████████████████████████████████████████████████████████████████████| 9/9 [00:07<00:00,  1.26it/s]\n"
     ]
    },
    {
     "name": "stdout",
     "output_type": "stream",
     "text": [
      "best threshold: 0.5 best dice of epoch: 0.7861886326731031\n",
      "Mon Feb  6 20:13:53 2023 Fold 0, Epoch 45, lr: 0.0028436, train loss: 0.03290, valid loss: 0.09844, metric: 0.786189.\n",
      "Mon Feb  6 20:13:53 2023 Epoch: 46\n"
     ]
    },
    {
     "name": "stderr",
     "output_type": "stream",
     "text": [
      "smooth loss:0.0491: 100%|███████████████████████████████████████████████████████████████████████████████████████████████████████████████████████| 35/35 [00:26<00:00,  1.31it/s]\n",
      "smooth loss:0.0996: 100%|█████████████████████████████████████████████████████████████████████████████████████████████████████████████████████████| 9/9 [00:07<00:00,  1.25it/s]\n"
     ]
    },
    {
     "name": "stdout",
     "output_type": "stream",
     "text": [
      "best threshold: 0.5 best dice of epoch: 0.7832327425100559\n",
      "Mon Feb  6 20:14:27 2023 Fold 0, Epoch 46, lr: 0.0028365, train loss: 0.04643, valid loss: 0.09959, metric: 0.783233.\n",
      "Mon Feb  6 20:14:27 2023 Epoch: 47\n"
     ]
    },
    {
     "name": "stderr",
     "output_type": "stream",
     "text": [
      "smooth loss:0.0441: 100%|███████████████████████████████████████████████████████████████████████████████████████████████████████████████████████| 35/35 [00:26<00:00,  1.30it/s]\n",
      "smooth loss:0.0906: 100%|█████████████████████████████████████████████████████████████████████████████████████████████████████████████████████████| 9/9 [00:07<00:00,  1.26it/s]\n"
     ]
    },
    {
     "name": "stdout",
     "output_type": "stream",
     "text": [
      "best threshold: 0.5 best dice of epoch: 0.8053450951431276\n",
      "Mon Feb  6 20:15:01 2023 Fold 0, Epoch 47, lr: 0.0028293, train loss: 0.04273, valid loss: 0.09057, metric: 0.805345.\n",
      "Mon Feb  6 20:15:01 2023 Epoch: 48\n"
     ]
    },
    {
     "name": "stderr",
     "output_type": "stream",
     "text": [
      "smooth loss:0.0583: 100%|███████████████████████████████████████████████████████████████████████████████████████████████████████████████████████| 35/35 [00:26<00:00,  1.30it/s]\n",
      "smooth loss:0.0974: 100%|█████████████████████████████████████████████████████████████████████████████████████████████████████████████████████████| 9/9 [00:07<00:00,  1.25it/s]\n"
     ]
    },
    {
     "name": "stdout",
     "output_type": "stream",
     "text": [
      "best threshold: 0.5 best dice of epoch: 0.7797108410672088\n",
      "Mon Feb  6 20:15:35 2023 Fold 0, Epoch 48, lr: 0.0028220, train loss: 0.05405, valid loss: 0.09742, metric: 0.779711.\n",
      "Mon Feb  6 20:15:35 2023 Epoch: 49\n"
     ]
    },
    {
     "name": "stderr",
     "output_type": "stream",
     "text": [
      "smooth loss:0.0371: 100%|███████████████████████████████████████████████████████████████████████████████████████████████████████████████████████| 35/35 [00:26<00:00,  1.30it/s]\n",
      "smooth loss:0.0982: 100%|█████████████████████████████████████████████████████████████████████████████████████████████████████████████████████████| 9/9 [00:07<00:00,  1.26it/s]\n"
     ]
    },
    {
     "name": "stdout",
     "output_type": "stream",
     "text": [
      "best threshold: 0.5 best dice of epoch: 0.7956888506582473\n",
      "Mon Feb  6 20:16:09 2023 Fold 0, Epoch 49, lr: 0.0028145, train loss: 0.03600, valid loss: 0.09819, metric: 0.795689.\n",
      "Mon Feb  6 20:16:09 2023 Epoch: 50\n"
     ]
    },
    {
     "name": "stderr",
     "output_type": "stream",
     "text": [
      "smooth loss:0.0417: 100%|███████████████████████████████████████████████████████████████████████████████████████████████████████████████████████| 35/35 [00:27<00:00,  1.29it/s]\n",
      "smooth loss:0.0909: 100%|█████████████████████████████████████████████████████████████████████████████████████████████████████████████████████████| 9/9 [00:07<00:00,  1.26it/s]\n"
     ]
    },
    {
     "name": "stdout",
     "output_type": "stream",
     "text": [
      "best threshold: 0.5 best dice of epoch: 0.7918077699853029\n",
      "Mon Feb  6 20:16:43 2023 Fold 0, Epoch 50, lr: 0.0028068, train loss: 0.04092, valid loss: 0.09091, metric: 0.791808.\n",
      "Mon Feb  6 20:16:43 2023 Epoch: 51\n"
     ]
    },
    {
     "name": "stderr",
     "output_type": "stream",
     "text": [
      "smooth loss:0.0449: 100%|███████████████████████████████████████████████████████████████████████████████████████████████████████████████████████| 35/35 [00:26<00:00,  1.30it/s]\n",
      "smooth loss:0.0906: 100%|█████████████████████████████████████████████████████████████████████████████████████████████████████████████████████████| 9/9 [00:07<00:00,  1.26it/s]\n"
     ]
    },
    {
     "name": "stdout",
     "output_type": "stream",
     "text": [
      "best threshold: 0.5 best dice of epoch: 0.8011915792834076\n",
      "Mon Feb  6 20:17:18 2023 Fold 0, Epoch 51, lr: 0.0027990, train loss: 0.04283, valid loss: 0.09056, metric: 0.801192.\n",
      "Mon Feb  6 20:17:18 2023 Epoch: 52\n"
     ]
    },
    {
     "name": "stderr",
     "output_type": "stream",
     "text": [
      "smooth loss:0.0440: 100%|███████████████████████████████████████████████████████████████████████████████████████████████████████████████████████| 35/35 [00:26<00:00,  1.30it/s]\n",
      "smooth loss:0.0902: 100%|█████████████████████████████████████████████████████████████████████████████████████████████████████████████████████████| 9/9 [00:07<00:00,  1.24it/s]\n"
     ]
    },
    {
     "name": "stdout",
     "output_type": "stream",
     "text": [
      "best threshold: 0.5 best dice of epoch: 0.7898371503576577\n",
      "Mon Feb  6 20:17:52 2023 Fold 0, Epoch 52, lr: 0.0027911, train loss: 0.04179, valid loss: 0.09017, metric: 0.789837.\n",
      "Mon Feb  6 20:17:52 2023 Epoch: 53\n"
     ]
    },
    {
     "name": "stderr",
     "output_type": "stream",
     "text": [
      "smooth loss:0.0588: 100%|███████████████████████████████████████████████████████████████████████████████████████████████████████████████████████| 35/35 [00:26<00:00,  1.30it/s]\n",
      "smooth loss:0.0813: 100%|█████████████████████████████████████████████████████████████████████████████████████████████████████████████████████████| 9/9 [00:07<00:00,  1.26it/s]\n"
     ]
    },
    {
     "name": "stdout",
     "output_type": "stream",
     "text": [
      "best threshold: 0.5 best dice of epoch: 0.8269095729942718\n",
      "Mon Feb  6 20:18:26 2023 Fold 0, Epoch 53, lr: 0.0027830, train loss: 0.05444, valid loss: 0.08129, metric: 0.826910.\n",
      "Mon Feb  6 20:18:26 2023 Epoch: 54\n"
     ]
    },
    {
     "name": "stderr",
     "output_type": "stream",
     "text": [
      "smooth loss:0.0536: 100%|███████████████████████████████████████████████████████████████████████████████████████████████████████████████████████| 35/35 [00:26<00:00,  1.30it/s]\n",
      "smooth loss:0.1103: 100%|█████████████████████████████████████████████████████████████████████████████████████████████████████████████████████████| 9/9 [00:07<00:00,  1.27it/s]\n"
     ]
    },
    {
     "name": "stdout",
     "output_type": "stream",
     "text": [
      "best threshold: 0.5 best dice of epoch: 0.7531174905251308\n",
      "Mon Feb  6 20:19:00 2023 Fold 0, Epoch 54, lr: 0.0027748, train loss: 0.04987, valid loss: 0.11028, metric: 0.753117.\n",
      "Mon Feb  6 20:19:00 2023 Epoch: 55\n"
     ]
    },
    {
     "name": "stderr",
     "output_type": "stream",
     "text": [
      "smooth loss:0.0346: 100%|███████████████████████████████████████████████████████████████████████████████████████████████████████████████████████| 35/35 [00:26<00:00,  1.31it/s]\n",
      "smooth loss:0.0984: 100%|█████████████████████████████████████████████████████████████████████████████████████████████████████████████████████████| 9/9 [00:07<00:00,  1.27it/s]\n"
     ]
    },
    {
     "name": "stdout",
     "output_type": "stream",
     "text": [
      "best threshold: 0.5 best dice of epoch: 0.7927187510407017\n",
      "Mon Feb  6 20:19:34 2023 Fold 0, Epoch 55, lr: 0.0027665, train loss: 0.03490, valid loss: 0.09835, metric: 0.792719.\n",
      "Mon Feb  6 20:19:34 2023 Epoch: 56\n"
     ]
    },
    {
     "name": "stderr",
     "output_type": "stream",
     "text": [
      "smooth loss:0.0328: 100%|███████████████████████████████████████████████████████████████████████████████████████████████████████████████████████| 35/35 [00:27<00:00,  1.29it/s]\n",
      "smooth loss:0.0994: 100%|█████████████████████████████████████████████████████████████████████████████████████████████████████████████████████████| 9/9 [00:07<00:00,  1.25it/s]\n"
     ]
    },
    {
     "name": "stdout",
     "output_type": "stream",
     "text": [
      "best threshold: 0.5 best dice of epoch: 0.7879591576254602\n",
      "Mon Feb  6 20:20:08 2023 Fold 0, Epoch 56, lr: 0.0027580, train loss: 0.03206, valid loss: 0.09939, metric: 0.787959.\n",
      "Mon Feb  6 20:20:08 2023 Epoch: 57\n"
     ]
    },
    {
     "name": "stderr",
     "output_type": "stream",
     "text": [
      "smooth loss:0.0335: 100%|███████████████████████████████████████████████████████████████████████████████████████████████████████████████████████| 35/35 [00:26<00:00,  1.30it/s]\n",
      "smooth loss:0.0980: 100%|█████████████████████████████████████████████████████████████████████████████████████████████████████████████████████████| 9/9 [00:07<00:00,  1.28it/s]\n"
     ]
    },
    {
     "name": "stdout",
     "output_type": "stream",
     "text": [
      "best threshold: 0.5 best dice of epoch: 0.8016587157639928\n",
      "Mon Feb  6 20:20:42 2023 Fold 0, Epoch 57, lr: 0.0027494, train loss: 0.03276, valid loss: 0.09801, metric: 0.801659.\n",
      "Mon Feb  6 20:20:42 2023 Epoch: 58\n"
     ]
    },
    {
     "name": "stderr",
     "output_type": "stream",
     "text": [
      "smooth loss:0.0383: 100%|███████████████████████████████████████████████████████████████████████████████████████████████████████████████████████| 35/35 [00:27<00:00,  1.29it/s]\n",
      "smooth loss:0.0903: 100%|█████████████████████████████████████████████████████████████████████████████████████████████████████████████████████████| 9/9 [00:07<00:00,  1.26it/s]\n"
     ]
    },
    {
     "name": "stdout",
     "output_type": "stream",
     "text": [
      "best threshold: 0.5 best dice of epoch: 0.7982804312100378\n",
      "Mon Feb  6 20:21:16 2023 Fold 0, Epoch 58, lr: 0.0027406, train loss: 0.03686, valid loss: 0.09026, metric: 0.798280.\n",
      "Mon Feb  6 20:21:16 2023 Epoch: 59\n"
     ]
    },
    {
     "name": "stderr",
     "output_type": "stream",
     "text": [
      "smooth loss:0.0406: 100%|███████████████████████████████████████████████████████████████████████████████████████████████████████████████████████| 35/35 [00:26<00:00,  1.30it/s]\n",
      "smooth loss:0.0971: 100%|█████████████████████████████████████████████████████████████████████████████████████████████████████████████████████████| 9/9 [00:07<00:00,  1.25it/s]\n"
     ]
    },
    {
     "name": "stdout",
     "output_type": "stream",
     "text": [
      "best threshold: 0.5 best dice of epoch: 0.7940700183546744\n",
      "Mon Feb  6 20:21:50 2023 Fold 0, Epoch 59, lr: 0.0027317, train loss: 0.03894, valid loss: 0.09708, metric: 0.794070.\n",
      "Mon Feb  6 20:21:50 2023 Epoch: 60\n"
     ]
    },
    {
     "name": "stderr",
     "output_type": "stream",
     "text": [
      "smooth loss:0.0513: 100%|███████████████████████████████████████████████████████████████████████████████████████████████████████████████████████| 35/35 [00:26<00:00,  1.30it/s]\n",
      "smooth loss:0.0948: 100%|█████████████████████████████████████████████████████████████████████████████████████████████████████████████████████████| 9/9 [00:07<00:00,  1.26it/s]\n"
     ]
    },
    {
     "name": "stdout",
     "output_type": "stream",
     "text": [
      "best threshold: 0.5 best dice of epoch: 0.7927210326375667\n",
      "Mon Feb  6 20:22:25 2023 Fold 0, Epoch 60, lr: 0.0027227, train loss: 0.04823, valid loss: 0.09482, metric: 0.792721.\n",
      "Mon Feb  6 20:22:25 2023 Epoch: 61\n"
     ]
    },
    {
     "name": "stderr",
     "output_type": "stream",
     "text": [
      "smooth loss:0.0368: 100%|███████████████████████████████████████████████████████████████████████████████████████████████████████████████████████| 35/35 [00:26<00:00,  1.30it/s]\n",
      "smooth loss:0.0923: 100%|█████████████████████████████████████████████████████████████████████████████████████████████████████████████████████████| 9/9 [00:07<00:00,  1.25it/s]\n"
     ]
    },
    {
     "name": "stdout",
     "output_type": "stream",
     "text": [
      "best threshold: 0.5 best dice of epoch: 0.7986588601669072\n",
      "Mon Feb  6 20:22:59 2023 Fold 0, Epoch 61, lr: 0.0027135, train loss: 0.03840, valid loss: 0.09235, metric: 0.798659.\n",
      "Mon Feb  6 20:22:59 2023 Epoch: 62\n"
     ]
    },
    {
     "name": "stderr",
     "output_type": "stream",
     "text": [
      "smooth loss:0.0366: 100%|███████████████████████████████████████████████████████████████████████████████████████████████████████████████████████| 35/35 [00:27<00:00,  1.30it/s]\n",
      "smooth loss:0.0938: 100%|█████████████████████████████████████████████████████████████████████████████████████████████████████████████████████████| 9/9 [00:07<00:00,  1.25it/s]\n"
     ]
    },
    {
     "name": "stdout",
     "output_type": "stream",
     "text": [
      "best threshold: 0.5 best dice of epoch: 0.7793919139783211\n",
      "Mon Feb  6 20:23:33 2023 Fold 0, Epoch 62, lr: 0.0027042, train loss: 0.04776, valid loss: 0.09376, metric: 0.779392.\n",
      "Mon Feb  6 20:23:33 2023 Epoch: 63\n"
     ]
    },
    {
     "name": "stderr",
     "output_type": "stream",
     "text": [
      "smooth loss:0.0558: 100%|███████████████████████████████████████████████████████████████████████████████████████████████████████████████████████| 35/35 [00:27<00:00,  1.29it/s]\n",
      "smooth loss:0.1714: 100%|█████████████████████████████████████████████████████████████████████████████████████████████████████████████████| 9/9 [00:07<00:00,  1.26it/s]\n"
     ]
    },
    {
     "name": "stdout",
     "output_type": "stream",
     "text": [
      "best threshold: 0.5 best dice of epoch: 0.6056114054931372\n",
      "Mon Feb  6 20:24:07 2023 Fold 0, Epoch 63, lr: 0.0026948, train loss: 0.05161, valid loss: 0.17139, metric: 0.605611.\n",
      "Mon Feb  6 20:24:07 2023 Epoch: 64\n"
     ]
    },
    {
     "name": "stderr",
     "output_type": "stream",
     "text": [
      "smooth loss:0.0598: 100%|███████████████████████████████████████████████████████████████████████████████████████████████████████████████| 35/35 [00:26<00:00,  1.30it/s]\n",
      "smooth loss:0.0993: 100%|█████████████████████████████████████████████████████████████████████████████████████████████████████████████████| 9/9 [00:07<00:00,  1.26it/s]\n"
     ]
    },
    {
     "name": "stdout",
     "output_type": "stream",
     "text": [
      "best threshold: 0.5 best dice of epoch: 0.7919363987550067\n",
      "Mon Feb  6 20:24:41 2023 Fold 0, Epoch 64, lr: 0.0026852, train loss: 0.05914, valid loss: 0.09932, metric: 0.791936.\n",
      "Mon Feb  6 20:24:41 2023 Epoch: 65\n"
     ]
    },
    {
     "name": "stderr",
     "output_type": "stream",
     "text": [
      "smooth loss:0.0435: 100%|███████████████████████████████████████████████████████████████████████████████████████████████████████████████| 35/35 [00:26<00:00,  1.30it/s]\n",
      "smooth loss:0.1028: 100%|█████████████████████████████████████████████████████████████████████████████████████████████████████████████████| 9/9 [00:07<00:00,  1.26it/s]\n"
     ]
    },
    {
     "name": "stdout",
     "output_type": "stream",
     "text": [
      "best threshold: 0.5 best dice of epoch: 0.771716535856696\n",
      "Mon Feb  6 20:25:16 2023 Fold 0, Epoch 65, lr: 0.0026755, train loss: 0.04511, valid loss: 0.10275, metric: 0.771717.\n",
      "Mon Feb  6 20:25:16 2023 Epoch: 66\n"
     ]
    },
    {
     "name": "stderr",
     "output_type": "stream",
     "text": [
      "smooth loss:0.0460: 100%|███████████████████████████████████████████████████████████████████████████████████████████████████████████████| 35/35 [00:27<00:00,  1.29it/s]\n",
      "smooth loss:0.1240: 100%|█████████████████████████████████████████████████████████████████████████████████████████████████████████████████| 9/9 [00:07<00:00,  1.25it/s]\n"
     ]
    },
    {
     "name": "stdout",
     "output_type": "stream",
     "text": [
      "best threshold: 0.5 best dice of epoch: 0.7283515711837154\n",
      "Mon Feb  6 20:25:50 2023 Fold 0, Epoch 66, lr: 0.0026657, train loss: 0.04445, valid loss: 0.12397, metric: 0.728352.\n",
      "Mon Feb  6 20:25:50 2023 Epoch: 67\n"
     ]
    },
    {
     "name": "stderr",
     "output_type": "stream",
     "text": [
      "smooth loss:0.0508: 100%|███████████████████████████████████████████████████████████████████████████████████████████████████████████████| 35/35 [00:27<00:00,  1.29it/s]\n",
      "smooth loss:0.1037: 100%|█████████████████████████████████████████████████████████████████████████████████████████████████████████████████| 9/9 [00:07<00:00,  1.26it/s]\n"
     ]
    },
    {
     "name": "stdout",
     "output_type": "stream",
     "text": [
      "best threshold: 0.5 best dice of epoch: 0.7745168893125493\n",
      "Mon Feb  6 20:26:24 2023 Fold 0, Epoch 67, lr: 0.0026558, train loss: 0.05360, valid loss: 0.10366, metric: 0.774517.\n",
      "Mon Feb  6 20:26:24 2023 Epoch: 68\n"
     ]
    },
    {
     "name": "stderr",
     "output_type": "stream",
     "text": [
      "smooth loss:0.0352: 100%|███████████████████████████████████████████████████████████████████████████████████████████████████████████████| 35/35 [00:26<00:00,  1.30it/s]\n",
      "smooth loss:0.0924: 100%|█████████████████████████████████████████████████████████████████████████████████████████████████████████████████| 9/9 [00:07<00:00,  1.26it/s]\n"
     ]
    },
    {
     "name": "stdout",
     "output_type": "stream",
     "text": [
      "best threshold: 0.5 best dice of epoch: 0.7875229913291355\n",
      "Mon Feb  6 20:26:58 2023 Fold 0, Epoch 68, lr: 0.0026457, train loss: 0.03672, valid loss: 0.09242, metric: 0.787523.\n",
      "Mon Feb  6 20:26:58 2023 Epoch: 69\n"
     ]
    },
    {
     "name": "stderr",
     "output_type": "stream",
     "text": [
      "smooth loss:0.0479: 100%|███████████████████████████████████████████████████████████████████████████████████████████████████████████████| 35/35 [00:27<00:00,  1.29it/s]\n",
      "smooth loss:0.0754: 100%|█████████████████████████████████████████████████████████████████████████████████████████████████████████████████| 9/9 [00:07<00:00,  1.26it/s]\n"
     ]
    },
    {
     "name": "stdout",
     "output_type": "stream",
     "text": [
      "best threshold: 0.5 best dice of epoch: 0.8407715758195784\n",
      "Mon Feb  6 20:27:32 2023 Fold 0, Epoch 69, lr: 0.0026355, train loss: 0.04567, valid loss: 0.07539, metric: 0.840772.\n",
      "Mon Feb  6 20:27:32 2023 Epoch: 70\n"
     ]
    },
    {
     "name": "stderr",
     "output_type": "stream",
     "text": [
      "smooth loss:0.0443: 100%|███████████████████████████████████████████████████████████████████████████████████████████████████████████████| 35/35 [00:26<00:00,  1.30it/s]\n",
      "smooth loss:0.0908: 100%|█████████████████████████████████████████████████████████████████████████████████████████████████████████████████| 9/9 [00:07<00:00,  1.26it/s]\n"
     ]
    },
    {
     "name": "stdout",
     "output_type": "stream",
     "text": [
      "best threshold: 0.5 best dice of epoch: 0.7853509946672159\n",
      "Mon Feb  6 20:28:07 2023 Fold 0, Epoch 70, lr: 0.0026252, train loss: 0.04198, valid loss: 0.09084, metric: 0.785351.\n",
      "Mon Feb  6 20:28:07 2023 Epoch: 71\n"
     ]
    },
    {
     "name": "stderr",
     "output_type": "stream",
     "text": [
      "smooth loss:0.0303: 100%|███████████████████████████████████████████████████████████████████████████████████████████████████████████████| 35/35 [00:26<00:00,  1.30it/s]\n",
      "smooth loss:0.0801: 100%|█████████████████████████████████████████████████████████████████████████████████████████████████████████████████| 9/9 [00:07<00:00,  1.25it/s]\n"
     ]
    },
    {
     "name": "stdout",
     "output_type": "stream",
     "text": [
      "best threshold: 0.5 best dice of epoch: 0.8178397030758888\n",
      "Mon Feb  6 20:28:41 2023 Fold 0, Epoch 71, lr: 0.0026147, train loss: 0.03060, valid loss: 0.08006, metric: 0.817840.\n",
      "Mon Feb  6 20:28:41 2023 Epoch: 72\n"
     ]
    },
    {
     "name": "stderr",
     "output_type": "stream",
     "text": [
      "smooth loss:0.0556: 100%|███████████████████████████████████████████████████████████████████████████████████████████████████████████████| 35/35 [00:27<00:00,  1.29it/s]\n",
      "smooth loss:0.0877: 100%|█████████████████████████████████████████████████████████████████████████████████████████████████████████████████████████| 9/9 [00:07<00:00,  1.26it/s]\n"
     ]
    },
    {
     "name": "stdout",
     "output_type": "stream",
     "text": [
      "best threshold: 0.5 best dice of epoch: 0.8111940894699317\n",
      "Mon Feb  6 20:29:15 2023 Fold 0, Epoch 72, lr: 0.0026041, train loss: 0.05581, valid loss: 0.08766, metric: 0.811194.\n",
      "Mon Feb  6 20:29:15 2023 Epoch: 73\n"
     ]
    },
    {
     "name": "stderr",
     "output_type": "stream",
     "text": [
      "smooth loss:0.0288: 100%|███████████████████████████████████████████████████████████████████████████████████████████████████████████████████████| 35/35 [00:27<00:00,  1.29it/s]\n",
      "smooth loss:0.0787: 100%|█████████████████████████████████████████████████████████████████████████████████████████████████████████████████████████| 9/9 [00:07<00:00,  1.25it/s]\n"
     ]
    },
    {
     "name": "stdout",
     "output_type": "stream",
     "text": [
      "best threshold: 0.5 best dice of epoch: 0.8159361632131769\n",
      "Mon Feb  6 20:29:49 2023 Fold 0, Epoch 73, lr: 0.0025935, train loss: 0.03606, valid loss: 0.07870, metric: 0.815936.\n",
      "Mon Feb  6 20:29:49 2023 Epoch: 74\n"
     ]
    },
    {
     "name": "stderr",
     "output_type": "stream",
     "text": [
      "smooth loss:0.0424: 100%|███████████████████████████████████████████████████████████████████████████████████████████████████████████████████████| 35/35 [00:26<00:00,  1.30it/s]\n",
      "smooth loss:0.0766: 100%|█████████████████████████████████████████████████████████████████████████████████████████████████████████████████████████| 9/9 [00:07<00:00,  1.25it/s]\n"
     ]
    },
    {
     "name": "stdout",
     "output_type": "stream",
     "text": [
      "best threshold: 0.5 best dice of epoch: 0.8131991348771852\n",
      "Mon Feb  6 20:30:24 2023 Fold 0, Epoch 74, lr: 0.0025826, train loss: 0.04040, valid loss: 0.07665, metric: 0.813199.\n",
      "Mon Feb  6 20:30:24 2023 Epoch: 75\n"
     ]
    },
    {
     "name": "stderr",
     "output_type": "stream",
     "text": [
      "smooth loss:0.0360: 100%|███████████████████████████████████████████████████████████████████████████████████████████████████████████████████████| 35/35 [00:27<00:00,  1.30it/s]\n",
      "smooth loss:0.0774: 100%|█████████████████████████████████████████████████████████████████████████████████████████████████████████████████████████| 9/9 [00:07<00:00,  1.25it/s]\n"
     ]
    },
    {
     "name": "stdout",
     "output_type": "stream",
     "text": [
      "best threshold: 0.5 best dice of epoch: 0.8112270500573655\n",
      "Mon Feb  6 20:30:58 2023 Fold 0, Epoch 75, lr: 0.0025717, train loss: 0.03545, valid loss: 0.07738, metric: 0.811227.\n",
      "Mon Feb  6 20:30:58 2023 Epoch: 76\n"
     ]
    },
    {
     "name": "stderr",
     "output_type": "stream",
     "text": [
      "smooth loss:0.0421: 100%|███████████████████████████████████████████████████████████████████████████████████████████████████████████████████████| 35/35 [00:27<00:00,  1.28it/s]\n",
      "smooth loss:0.0790: 100%|█████████████████████████████████████████████████████████████████████████████████████████████████████████████████████████| 9/9 [00:07<00:00,  1.25it/s]\n"
     ]
    },
    {
     "name": "stdout",
     "output_type": "stream",
     "text": [
      "best threshold: 0.5 best dice of epoch: 0.8195455585985859\n",
      "Mon Feb  6 20:31:32 2023 Fold 0, Epoch 76, lr: 0.0025607, train loss: 0.03973, valid loss: 0.07896, metric: 0.819546.\n",
      "Mon Feb  6 20:31:32 2023 Epoch: 77\n"
     ]
    },
    {
     "name": "stderr",
     "output_type": "stream",
     "text": [
      "smooth loss:0.0314: 100%|███████████████████████████████████████████████████████████████████████████████████████████████████████████████████████| 35/35 [00:27<00:00,  1.29it/s]\n",
      "smooth loss:0.0823: 100%|█████████████████████████████████████████████████████████████████████████████████████████████████████████████████████████| 9/9 [00:07<00:00,  1.25it/s]\n"
     ]
    },
    {
     "name": "stdout",
     "output_type": "stream",
     "text": [
      "best threshold: 0.5 best dice of epoch: 0.8074016709612959\n",
      "Mon Feb  6 20:32:07 2023 Fold 0, Epoch 77, lr: 0.0025495, train loss: 0.03083, valid loss: 0.08227, metric: 0.807402.\n",
      "Mon Feb  6 20:32:07 2023 Epoch: 78\n"
     ]
    },
    {
     "name": "stderr",
     "output_type": "stream",
     "text": [
      "smooth loss:0.0340: 100%|███████████████████████████████████████████████████████████████████████████████████████████████████████████████████████| 35/35 [00:26<00:00,  1.30it/s]\n",
      "smooth loss:0.0745: 100%|█████████████████████████████████████████████████████████████████████████████████████████████████████████████████████████| 9/9 [00:07<00:00,  1.26it/s]\n"
     ]
    },
    {
     "name": "stdout",
     "output_type": "stream",
     "text": [
      "best threshold: 0.5 best dice of epoch: 0.8196267190555058\n",
      "Mon Feb  6 20:32:41 2023 Fold 0, Epoch 78, lr: 0.0025382, train loss: 0.03445, valid loss: 0.07445, metric: 0.819627.\n",
      "Mon Feb  6 20:32:41 2023 Epoch: 79\n"
     ]
    },
    {
     "name": "stderr",
     "output_type": "stream",
     "text": [
      "smooth loss:0.0346: 100%|███████████████████████████████████████████████████████████████████████████████████████████████████████████████████████| 35/35 [00:26<00:00,  1.30it/s]\n",
      "smooth loss:0.0787: 100%|█████████████████████████████████████████████████████████████████████████████████████████████████████████████████████████| 9/9 [00:07<00:00,  1.26it/s]\n"
     ]
    },
    {
     "name": "stdout",
     "output_type": "stream",
     "text": [
      "best threshold: 0.5 best dice of epoch: 0.8166123166708364\n",
      "Mon Feb  6 20:33:15 2023 Fold 0, Epoch 79, lr: 0.0025268, train loss: 0.03317, valid loss: 0.07875, metric: 0.816612.\n",
      "Mon Feb  6 20:33:15 2023 Epoch: 80\n"
     ]
    },
    {
     "name": "stderr",
     "output_type": "stream",
     "text": [
      "smooth loss:0.0252: 100%|███████████████████████████████████████████████████████████████████████████████████████████████████████████████████████| 35/35 [00:26<00:00,  1.30it/s]\n",
      "smooth loss:0.0770: 100%|█████████████████████████████████████████████████████████████████████████████████████████████████████████████████████████| 9/9 [00:07<00:00,  1.27it/s]\n"
     ]
    },
    {
     "name": "stdout",
     "output_type": "stream",
     "text": [
      "best threshold: 0.5 best dice of epoch: 0.8188933503675591\n",
      "Mon Feb  6 20:33:49 2023 Fold 0, Epoch 80, lr: 0.0025153, train loss: 0.02602, valid loss: 0.07700, metric: 0.818893.\n",
      "Mon Feb  6 20:33:49 2023 Epoch: 81\n"
     ]
    },
    {
     "name": "stderr",
     "output_type": "stream",
     "text": [
      "smooth loss:0.0264: 100%|███████████████████████████████████████████████████████████████████████████████████████████████████████████████████████| 35/35 [00:26<00:00,  1.30it/s]\n",
      "smooth loss:0.0769: 100%|█████████████████████████████████████████████████████████████████████████████████████████████████████████████████████████| 9/9 [00:07<00:00,  1.25it/s]\n"
     ]
    },
    {
     "name": "stdout",
     "output_type": "stream",
     "text": [
      "best threshold: 0.5 best dice of epoch: 0.8219531825849689\n",
      "Mon Feb  6 20:34:23 2023 Fold 0, Epoch 81, lr: 0.0025037, train loss: 0.02604, valid loss: 0.07686, metric: 0.821953.\n",
      "Mon Feb  6 20:34:23 2023 Epoch: 82\n"
     ]
    },
    {
     "name": "stderr",
     "output_type": "stream",
     "text": [
      "smooth loss:0.0264: 100%|███████████████████████████████████████████████████████████████████████████████████████████████████████████████████████| 35/35 [00:26<00:00,  1.30it/s]\n",
      "smooth loss:0.0766: 100%|█████████████████████████████████████████████████████████████████████████████████████████████████████████████████████████| 9/9 [00:07<00:00,  1.25it/s]\n"
     ]
    },
    {
     "name": "stdout",
     "output_type": "stream",
     "text": [
      "best threshold: 0.5 best dice of epoch: 0.8201874132442292\n",
      "Mon Feb  6 20:34:57 2023 Fold 0, Epoch 82, lr: 0.0024920, train loss: 0.02645, valid loss: 0.07665, metric: 0.820187.\n",
      "Mon Feb  6 20:34:57 2023 Epoch: 83\n"
     ]
    },
    {
     "name": "stderr",
     "output_type": "stream",
     "text": [
      "smooth loss:0.0388: 100%|███████████████████████████████████████████████████████████████████████████████████████████████████████████████████████| 35/35 [00:26<00:00,  1.30it/s]\n",
      "smooth loss:0.1053: 100%|█████████████████████████████████████████████████████████████████████████████████████████████████████████████████████████| 9/9 [00:07<00:00,  1.25it/s]\n"
     ]
    },
    {
     "name": "stdout",
     "output_type": "stream",
     "text": [
      "best threshold: 0.5 best dice of epoch: 0.76108452083376\n",
      "Mon Feb  6 20:35:31 2023 Fold 0, Epoch 83, lr: 0.0024801, train loss: 0.03767, valid loss: 0.10530, metric: 0.761085.\n",
      "Mon Feb  6 20:35:31 2023 Epoch: 84\n"
     ]
    },
    {
     "name": "stderr",
     "output_type": "stream",
     "text": [
      "smooth loss:0.0257: 100%|███████████████████████████████████████████████████████████████████████████████████████████████████████████████████████| 35/35 [00:27<00:00,  1.29it/s]\n",
      "smooth loss:0.0894: 100%|█████████████████████████████████████████████████████████████████████████████████████████████████████████████████████████| 9/9 [00:07<00:00,  1.26it/s]\n"
     ]
    },
    {
     "name": "stdout",
     "output_type": "stream",
     "text": [
      "best threshold: 0.5 best dice of epoch: 0.7879163398820817\n",
      "Mon Feb  6 20:36:06 2023 Fold 0, Epoch 84, lr: 0.0024682, train loss: 0.03132, valid loss: 0.08943, metric: 0.787916.\n",
      "Mon Feb  6 20:36:06 2023 Epoch: 85\n"
     ]
    },
    {
     "name": "stderr",
     "output_type": "stream",
     "text": [
      "smooth loss:0.0285: 100%|███████████████████████████████████████████████████████████████████████████████████████████████████████████████████████| 35/35 [00:26<00:00,  1.30it/s]\n",
      "smooth loss:0.0965: 100%|█████████████████████████████████████████████████████████████████████████████████████████████████████████████████████████| 9/9 [00:07<00:00,  1.27it/s]\n"
     ]
    },
    {
     "name": "stdout",
     "output_type": "stream",
     "text": [
      "best threshold: 0.5 best dice of epoch: 0.7810576770020707\n",
      "Mon Feb  6 20:36:40 2023 Fold 0, Epoch 85, lr: 0.0024561, train loss: 0.03084, valid loss: 0.09654, metric: 0.781058.\n",
      "Mon Feb  6 20:36:40 2023 Epoch: 86\n"
     ]
    },
    {
     "name": "stderr",
     "output_type": "stream",
     "text": [
      "smooth loss:0.0365: 100%|███████████████████████████████████████████████████████████████████████████████████████████████████████████████████████| 35/35 [00:27<00:00,  1.30it/s]\n",
      "smooth loss:0.0851: 100%|█████████████████████████████████████████████████████████████████████████████████████████████████████████████████████████| 9/9 [00:07<00:00,  1.27it/s]\n"
     ]
    },
    {
     "name": "stdout",
     "output_type": "stream",
     "text": [
      "best threshold: 0.5 best dice of epoch: 0.7933721250265939\n",
      "Mon Feb  6 20:37:14 2023 Fold 0, Epoch 86, lr: 0.0024440, train loss: 0.03464, valid loss: 0.08511, metric: 0.793372.\n",
      "Mon Feb  6 20:37:14 2023 Epoch: 87\n"
     ]
    },
    {
     "name": "stderr",
     "output_type": "stream",
     "text": [
      "smooth loss:0.0238: 100%|███████████████████████████████████████████████████████████████████████████████████████████████████████████████████████| 35/35 [00:26<00:00,  1.30it/s]\n",
      "smooth loss:0.0882: 100%|█████████████████████████████████████████████████████████████████████████████████████████████████████████████████████████| 9/9 [00:07<00:00,  1.26it/s]\n"
     ]
    },
    {
     "name": "stdout",
     "output_type": "stream",
     "text": [
      "best threshold: 0.5 best dice of epoch: 0.8024843938737537\n",
      "Mon Feb  6 20:37:48 2023 Fold 0, Epoch 87, lr: 0.0024317, train loss: 0.02579, valid loss: 0.08817, metric: 0.802484.\n",
      "Mon Feb  6 20:37:48 2023 Epoch: 88\n"
     ]
    },
    {
     "name": "stderr",
     "output_type": "stream",
     "text": [
      "smooth loss:0.0311: 100%|███████████████████████████████████████████████████████████████████████████████████████████████████████████████████████| 35/35 [00:27<00:00,  1.29it/s]\n",
      "smooth loss:0.0877: 100%|█████████████████████████████████████████████████████████████████████████████████████████████████████████████████████████| 9/9 [00:07<00:00,  1.26it/s]\n"
     ]
    },
    {
     "name": "stdout",
     "output_type": "stream",
     "text": [
      "best threshold: 0.5 best dice of epoch: 0.7985721560174813\n",
      "Mon Feb  6 20:38:22 2023 Fold 0, Epoch 88, lr: 0.0024194, train loss: 0.03125, valid loss: 0.08773, metric: 0.798572.\n",
      "Mon Feb  6 20:38:22 2023 Epoch: 89\n"
     ]
    },
    {
     "name": "stderr",
     "output_type": "stream",
     "text": [
      "smooth loss:0.0260: 100%|███████████████████████████████████████████████████████████████████████████████████████████████████████████████████████| 35/35 [00:26<00:00,  1.30it/s]\n",
      "smooth loss:0.0875: 100%|█████████████████████████████████████████████████████████████████████████████████████████████████████████████████████████| 9/9 [00:07<00:00,  1.26it/s]\n"
     ]
    },
    {
     "name": "stdout",
     "output_type": "stream",
     "text": [
      "best threshold: 0.5 best dice of epoch: 0.7986549633803761\n",
      "Mon Feb  6 20:38:56 2023 Fold 0, Epoch 89, lr: 0.0024069, train loss: 0.02540, valid loss: 0.08750, metric: 0.798655.\n",
      "Mon Feb  6 20:38:56 2023 Epoch: 90\n"
     ]
    },
    {
     "name": "stderr",
     "output_type": "stream",
     "text": [
      "smooth loss:0.0373: 100%|███████████████████████████████████████████████████████████████████████████████████████████████████████████████████████| 35/35 [00:27<00:00,  1.29it/s]\n",
      "smooth loss:0.0929: 100%|█████████████████████████████████████████████████████████████████████████████████████████████████████████████████████████| 9/9 [00:07<00:00,  1.27it/s]\n"
     ]
    },
    {
     "name": "stdout",
     "output_type": "stream",
     "text": [
      "best threshold: 0.5 best dice of epoch: 0.7993809690939915\n",
      "Mon Feb  6 20:39:30 2023 Fold 0, Epoch 90, lr: 0.0023943, train loss: 0.03535, valid loss: 0.09295, metric: 0.799381.\n",
      "Mon Feb  6 20:39:30 2023 Epoch: 91\n"
     ]
    },
    {
     "name": "stderr",
     "output_type": "stream",
     "text": [
      "smooth loss:0.0304: 100%|███████████████████████████████████████████████████████████████████████████████████████████████████████████████████████| 35/35 [00:26<00:00,  1.30it/s]\n",
      "smooth loss:0.0910: 100%|█████████████████████████████████████████████████████████████████████████████████████████████████████████████████████████| 9/9 [00:07<00:00,  1.27it/s]\n"
     ]
    },
    {
     "name": "stdout",
     "output_type": "stream",
     "text": [
      "best threshold: 0.5 best dice of epoch: 0.7986403432876702\n",
      "Mon Feb  6 20:40:04 2023 Fold 0, Epoch 91, lr: 0.0023817, train loss: 0.02932, valid loss: 0.09105, metric: 0.798640.\n",
      "Mon Feb  6 20:40:04 2023 Epoch: 92\n"
     ]
    },
    {
     "name": "stderr",
     "output_type": "stream",
     "text": [
      "smooth loss:0.0337: 100%|███████████████████████████████████████████████████████████████████████████████████████████████████████████████████████| 35/35 [00:27<00:00,  1.29it/s]\n",
      "smooth loss:0.0999: 100%|█████████████████████████████████████████████████████████████████████████████████████████████████████████████████████████| 9/9 [00:07<00:00,  1.25it/s]\n"
     ]
    },
    {
     "name": "stdout",
     "output_type": "stream",
     "text": [
      "best threshold: 0.5 best dice of epoch: 0.7802255592987776\n",
      "Mon Feb  6 20:40:39 2023 Fold 0, Epoch 92, lr: 0.0023689, train loss: 0.03215, valid loss: 0.09988, metric: 0.780226.\n",
      "Mon Feb  6 20:40:39 2023 Epoch: 93\n"
     ]
    },
    {
     "name": "stderr",
     "output_type": "stream",
     "text": [
      "smooth loss:0.0314: 100%|███████████████████████████████████████████████████████████████████████████████████████████████████████████████████████| 35/35 [00:27<00:00,  1.30it/s]\n",
      "smooth loss:0.0982: 100%|█████████████████████████████████████████████████████████████████████████████████████████████████████████████████████████| 9/9 [00:07<00:00,  1.25it/s]\n"
     ]
    },
    {
     "name": "stdout",
     "output_type": "stream",
     "text": [
      "best threshold: 0.5 best dice of epoch: 0.7814701494972545\n",
      "Mon Feb  6 20:41:13 2023 Fold 0, Epoch 93, lr: 0.0023561, train loss: 0.03022, valid loss: 0.09816, metric: 0.781470.\n",
      "Mon Feb  6 20:41:13 2023 Epoch: 94\n"
     ]
    },
    {
     "name": "stderr",
     "output_type": "stream",
     "text": [
      "smooth loss:0.0372: 100%|███████████████████████████████████████████████████████████████████████████████████████████████████████████████████████| 35/35 [00:26<00:00,  1.30it/s]\n",
      "smooth loss:0.0917: 100%|█████████████████████████████████████████████████████████████████████████████████████████████████████████████████████████| 9/9 [00:07<00:00,  1.26it/s]\n"
     ]
    },
    {
     "name": "stdout",
     "output_type": "stream",
     "text": [
      "best threshold: 0.5 best dice of epoch: 0.801129024378437\n",
      "Mon Feb  6 20:41:47 2023 Fold 0, Epoch 94, lr: 0.0023431, train loss: 0.04183, valid loss: 0.09173, metric: 0.801129.\n",
      "Mon Feb  6 20:41:47 2023 Epoch: 95\n"
     ]
    },
    {
     "name": "stderr",
     "output_type": "stream",
     "text": [
      "smooth loss:0.0285: 100%|███████████████████████████████████████████████████████████████████████████████████████████████████████████████████████| 35/35 [00:26<00:00,  1.31it/s]\n",
      "smooth loss:0.0901: 100%|█████████████████████████████████████████████████████████████████████████████████████████████████████████████████████████| 9/9 [00:07<00:00,  1.25it/s]\n"
     ]
    },
    {
     "name": "stdout",
     "output_type": "stream",
     "text": [
      "best threshold: 0.5 best dice of epoch: 0.7981521971643224\n",
      "Mon Feb  6 20:42:21 2023 Fold 0, Epoch 95, lr: 0.0023301, train loss: 0.02935, valid loss: 0.09006, metric: 0.798152.\n",
      "Mon Feb  6 20:42:21 2023 Epoch: 96\n"
     ]
    },
    {
     "name": "stderr",
     "output_type": "stream",
     "text": [
      "smooth loss:0.0384: 100%|███████████████████████████████████████████████████████████████████████████████████████████████████████████████████████| 35/35 [00:26<00:00,  1.30it/s]\n",
      "smooth loss:0.0935: 100%|█████████████████████████████████████████████████████████████████████████████████████████████████████████████████████████| 9/9 [00:07<00:00,  1.26it/s]\n"
     ]
    },
    {
     "name": "stdout",
     "output_type": "stream",
     "text": [
      "best threshold: 0.5 best dice of epoch: 0.788519696977547\n",
      "Mon Feb  6 20:42:55 2023 Fold 0, Epoch 96, lr: 0.0023170, train loss: 0.03617, valid loss: 0.09351, metric: 0.788520.\n",
      "Mon Feb  6 20:42:55 2023 Epoch: 97\n"
     ]
    },
    {
     "name": "stderr",
     "output_type": "stream",
     "text": [
      "smooth loss:0.0410: 100%|███████████████████████████████████████████████████████████████████████████████████████████████████████████████████████| 35/35 [00:26<00:00,  1.30it/s]\n",
      "smooth loss:0.0922: 100%|█████████████████████████████████████████████████████████████████████████████████████████████████████████████████████████| 9/9 [00:07<00:00,  1.26it/s]\n"
     ]
    },
    {
     "name": "stdout",
     "output_type": "stream",
     "text": [
      "best threshold: 0.5 best dice of epoch: 0.7935667677046684\n",
      "Mon Feb  6 20:43:29 2023 Fold 0, Epoch 97, lr: 0.0023037, train loss: 0.03845, valid loss: 0.09216, metric: 0.793567.\n",
      "Mon Feb  6 20:43:29 2023 Epoch: 98\n"
     ]
    },
    {
     "name": "stderr",
     "output_type": "stream",
     "text": [
      "smooth loss:0.0397: 100%|███████████████████████████████████████████████████████████████████████████████████████████████████████████████████████| 35/35 [00:26<00:00,  1.30it/s]\n",
      "smooth loss:0.0989: 100%|█████████████████████████████████████████████████████████████████████████████████████████████████████████████████████████| 9/9 [00:07<00:00,  1.26it/s]\n"
     ]
    },
    {
     "name": "stdout",
     "output_type": "stream",
     "text": [
      "best threshold: 0.5 best dice of epoch: 0.7697025405544796\n",
      "Mon Feb  6 20:44:03 2023 Fold 0, Epoch 98, lr: 0.0022904, train loss: 0.03856, valid loss: 0.09885, metric: 0.769703.\n",
      "Mon Feb  6 20:44:03 2023 Epoch: 99\n"
     ]
    },
    {
     "name": "stderr",
     "output_type": "stream",
     "text": [
      "smooth loss:0.0434: 100%|███████████████████████████████████████████████████████████████████████████████████████████████████████████████████████| 35/35 [00:26<00:00,  1.30it/s]\n",
      "smooth loss:0.1087: 100%|█████████████████████████████████████████████████████████████████████████████████████████████████████████████████████████| 9/9 [00:07<00:00,  1.26it/s]\n"
     ]
    },
    {
     "name": "stdout",
     "output_type": "stream",
     "text": [
      "best threshold: 0.5 best dice of epoch: 0.7696405396825197\n",
      "Mon Feb  6 20:44:37 2023 Fold 0, Epoch 99, lr: 0.0022770, train loss: 0.04339, valid loss: 0.10866, metric: 0.769641.\n",
      "Mon Feb  6 20:44:37 2023 Epoch: 100\n"
     ]
    },
    {
     "name": "stderr",
     "output_type": "stream",
     "text": [
      "smooth loss:0.0377: 100%|███████████████████████████████████████████████████████████████████████████████████████████████████████████████████████| 35/35 [00:27<00:00,  1.27it/s]\n",
      "smooth loss:0.1220: 100%|█████████████████████████████████████████████████████████████████████████████████████████████████████████████████| 9/9 [00:07<00:00,  1.22it/s]\n"
     ]
    },
    {
     "name": "stdout",
     "output_type": "stream",
     "text": [
      "best threshold: 0.5 best dice of epoch: 0.7379305069949315\n",
      "Mon Feb  6 20:45:12 2023 Fold 0, Epoch 100, lr: 0.0022636, train loss: 0.03612, valid loss: 0.12196, metric: 0.737931.\n",
      "Mon Feb  6 20:45:12 2023 Epoch: 101\n"
     ]
    },
    {
     "name": "stderr",
     "output_type": "stream",
     "text": [
      "smooth loss:0.0285: 100%|███████████████████████████████████████████████████████████████████████████████████████████████████████████████| 35/35 [00:27<00:00,  1.26it/s]\n",
      "smooth loss:0.0950: 100%|█████████████████████████████████████████████████████████████████████████████████████████████████████████████████| 9/9 [00:07<00:00,  1.24it/s]\n"
     ]
    },
    {
     "name": "stdout",
     "output_type": "stream",
     "text": [
      "best threshold: 0.5 best dice of epoch: 0.7975928765872632\n",
      "Mon Feb  6 20:45:48 2023 Fold 0, Epoch 101, lr: 0.0022500, train loss: 0.02822, valid loss: 0.09502, metric: 0.797593.\n",
      "Mon Feb  6 20:45:48 2023 Epoch: 102\n"
     ]
    },
    {
     "name": "stderr",
     "output_type": "stream",
     "text": [
      "smooth loss:0.0280: 100%|███████████████████████████████████████████████████████████████████████████████████████████████████████████████| 35/35 [00:28<00:00,  1.25it/s]\n",
      "smooth loss:0.0950: 100%|█████████████████████████████████████████████████████████████████████████████████████████████████████████████████| 9/9 [00:07<00:00,  1.22it/s]\n"
     ]
    },
    {
     "name": "stdout",
     "output_type": "stream",
     "text": [
      "best threshold: 0.5 best dice of epoch: 0.7878000458359492\n",
      "Mon Feb  6 20:46:23 2023 Fold 0, Epoch 102, lr: 0.0022364, train loss: 0.02847, valid loss: 0.09502, metric: 0.787800.\n",
      "Mon Feb  6 20:46:23 2023 Epoch: 103\n"
     ]
    },
    {
     "name": "stderr",
     "output_type": "stream",
     "text": [
      "smooth loss:0.0336: 100%|███████████████████████████████████████████████████████████████████████████████████████████████████████████████| 35/35 [00:27<00:00,  1.27it/s]\n",
      "smooth loss:0.2304:  22%|█████████████████████████                                                                                        | 2/9 [00:03<00:11,  1.61s/it]\n"
     ]
    },
    {
     "ename": "KeyboardInterrupt",
     "evalue": "",
     "output_type": "error",
     "traceback": [
      "\u001b[0;31m---------------------------------------------------------------------------\u001b[0m",
      "\u001b[0;31mKeyboardInterrupt\u001b[0m                         Traceback (most recent call last)",
      "\u001b[0;32m/tmp/ipykernel_348678/1118381438.py\u001b[0m in \u001b[0;36m<module>\u001b[0;34m\u001b[0m\n\u001b[1;32m      2\u001b[0m \u001b[0;31m# during first execution do not run all folds in continuity. run every fold after kernel restart.\u001b[0m\u001b[0;34m\u001b[0m\u001b[0;34m\u001b[0m\u001b[0;34m\u001b[0m\u001b[0m\n\u001b[1;32m      3\u001b[0m \u001b[0;31m# during second execution of this cell, choose those weights which performed well from all folds.\u001b[0m\u001b[0;34m\u001b[0m\u001b[0;34m\u001b[0m\u001b[0;34m\u001b[0m\u001b[0m\n\u001b[0;32m----> 4\u001b[0;31m \u001b[0mrun\u001b[0m\u001b[0;34m(\u001b[0m\u001b[0;36m0\u001b[0m\u001b[0;34m)\u001b[0m\u001b[0;34m\u001b[0m\u001b[0;34m\u001b[0m\u001b[0m\n\u001b[0m\u001b[1;32m      5\u001b[0m \u001b[0;31m# run(1)\u001b[0m\u001b[0;34m\u001b[0m\u001b[0;34m\u001b[0m\u001b[0;34m\u001b[0m\u001b[0m\n\u001b[1;32m      6\u001b[0m \u001b[0;31m# run(2)\u001b[0m\u001b[0;34m\u001b[0m\u001b[0;34m\u001b[0m\u001b[0;34m\u001b[0m\u001b[0m\n",
      "\u001b[0;32m/tmp/ipykernel_348678/2750187804.py\u001b[0m in \u001b[0;36mrun\u001b[0;34m(fold)\u001b[0m\n\u001b[1;32m     47\u001b[0m         \u001b[0;31m# model training in train_func function\u001b[0m\u001b[0;34m\u001b[0m\u001b[0;34m\u001b[0m\u001b[0;34m\u001b[0m\u001b[0m\n\u001b[1;32m     48\u001b[0m         \u001b[0mtrain_loss\u001b[0m \u001b[0;34m=\u001b[0m \u001b[0mtrain_func\u001b[0m\u001b[0;34m(\u001b[0m\u001b[0mmodel\u001b[0m\u001b[0;34m,\u001b[0m \u001b[0mloader_train\u001b[0m\u001b[0;34m,\u001b[0m \u001b[0moptimizer\u001b[0m\u001b[0;34m,\u001b[0m \u001b[0mscaler\u001b[0m\u001b[0;34m)\u001b[0m\u001b[0;34m\u001b[0m\u001b[0;34m\u001b[0m\u001b[0m\n\u001b[0;32m---> 49\u001b[0;31m         \u001b[0mvalid_loss\u001b[0m\u001b[0;34m,\u001b[0m \u001b[0mmetric\u001b[0m \u001b[0;34m=\u001b[0m \u001b[0mvalid_func\u001b[0m\u001b[0;34m(\u001b[0m\u001b[0mmodel\u001b[0m\u001b[0;34m,\u001b[0m \u001b[0mloader_valid\u001b[0m\u001b[0;34m)\u001b[0m\u001b[0;34m\u001b[0m\u001b[0;34m\u001b[0m\u001b[0m\n\u001b[0m\u001b[1;32m     50\u001b[0m \u001b[0;34m\u001b[0m\u001b[0m\n\u001b[1;32m     51\u001b[0m         \u001b[0mcontent\u001b[0m \u001b[0;34m=\u001b[0m \u001b[0mtime\u001b[0m\u001b[0;34m.\u001b[0m\u001b[0mctime\u001b[0m\u001b[0;34m(\u001b[0m\u001b[0;34m)\u001b[0m \u001b[0;34m+\u001b[0m \u001b[0;34m' '\u001b[0m \u001b[0;34m+\u001b[0m \u001b[0;34mf'Fold {fold}, Epoch {epoch}, lr: {optimizer.param_groups[0][\"lr\"]:.7f}, train loss: {train_loss:.5f}, valid loss: {valid_loss:.5f}, metric: {(metric):.6f}.'\u001b[0m\u001b[0;34m\u001b[0m\u001b[0;34m\u001b[0m\u001b[0m\n",
      "\u001b[0;32m/tmp/ipykernel_348678/282726592.py\u001b[0m in \u001b[0;36mvalid_func\u001b[0;34m(model, loader_valid)\u001b[0m\n\u001b[1;32m    115\u001b[0m                     tmp = multilabel_dice_score(\n\u001b[1;32m    116\u001b[0m                         \u001b[0;31m# .cpu() => copy to cpu\u001b[0m\u001b[0;34m\u001b[0m\u001b[0;34m\u001b[0m\u001b[0;34m\u001b[0m\u001b[0m\n\u001b[0;32m--> 117\u001b[0;31m                         \u001b[0my_pred\u001b[0m\u001b[0;34m=\u001b[0m\u001b[0mlogits\u001b[0m\u001b[0;34m[\u001b[0m\u001b[0mi\u001b[0m\u001b[0;34m]\u001b[0m\u001b[0;34m.\u001b[0m\u001b[0msigmoid\u001b[0m\u001b[0;34m(\u001b[0m\u001b[0;34m)\u001b[0m\u001b[0;34m.\u001b[0m\u001b[0mcpu\u001b[0m\u001b[0;34m(\u001b[0m\u001b[0;34m)\u001b[0m\u001b[0;34m,\u001b[0m\u001b[0;34m\u001b[0m\u001b[0;34m\u001b[0m\u001b[0m\n\u001b[0m\u001b[1;32m    118\u001b[0m                         \u001b[0my_true\u001b[0m\u001b[0;34m=\u001b[0m\u001b[0mgt_masks\u001b[0m\u001b[0;34m[\u001b[0m\u001b[0mi\u001b[0m\u001b[0;34m]\u001b[0m\u001b[0;34m.\u001b[0m\u001b[0mcpu\u001b[0m\u001b[0;34m(\u001b[0m\u001b[0;34m)\u001b[0m\u001b[0;34m,\u001b[0m\u001b[0;34m\u001b[0m\u001b[0;34m\u001b[0m\u001b[0m\n\u001b[1;32m    119\u001b[0m                         \u001b[0mthreshold\u001b[0m\u001b[0;34m=\u001b[0m\u001b[0mth\u001b[0m\u001b[0;34m,\u001b[0m \u001b[0;31m# 0.5\u001b[0m\u001b[0;34m\u001b[0m\u001b[0;34m\u001b[0m\u001b[0m\n",
      "\u001b[0;31mKeyboardInterrupt\u001b[0m: "
     ]
    }
   ],
   "source": [
    "# execute this cell twice.\n",
    "# during first execution do not run all folds in continuity. run every fold after kernel restart.\n",
    "# during second execution of this cell, choose those weights which performed well from all folds.\n",
    "run(0)\n",
    "# run(1) \n",
    "# run(2)\n",
    "# run(3)\n",
    "# run(4)\n",
    "\n",
    "# maximum difference of 0.10 between \"smooth loss train\" and \"smooth loss valid\" is OK, otherwise reduce the lr."
   ]
  },
  {
   "cell_type": "code",
   "execution_count": null,
   "metadata": {},
   "outputs": [],
   "source": []
  }
 ],
 "metadata": {
  "kernelspec": {
   "display_name": "Python 3 (ipykernel)",
   "language": "python",
   "name": "python3"
  },
  "language_info": {
   "codemirror_mode": {
    "name": "ipython",
    "version": 3
   },
   "file_extension": ".py",
   "mimetype": "text/x-python",
   "name": "python",
   "nbconvert_exporter": "python",
   "pygments_lexer": "ipython3",
   "version": "3.7.12"
  }
 },
 "nbformat": 4,
 "nbformat_minor": 4
}
